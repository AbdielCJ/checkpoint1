{
  "nbformat": 4,
  "nbformat_minor": 0,
  "metadata": {
    "colab": {
      "name": "Breve análisis de Olist y del Embudo de Ventas.ipynb",
      "provenance": [],
      "collapsed_sections": [
        "eNjt3LekfL-4",
        "MNRO14lOfVIW",
        "AcbnUBkLfZl3",
        "TUFetFf_fjwz",
        "JuDwxfpnfowz",
        "Z7vo3z1Tffpe",
        "KqOOIf4FfsWu",
        "JfVZ9R7XfvnE",
        "WeasaDgEfxbJ",
        "OH-EmLkVfzUE",
        "0T9z3LKff1Iw",
        "IRm8gfqSf3Kz",
        "PgQ-WIMLf4pZ",
        "ESfDPt9Af51G",
        "ch8RH6bOf9zD",
        "jhbXIqPwzz4z",
        "P9hVv4Za0QDR",
        "77gPWWhR3GTp",
        "l1v9qtfb4Tfo",
        "R1uswIbtXHTx",
        "I8W41hjpN0iq",
        "Tmilig_Tjsgo",
        "7uSxoChrjvW2",
        "bXjICX5nmLms",
        "M1pB5EesmVuX",
        "EzX57h98ml8n",
        "BzM54dr8msx8",
        "8WI7_7lbN3rq",
        "Q4HbtDaGji7R",
        "fJno4iYYlv92",
        "KChvPeJDmBwn",
        "g9HshRjJOM8F",
        "tRUkMUu9m3iI",
        "J9Dqlepmjoc8",
        "2cHi9vKPm-_7",
        "IaEBO6WP10VJ",
        "x-0cISX2OUE1",
        "MKS7dva4n-bi",
        "nuL-5dB-oD75",
        "6s8bkVIKOWhi"
      ],
      "authorship_tag": "ABX9TyMiMhheZQV47PRNFEA5ycgm",
      "include_colab_link": true
    },
    "kernelspec": {
      "name": "python3",
      "display_name": "Python 3"
    }
  },
  "cells": [
    {
      "cell_type": "markdown",
      "metadata": {
        "id": "view-in-github",
        "colab_type": "text"
      },
      "source": [
        "<a href=\"https://colab.research.google.com/github/AbdielCJ/checkpoint1/blob/master/Breve_an%C3%A1lisis_de_Olist_y_del_Embudo_de_Ventas.ipynb\" target=\"_parent\"><img src=\"https://colab.research.google.com/assets/colab-badge.svg\" alt=\"Open In Colab\"/></a>"
      ]
    },
    {
      "cell_type": "markdown",
      "metadata": {
        "id": "eNjt3LekfL-4"
      },
      "source": [
        "# Librerías"
      ]
    },
    {
      "cell_type": "code",
      "metadata": {
        "id": "7NbhxamLQd-N"
      },
      "source": [
        "import pandas as pd\n",
        "import numpy as np\n",
        "import seaborn as sns\n",
        "import matplotlib.pyplot as plt"
      ],
      "execution_count": null,
      "outputs": []
    },
    {
      "cell_type": "markdown",
      "metadata": {
        "id": "MNRO14lOfVIW"
      },
      "source": [
        "# Lectura y limpieza de BBDD"
      ]
    },
    {
      "cell_type": "markdown",
      "metadata": {
        "id": "AcbnUBkLfZl3"
      },
      "source": [
        "## Funnel"
      ]
    },
    {
      "cell_type": "markdown",
      "metadata": {
        "id": "TUFetFf_fjwz"
      },
      "source": [
        "### 1 - MQL"
      ]
    },
    {
      "cell_type": "code",
      "metadata": {
        "colab": {
          "base_uri": "https://localhost:8080/"
        },
        "id": "qI2iUGMdRG-F",
        "outputId": "3a25988f-9c16-4794-ea46-98df7b50a1dd"
      },
      "source": [
        "mql = pd.read_csv('olist_marketing_qualified_leads_dataset.csv')\n",
        "mql_clean = mql.drop(columns=['first_contact_date', 'landing_page_id'])\n",
        "print(mql_clean.shape)\n",
        "mql_clean.head(3)"
      ],
      "execution_count": null,
      "outputs": [
        {
          "output_type": "stream",
          "text": [
            "(8000, 2)\n"
          ],
          "name": "stdout"
        },
        {
          "output_type": "execute_result",
          "data": {
            "text/html": [
              "<div>\n",
              "<style scoped>\n",
              "    .dataframe tbody tr th:only-of-type {\n",
              "        vertical-align: middle;\n",
              "    }\n",
              "\n",
              "    .dataframe tbody tr th {\n",
              "        vertical-align: top;\n",
              "    }\n",
              "\n",
              "    .dataframe thead th {\n",
              "        text-align: right;\n",
              "    }\n",
              "</style>\n",
              "<table border=\"1\" class=\"dataframe\">\n",
              "  <thead>\n",
              "    <tr style=\"text-align: right;\">\n",
              "      <th></th>\n",
              "      <th>mql_id</th>\n",
              "      <th>origin</th>\n",
              "    </tr>\n",
              "  </thead>\n",
              "  <tbody>\n",
              "    <tr>\n",
              "      <th>0</th>\n",
              "      <td>dac32acd4db4c29c230538b72f8dd87d</td>\n",
              "      <td>social</td>\n",
              "    </tr>\n",
              "    <tr>\n",
              "      <th>1</th>\n",
              "      <td>8c18d1de7f67e60dbd64e3c07d7e9d5d</td>\n",
              "      <td>paid_search</td>\n",
              "    </tr>\n",
              "    <tr>\n",
              "      <th>2</th>\n",
              "      <td>b4bc852d233dfefc5131f593b538befa</td>\n",
              "      <td>organic_search</td>\n",
              "    </tr>\n",
              "  </tbody>\n",
              "</table>\n",
              "</div>"
            ],
            "text/plain": [
              "                             mql_id          origin\n",
              "0  dac32acd4db4c29c230538b72f8dd87d          social\n",
              "1  8c18d1de7f67e60dbd64e3c07d7e9d5d     paid_search\n",
              "2  b4bc852d233dfefc5131f593b538befa  organic_search"
            ]
          },
          "metadata": {
            "tags": []
          },
          "execution_count": 17
        }
      ]
    },
    {
      "cell_type": "code",
      "metadata": {
        "colab": {
          "base_uri": "https://localhost:8080/"
        },
        "id": "z9nRftkyXm_Z",
        "outputId": "1d3d2d8f-3fb2-487f-d064-5b2ce9dab52d"
      },
      "source": [
        "mql_clean.isna().sum()"
      ],
      "execution_count": null,
      "outputs": [
        {
          "output_type": "execute_result",
          "data": {
            "text/plain": [
              "mql_id     0\n",
              "origin    60\n",
              "dtype: int64"
            ]
          },
          "metadata": {
            "tags": []
          },
          "execution_count": 18
        }
      ]
    },
    {
      "cell_type": "code",
      "metadata": {
        "id": "jVridered_vS"
      },
      "source": [
        "mql_clean = mql_clean.dropna()"
      ],
      "execution_count": null,
      "outputs": []
    },
    {
      "cell_type": "code",
      "metadata": {
        "colab": {
          "base_uri": "https://localhost:8080/"
        },
        "id": "T9M4H3XWeJ8Z",
        "outputId": "b9abe87c-85c7-404b-d3b5-3b87f1da3f90"
      },
      "source": [
        "mql_clean.isna().sum()"
      ],
      "execution_count": null,
      "outputs": [
        {
          "output_type": "execute_result",
          "data": {
            "text/plain": [
              "mql_id    0\n",
              "origin    0\n",
              "dtype: int64"
            ]
          },
          "metadata": {
            "tags": []
          },
          "execution_count": 20
        }
      ]
    },
    {
      "cell_type": "code",
      "metadata": {
        "colab": {
          "base_uri": "https://localhost:8080/"
        },
        "id": "2sG_rzLhwLxP",
        "outputId": "f90e1fa0-e06e-4021-805a-ed3afb600298"
      },
      "source": [
        "mql_clean.shape"
      ],
      "execution_count": null,
      "outputs": [
        {
          "output_type": "execute_result",
          "data": {
            "text/plain": [
              "(7940, 2)"
            ]
          },
          "metadata": {
            "tags": []
          },
          "execution_count": 21
        }
      ]
    },
    {
      "cell_type": "code",
      "metadata": {
        "colab": {
          "base_uri": "https://localhost:8080/"
        },
        "id": "UbUH_eGTcTXn",
        "outputId": "0d1dc5fe-4afa-4d66-a69c-c90ca3987552"
      },
      "source": [
        "mql_clean.dtypes"
      ],
      "execution_count": null,
      "outputs": [
        {
          "output_type": "execute_result",
          "data": {
            "text/plain": [
              "mql_id    object\n",
              "origin    object\n",
              "dtype: object"
            ]
          },
          "metadata": {
            "tags": []
          },
          "execution_count": 22
        }
      ]
    },
    {
      "cell_type": "markdown",
      "metadata": {
        "id": "JuDwxfpnfowz"
      },
      "source": [
        "### 2 - Tratos"
      ]
    },
    {
      "cell_type": "code",
      "metadata": {
        "colab": {
          "base_uri": "https://localhost:8080/"
        },
        "id": "YvYeL9fpRUO4",
        "outputId": "f54dd50e-aa15-4c79-cddd-ac30c576b9e3"
      },
      "source": [
        "deals = pd.read_csv('olist_closed_deals_dataset.csv')\n",
        "deals_clean = deals.drop(columns=['sdr_id', 'sr_id', 'won_date', 'has_gtin', 'average_stock', 'declared_product_catalog_size'])\n",
        "print(deals_clean.shape)\n",
        "deals_clean.head(3)"
      ],
      "execution_count": null,
      "outputs": [
        {
          "output_type": "stream",
          "text": [
            "(842, 8)\n"
          ],
          "name": "stdout"
        },
        {
          "output_type": "execute_result",
          "data": {
            "text/html": [
              "<div>\n",
              "<style scoped>\n",
              "    .dataframe tbody tr th:only-of-type {\n",
              "        vertical-align: middle;\n",
              "    }\n",
              "\n",
              "    .dataframe tbody tr th {\n",
              "        vertical-align: top;\n",
              "    }\n",
              "\n",
              "    .dataframe thead th {\n",
              "        text-align: right;\n",
              "    }\n",
              "</style>\n",
              "<table border=\"1\" class=\"dataframe\">\n",
              "  <thead>\n",
              "    <tr style=\"text-align: right;\">\n",
              "      <th></th>\n",
              "      <th>mql_id</th>\n",
              "      <th>seller_id</th>\n",
              "      <th>business_segment</th>\n",
              "      <th>lead_type</th>\n",
              "      <th>lead_behaviour_profile</th>\n",
              "      <th>has_company</th>\n",
              "      <th>business_type</th>\n",
              "      <th>declared_monthly_revenue</th>\n",
              "    </tr>\n",
              "  </thead>\n",
              "  <tbody>\n",
              "    <tr>\n",
              "      <th>0</th>\n",
              "      <td>5420aad7fec3549a85876ba1c529bd84</td>\n",
              "      <td>2c43fb513632d29b3b58df74816f1b06</td>\n",
              "      <td>pet</td>\n",
              "      <td>online_medium</td>\n",
              "      <td>cat</td>\n",
              "      <td>NaN</td>\n",
              "      <td>reseller</td>\n",
              "      <td>0</td>\n",
              "    </tr>\n",
              "    <tr>\n",
              "      <th>1</th>\n",
              "      <td>a555fb36b9368110ede0f043dfc3b9a0</td>\n",
              "      <td>bbb7d7893a450660432ea6652310ebb7</td>\n",
              "      <td>car_accessories</td>\n",
              "      <td>industry</td>\n",
              "      <td>eagle</td>\n",
              "      <td>NaN</td>\n",
              "      <td>reseller</td>\n",
              "      <td>0</td>\n",
              "    </tr>\n",
              "    <tr>\n",
              "      <th>2</th>\n",
              "      <td>327174d3648a2d047e8940d7d15204ca</td>\n",
              "      <td>612170e34b97004b3ba37eae81836b4c</td>\n",
              "      <td>home_appliances</td>\n",
              "      <td>online_big</td>\n",
              "      <td>cat</td>\n",
              "      <td>NaN</td>\n",
              "      <td>reseller</td>\n",
              "      <td>0</td>\n",
              "    </tr>\n",
              "  </tbody>\n",
              "</table>\n",
              "</div>"
            ],
            "text/plain": [
              "                             mql_id  ... declared_monthly_revenue\n",
              "0  5420aad7fec3549a85876ba1c529bd84  ...                        0\n",
              "1  a555fb36b9368110ede0f043dfc3b9a0  ...                        0\n",
              "2  327174d3648a2d047e8940d7d15204ca  ...                        0\n",
              "\n",
              "[3 rows x 8 columns]"
            ]
          },
          "metadata": {
            "tags": []
          },
          "execution_count": 23
        }
      ]
    },
    {
      "cell_type": "code",
      "metadata": {
        "colab": {
          "base_uri": "https://localhost:8080/"
        },
        "id": "J26SNej_Xnud",
        "outputId": "1ae6f06b-80d9-494e-bb94-6a367054d54d"
      },
      "source": [
        "deals_clean.isna().sum()"
      ],
      "execution_count": null,
      "outputs": [
        {
          "output_type": "execute_result",
          "data": {
            "text/plain": [
              "mql_id                        0\n",
              "seller_id                     0\n",
              "business_segment              1\n",
              "lead_type                     6\n",
              "lead_behaviour_profile      177\n",
              "has_company                 779\n",
              "business_type                10\n",
              "declared_monthly_revenue      0\n",
              "dtype: int64"
            ]
          },
          "metadata": {
            "tags": []
          },
          "execution_count": 24
        }
      ]
    },
    {
      "cell_type": "code",
      "metadata": {
        "id": "4FlPK1QsaQkS"
      },
      "source": [
        "deals_clean['has_company'] = deals_clean['has_company'].fillna(False)\n",
        "deals_clean['business_segment'] = deals_clean['business_segment'].fillna('Unknown')\n",
        "deals_clean['lead_type'] = deals_clean['lead_type'].fillna('Unknown')\n",
        "deals_clean['lead_behaviour_profile'] = deals_clean['lead_behaviour_profile'].fillna('Unknown')\n",
        "deals_clean['business_type'] = deals_clean['business_type'].fillna('Unknown')"
      ],
      "execution_count": null,
      "outputs": []
    },
    {
      "cell_type": "code",
      "metadata": {
        "colab": {
          "base_uri": "https://localhost:8080/"
        },
        "id": "CveGBxejePyX",
        "outputId": "e5327295-baf8-43e8-8482-6194d35ad3ea"
      },
      "source": [
        "deals_clean.isna().sum()"
      ],
      "execution_count": null,
      "outputs": [
        {
          "output_type": "execute_result",
          "data": {
            "text/plain": [
              "mql_id                      0\n",
              "seller_id                   0\n",
              "business_segment            0\n",
              "lead_type                   0\n",
              "lead_behaviour_profile      0\n",
              "has_company                 0\n",
              "business_type               0\n",
              "declared_monthly_revenue    0\n",
              "dtype: int64"
            ]
          },
          "metadata": {
            "tags": []
          },
          "execution_count": 26
        }
      ]
    },
    {
      "cell_type": "code",
      "metadata": {
        "colab": {
          "base_uri": "https://localhost:8080/"
        },
        "id": "IKjnt2nUZyzt",
        "outputId": "856973bb-6530-4059-c18e-d13d70c556c0"
      },
      "source": [
        "deals_clean.dtypes"
      ],
      "execution_count": null,
      "outputs": [
        {
          "output_type": "execute_result",
          "data": {
            "text/plain": [
              "mql_id                      object\n",
              "seller_id                   object\n",
              "business_segment            object\n",
              "lead_type                   object\n",
              "lead_behaviour_profile      object\n",
              "has_company                   bool\n",
              "business_type               object\n",
              "declared_monthly_revenue     int64\n",
              "dtype: object"
            ]
          },
          "metadata": {
            "tags": []
          },
          "execution_count": 27
        }
      ]
    },
    {
      "cell_type": "markdown",
      "metadata": {
        "id": "Z7vo3z1Tffpe"
      },
      "source": [
        "## E-Commerce"
      ]
    },
    {
      "cell_type": "markdown",
      "metadata": {
        "id": "KqOOIf4FfsWu"
      },
      "source": [
        "### 1 - Vendedores"
      ]
    },
    {
      "cell_type": "code",
      "metadata": {
        "colab": {
          "base_uri": "https://localhost:8080/"
        },
        "id": "xYDwa_GzReK5",
        "outputId": "ba30ec3e-4965-4da6-9087-a6d4f921dc25"
      },
      "source": [
        "sellers = pd.read_csv('olist_sellers_dataset.csv')\n",
        "sellers_clean = sellers.drop(columns=['seller_state'])\n",
        "print(sellers_clean.shape)\n",
        "sellers_clean.head(3)"
      ],
      "execution_count": null,
      "outputs": [
        {
          "output_type": "stream",
          "text": [
            "(3095, 3)\n"
          ],
          "name": "stdout"
        },
        {
          "output_type": "execute_result",
          "data": {
            "text/html": [
              "<div>\n",
              "<style scoped>\n",
              "    .dataframe tbody tr th:only-of-type {\n",
              "        vertical-align: middle;\n",
              "    }\n",
              "\n",
              "    .dataframe tbody tr th {\n",
              "        vertical-align: top;\n",
              "    }\n",
              "\n",
              "    .dataframe thead th {\n",
              "        text-align: right;\n",
              "    }\n",
              "</style>\n",
              "<table border=\"1\" class=\"dataframe\">\n",
              "  <thead>\n",
              "    <tr style=\"text-align: right;\">\n",
              "      <th></th>\n",
              "      <th>seller_id</th>\n",
              "      <th>seller_zip_code_prefix</th>\n",
              "      <th>seller_city</th>\n",
              "    </tr>\n",
              "  </thead>\n",
              "  <tbody>\n",
              "    <tr>\n",
              "      <th>0</th>\n",
              "      <td>3442f8959a84dea7ee197c632cb2df15</td>\n",
              "      <td>13023</td>\n",
              "      <td>campinas</td>\n",
              "    </tr>\n",
              "    <tr>\n",
              "      <th>1</th>\n",
              "      <td>d1b65fc7debc3361ea86b5f14c68d2e2</td>\n",
              "      <td>13844</td>\n",
              "      <td>mogi guacu</td>\n",
              "    </tr>\n",
              "    <tr>\n",
              "      <th>2</th>\n",
              "      <td>ce3ad9de960102d0677a81f5d0bb7b2d</td>\n",
              "      <td>20031</td>\n",
              "      <td>rio de janeiro</td>\n",
              "    </tr>\n",
              "  </tbody>\n",
              "</table>\n",
              "</div>"
            ],
            "text/plain": [
              "                          seller_id  seller_zip_code_prefix     seller_city\n",
              "0  3442f8959a84dea7ee197c632cb2df15                   13023        campinas\n",
              "1  d1b65fc7debc3361ea86b5f14c68d2e2                   13844      mogi guacu\n",
              "2  ce3ad9de960102d0677a81f5d0bb7b2d                   20031  rio de janeiro"
            ]
          },
          "metadata": {
            "tags": []
          },
          "execution_count": 28
        }
      ]
    },
    {
      "cell_type": "code",
      "metadata": {
        "colab": {
          "base_uri": "https://localhost:8080/"
        },
        "id": "sGzfb2RhXoXM",
        "outputId": "115e579f-65cb-4c48-ff44-c9accb3f3e76"
      },
      "source": [
        "sellers_clean.isna().sum()"
      ],
      "execution_count": null,
      "outputs": [
        {
          "output_type": "execute_result",
          "data": {
            "text/plain": [
              "seller_id                 0\n",
              "seller_zip_code_prefix    0\n",
              "seller_city               0\n",
              "dtype: int64"
            ]
          },
          "metadata": {
            "tags": []
          },
          "execution_count": 29
        }
      ]
    },
    {
      "cell_type": "code",
      "metadata": {
        "colab": {
          "base_uri": "https://localhost:8080/"
        },
        "id": "TKSHWpIOcbb7",
        "outputId": "d53db958-3794-4bbe-fdea-9c68fd15ac1a"
      },
      "source": [
        "sellers_clean.dtypes"
      ],
      "execution_count": null,
      "outputs": [
        {
          "output_type": "execute_result",
          "data": {
            "text/plain": [
              "seller_id                 object\n",
              "seller_zip_code_prefix     int64\n",
              "seller_city               object\n",
              "dtype: object"
            ]
          },
          "metadata": {
            "tags": []
          },
          "execution_count": 30
        }
      ]
    },
    {
      "cell_type": "markdown",
      "metadata": {
        "id": "JfVZ9R7XfvnE"
      },
      "source": [
        "### 2 - Geolocalización"
      ]
    },
    {
      "cell_type": "code",
      "metadata": {
        "colab": {
          "base_uri": "https://localhost:8080/"
        },
        "id": "i_M0J3ZlRrgF",
        "outputId": "b5031109-aeed-45f9-b0d4-df42994081f4"
      },
      "source": [
        "geolocation = pd.read_csv('olist_geolocation_dataset.csv')\n",
        "geolocation_clean = geolocation.drop(columns=['geolocation_state'])\n",
        "print(geolocation_clean.shape)\n",
        "geolocation_clean.head(3)"
      ],
      "execution_count": null,
      "outputs": [
        {
          "output_type": "stream",
          "text": [
            "(1000163, 4)\n"
          ],
          "name": "stdout"
        },
        {
          "output_type": "execute_result",
          "data": {
            "text/html": [
              "<div>\n",
              "<style scoped>\n",
              "    .dataframe tbody tr th:only-of-type {\n",
              "        vertical-align: middle;\n",
              "    }\n",
              "\n",
              "    .dataframe tbody tr th {\n",
              "        vertical-align: top;\n",
              "    }\n",
              "\n",
              "    .dataframe thead th {\n",
              "        text-align: right;\n",
              "    }\n",
              "</style>\n",
              "<table border=\"1\" class=\"dataframe\">\n",
              "  <thead>\n",
              "    <tr style=\"text-align: right;\">\n",
              "      <th></th>\n",
              "      <th>geolocation_zip_code_prefix</th>\n",
              "      <th>geolocation_lat</th>\n",
              "      <th>geolocation_lng</th>\n",
              "      <th>geolocation_city</th>\n",
              "    </tr>\n",
              "  </thead>\n",
              "  <tbody>\n",
              "    <tr>\n",
              "      <th>0</th>\n",
              "      <td>1037</td>\n",
              "      <td>-23.545621</td>\n",
              "      <td>-46.639292</td>\n",
              "      <td>sao paulo</td>\n",
              "    </tr>\n",
              "    <tr>\n",
              "      <th>1</th>\n",
              "      <td>1046</td>\n",
              "      <td>-23.546081</td>\n",
              "      <td>-46.644820</td>\n",
              "      <td>sao paulo</td>\n",
              "    </tr>\n",
              "    <tr>\n",
              "      <th>2</th>\n",
              "      <td>1046</td>\n",
              "      <td>-23.546129</td>\n",
              "      <td>-46.642951</td>\n",
              "      <td>sao paulo</td>\n",
              "    </tr>\n",
              "  </tbody>\n",
              "</table>\n",
              "</div>"
            ],
            "text/plain": [
              "   geolocation_zip_code_prefix  ...  geolocation_city\n",
              "0                         1037  ...         sao paulo\n",
              "1                         1046  ...         sao paulo\n",
              "2                         1046  ...         sao paulo\n",
              "\n",
              "[3 rows x 4 columns]"
            ]
          },
          "metadata": {
            "tags": []
          },
          "execution_count": 31
        }
      ]
    },
    {
      "cell_type": "code",
      "metadata": {
        "colab": {
          "base_uri": "https://localhost:8080/"
        },
        "id": "8_TBK6heXo9W",
        "outputId": "a3f3783c-6d1b-4098-e92e-8056d7b1b5de"
      },
      "source": [
        "geolocation_clean.isna().sum()"
      ],
      "execution_count": null,
      "outputs": [
        {
          "output_type": "execute_result",
          "data": {
            "text/plain": [
              "geolocation_zip_code_prefix    0\n",
              "geolocation_lat                0\n",
              "geolocation_lng                0\n",
              "geolocation_city               0\n",
              "dtype: int64"
            ]
          },
          "metadata": {
            "tags": []
          },
          "execution_count": 32
        }
      ]
    },
    {
      "cell_type": "code",
      "metadata": {
        "colab": {
          "base_uri": "https://localhost:8080/"
        },
        "id": "5sD7jEufcfr3",
        "outputId": "d0c0c5fb-f005-49ca-b391-b8ce2140bd2b"
      },
      "source": [
        "geolocation_clean.dtypes"
      ],
      "execution_count": null,
      "outputs": [
        {
          "output_type": "execute_result",
          "data": {
            "text/plain": [
              "geolocation_zip_code_prefix      int64\n",
              "geolocation_lat                float64\n",
              "geolocation_lng                float64\n",
              "geolocation_city                object\n",
              "dtype: object"
            ]
          },
          "metadata": {
            "tags": []
          },
          "execution_count": 33
        }
      ]
    },
    {
      "cell_type": "markdown",
      "metadata": {
        "id": "WeasaDgEfxbJ"
      },
      "source": [
        "### 3 - Clientes"
      ]
    },
    {
      "cell_type": "code",
      "metadata": {
        "colab": {
          "base_uri": "https://localhost:8080/"
        },
        "id": "by85eZ_NRyNz",
        "outputId": "b69f6df1-dfce-44ce-f898-e4d8144fd41e"
      },
      "source": [
        "customers = pd.read_csv('olist_customers_dataset.csv')\n",
        "customers_clean = customers.drop(columns=['customer_unique_id', 'customer_state'])\n",
        "print(customers_clean.shape)\n",
        "customers_clean.head(3)"
      ],
      "execution_count": null,
      "outputs": [
        {
          "output_type": "stream",
          "text": [
            "(99441, 3)\n"
          ],
          "name": "stdout"
        },
        {
          "output_type": "execute_result",
          "data": {
            "text/html": [
              "<div>\n",
              "<style scoped>\n",
              "    .dataframe tbody tr th:only-of-type {\n",
              "        vertical-align: middle;\n",
              "    }\n",
              "\n",
              "    .dataframe tbody tr th {\n",
              "        vertical-align: top;\n",
              "    }\n",
              "\n",
              "    .dataframe thead th {\n",
              "        text-align: right;\n",
              "    }\n",
              "</style>\n",
              "<table border=\"1\" class=\"dataframe\">\n",
              "  <thead>\n",
              "    <tr style=\"text-align: right;\">\n",
              "      <th></th>\n",
              "      <th>customer_id</th>\n",
              "      <th>customer_zip_code_prefix</th>\n",
              "      <th>customer_city</th>\n",
              "    </tr>\n",
              "  </thead>\n",
              "  <tbody>\n",
              "    <tr>\n",
              "      <th>0</th>\n",
              "      <td>06b8999e2fba1a1fbc88172c00ba8bc7</td>\n",
              "      <td>14409</td>\n",
              "      <td>franca</td>\n",
              "    </tr>\n",
              "    <tr>\n",
              "      <th>1</th>\n",
              "      <td>18955e83d337fd6b2def6b18a428ac77</td>\n",
              "      <td>9790</td>\n",
              "      <td>sao bernardo do campo</td>\n",
              "    </tr>\n",
              "    <tr>\n",
              "      <th>2</th>\n",
              "      <td>4e7b3e00288586ebd08712fdd0374a03</td>\n",
              "      <td>1151</td>\n",
              "      <td>sao paulo</td>\n",
              "    </tr>\n",
              "  </tbody>\n",
              "</table>\n",
              "</div>"
            ],
            "text/plain": [
              "                        customer_id  ...          customer_city\n",
              "0  06b8999e2fba1a1fbc88172c00ba8bc7  ...                 franca\n",
              "1  18955e83d337fd6b2def6b18a428ac77  ...  sao bernardo do campo\n",
              "2  4e7b3e00288586ebd08712fdd0374a03  ...              sao paulo\n",
              "\n",
              "[3 rows x 3 columns]"
            ]
          },
          "metadata": {
            "tags": []
          },
          "execution_count": 34
        }
      ]
    },
    {
      "cell_type": "code",
      "metadata": {
        "colab": {
          "base_uri": "https://localhost:8080/"
        },
        "id": "F_PboWdlXpto",
        "outputId": "36174577-89e8-4807-f05d-d520d23b5db2"
      },
      "source": [
        "customers_clean.isna().sum()"
      ],
      "execution_count": null,
      "outputs": [
        {
          "output_type": "execute_result",
          "data": {
            "text/plain": [
              "customer_id                 0\n",
              "customer_zip_code_prefix    0\n",
              "customer_city               0\n",
              "dtype: int64"
            ]
          },
          "metadata": {
            "tags": []
          },
          "execution_count": 35
        }
      ]
    },
    {
      "cell_type": "code",
      "metadata": {
        "colab": {
          "base_uri": "https://localhost:8080/"
        },
        "id": "bBAA15ybcj0e",
        "outputId": "6ad86c8a-7402-4442-95dc-b8b8351f6b5b"
      },
      "source": [
        "customers_clean.dtypes"
      ],
      "execution_count": null,
      "outputs": [
        {
          "output_type": "execute_result",
          "data": {
            "text/plain": [
              "customer_id                 object\n",
              "customer_zip_code_prefix     int64\n",
              "customer_city               object\n",
              "dtype: object"
            ]
          },
          "metadata": {
            "tags": []
          },
          "execution_count": 36
        }
      ]
    },
    {
      "cell_type": "markdown",
      "metadata": {
        "id": "OH-EmLkVfzUE"
      },
      "source": [
        "### 4 - Órdenes"
      ]
    },
    {
      "cell_type": "code",
      "metadata": {
        "colab": {
          "base_uri": "https://localhost:8080/"
        },
        "id": "Q1MFZXkuR4w_",
        "outputId": "9ac3ef71-12c1-41ed-8599-07516f7aa6f4"
      },
      "source": [
        "orders = pd.read_csv('olist_orders_dataset.csv')\n",
        "orders_clean = orders.drop(columns=['order_purchase_timestamp', 'order_approved_at', 'order_delivered_carrier_date', 'order_delivered_customer_date', 'order_estimated_delivery_date'])\n",
        "print(orders_clean.shape)\n",
        "orders_clean.head(3)"
      ],
      "execution_count": null,
      "outputs": [
        {
          "output_type": "stream",
          "text": [
            "(99441, 3)\n"
          ],
          "name": "stdout"
        },
        {
          "output_type": "execute_result",
          "data": {
            "text/html": [
              "<div>\n",
              "<style scoped>\n",
              "    .dataframe tbody tr th:only-of-type {\n",
              "        vertical-align: middle;\n",
              "    }\n",
              "\n",
              "    .dataframe tbody tr th {\n",
              "        vertical-align: top;\n",
              "    }\n",
              "\n",
              "    .dataframe thead th {\n",
              "        text-align: right;\n",
              "    }\n",
              "</style>\n",
              "<table border=\"1\" class=\"dataframe\">\n",
              "  <thead>\n",
              "    <tr style=\"text-align: right;\">\n",
              "      <th></th>\n",
              "      <th>order_id</th>\n",
              "      <th>customer_id</th>\n",
              "      <th>order_status</th>\n",
              "    </tr>\n",
              "  </thead>\n",
              "  <tbody>\n",
              "    <tr>\n",
              "      <th>0</th>\n",
              "      <td>e481f51cbdc54678b7cc49136f2d6af7</td>\n",
              "      <td>9ef432eb6251297304e76186b10a928d</td>\n",
              "      <td>delivered</td>\n",
              "    </tr>\n",
              "    <tr>\n",
              "      <th>1</th>\n",
              "      <td>53cdb2fc8bc7dce0b6741e2150273451</td>\n",
              "      <td>b0830fb4747a6c6d20dea0b8c802d7ef</td>\n",
              "      <td>delivered</td>\n",
              "    </tr>\n",
              "    <tr>\n",
              "      <th>2</th>\n",
              "      <td>47770eb9100c2d0c44946d9cf07ec65d</td>\n",
              "      <td>41ce2a54c0b03bf3443c3d931a367089</td>\n",
              "      <td>delivered</td>\n",
              "    </tr>\n",
              "  </tbody>\n",
              "</table>\n",
              "</div>"
            ],
            "text/plain": [
              "                           order_id  ... order_status\n",
              "0  e481f51cbdc54678b7cc49136f2d6af7  ...    delivered\n",
              "1  53cdb2fc8bc7dce0b6741e2150273451  ...    delivered\n",
              "2  47770eb9100c2d0c44946d9cf07ec65d  ...    delivered\n",
              "\n",
              "[3 rows x 3 columns]"
            ]
          },
          "metadata": {
            "tags": []
          },
          "execution_count": 37
        }
      ]
    },
    {
      "cell_type": "code",
      "metadata": {
        "colab": {
          "base_uri": "https://localhost:8080/"
        },
        "id": "fSU-N-TLXqWK",
        "outputId": "285b2256-9cae-4ded-f0e1-e359bea577bc"
      },
      "source": [
        "orders_clean.isna().sum()"
      ],
      "execution_count": null,
      "outputs": [
        {
          "output_type": "execute_result",
          "data": {
            "text/plain": [
              "order_id        0\n",
              "customer_id     0\n",
              "order_status    0\n",
              "dtype: int64"
            ]
          },
          "metadata": {
            "tags": []
          },
          "execution_count": 38
        }
      ]
    },
    {
      "cell_type": "code",
      "metadata": {
        "colab": {
          "base_uri": "https://localhost:8080/"
        },
        "id": "r2Hrp4uLcorn",
        "outputId": "e3a7ad44-4e25-4a65-f8f2-30b37e44116d"
      },
      "source": [
        "orders_clean.dtypes"
      ],
      "execution_count": null,
      "outputs": [
        {
          "output_type": "execute_result",
          "data": {
            "text/plain": [
              "order_id        object\n",
              "customer_id     object\n",
              "order_status    object\n",
              "dtype: object"
            ]
          },
          "metadata": {
            "tags": []
          },
          "execution_count": 39
        }
      ]
    },
    {
      "cell_type": "markdown",
      "metadata": {
        "id": "0T9z3LKff1Iw"
      },
      "source": [
        "### 5 - Artículos ordenados"
      ]
    },
    {
      "cell_type": "code",
      "metadata": {
        "colab": {
          "base_uri": "https://localhost:8080/"
        },
        "id": "zu81S7clSALU",
        "outputId": "2ed1ae68-a1f8-4a0a-c1b6-8440ff181c0e"
      },
      "source": [
        "order_items = pd.read_csv('olist_order_items_dataset.csv')\n",
        "order_items_clean = order_items.drop(columns = ['shipping_limit_date', 'freight_value'])\n",
        "print(order_items_clean.shape)\n",
        "order_items_clean.head(3)"
      ],
      "execution_count": null,
      "outputs": [
        {
          "output_type": "stream",
          "text": [
            "(112650, 5)\n"
          ],
          "name": "stdout"
        },
        {
          "output_type": "execute_result",
          "data": {
            "text/html": [
              "<div>\n",
              "<style scoped>\n",
              "    .dataframe tbody tr th:only-of-type {\n",
              "        vertical-align: middle;\n",
              "    }\n",
              "\n",
              "    .dataframe tbody tr th {\n",
              "        vertical-align: top;\n",
              "    }\n",
              "\n",
              "    .dataframe thead th {\n",
              "        text-align: right;\n",
              "    }\n",
              "</style>\n",
              "<table border=\"1\" class=\"dataframe\">\n",
              "  <thead>\n",
              "    <tr style=\"text-align: right;\">\n",
              "      <th></th>\n",
              "      <th>order_id</th>\n",
              "      <th>order_item_id</th>\n",
              "      <th>product_id</th>\n",
              "      <th>seller_id</th>\n",
              "      <th>price</th>\n",
              "    </tr>\n",
              "  </thead>\n",
              "  <tbody>\n",
              "    <tr>\n",
              "      <th>0</th>\n",
              "      <td>00010242fe8c5a6d1ba2dd792cb16214</td>\n",
              "      <td>1</td>\n",
              "      <td>4244733e06e7ecb4970a6e2683c13e61</td>\n",
              "      <td>48436dade18ac8b2bce089ec2a041202</td>\n",
              "      <td>58.9</td>\n",
              "    </tr>\n",
              "    <tr>\n",
              "      <th>1</th>\n",
              "      <td>00018f77f2f0320c557190d7a144bdd3</td>\n",
              "      <td>1</td>\n",
              "      <td>e5f2d52b802189ee658865ca93d83a8f</td>\n",
              "      <td>dd7ddc04e1b6c2c614352b383efe2d36</td>\n",
              "      <td>239.9</td>\n",
              "    </tr>\n",
              "    <tr>\n",
              "      <th>2</th>\n",
              "      <td>000229ec398224ef6ca0657da4fc703e</td>\n",
              "      <td>1</td>\n",
              "      <td>c777355d18b72b67abbeef9df44fd0fd</td>\n",
              "      <td>5b51032eddd242adc84c38acab88f23d</td>\n",
              "      <td>199.0</td>\n",
              "    </tr>\n",
              "  </tbody>\n",
              "</table>\n",
              "</div>"
            ],
            "text/plain": [
              "                           order_id  ...  price\n",
              "0  00010242fe8c5a6d1ba2dd792cb16214  ...   58.9\n",
              "1  00018f77f2f0320c557190d7a144bdd3  ...  239.9\n",
              "2  000229ec398224ef6ca0657da4fc703e  ...  199.0\n",
              "\n",
              "[3 rows x 5 columns]"
            ]
          },
          "metadata": {
            "tags": []
          },
          "execution_count": 40
        }
      ]
    },
    {
      "cell_type": "code",
      "metadata": {
        "colab": {
          "base_uri": "https://localhost:8080/"
        },
        "id": "8hhGC069Xqwz",
        "outputId": "c41959e6-0b87-4de6-93de-1b24a4e227d3"
      },
      "source": [
        "order_items_clean.isna().sum()"
      ],
      "execution_count": null,
      "outputs": [
        {
          "output_type": "execute_result",
          "data": {
            "text/plain": [
              "order_id         0\n",
              "order_item_id    0\n",
              "product_id       0\n",
              "seller_id        0\n",
              "price            0\n",
              "dtype: int64"
            ]
          },
          "metadata": {
            "tags": []
          },
          "execution_count": 41
        }
      ]
    },
    {
      "cell_type": "code",
      "metadata": {
        "colab": {
          "base_uri": "https://localhost:8080/"
        },
        "id": "PpAqjUVzcsLy",
        "outputId": "088ed79c-d85e-47b2-ec40-eb9b4fcf155a"
      },
      "source": [
        "order_items_clean.dtypes"
      ],
      "execution_count": null,
      "outputs": [
        {
          "output_type": "execute_result",
          "data": {
            "text/plain": [
              "order_id          object\n",
              "order_item_id      int64\n",
              "product_id        object\n",
              "seller_id         object\n",
              "price            float64\n",
              "dtype: object"
            ]
          },
          "metadata": {
            "tags": []
          },
          "execution_count": 42
        }
      ]
    },
    {
      "cell_type": "markdown",
      "metadata": {
        "id": "IRm8gfqSf3Kz"
      },
      "source": [
        "### 6 - Productos"
      ]
    },
    {
      "cell_type": "code",
      "metadata": {
        "colab": {
          "base_uri": "https://localhost:8080/"
        },
        "id": "_E3df0A-SID5",
        "outputId": "bd30ee3e-0cef-415f-8114-2c29fffcb0e6"
      },
      "source": [
        "products = pd.read_csv('olist_products_dataset.csv')\n",
        "products_clean = products.drop(columns=['product_name_lenght', 'product_description_lenght', 'product_photos_qty', 'product_weight_g', 'product_length_cm', 'product_height_cm', 'product_width_cm'])\n",
        "print(products_clean.shape)\n",
        "products_clean.head(3)"
      ],
      "execution_count": null,
      "outputs": [
        {
          "output_type": "stream",
          "text": [
            "(32951, 2)\n"
          ],
          "name": "stdout"
        },
        {
          "output_type": "execute_result",
          "data": {
            "text/html": [
              "<div>\n",
              "<style scoped>\n",
              "    .dataframe tbody tr th:only-of-type {\n",
              "        vertical-align: middle;\n",
              "    }\n",
              "\n",
              "    .dataframe tbody tr th {\n",
              "        vertical-align: top;\n",
              "    }\n",
              "\n",
              "    .dataframe thead th {\n",
              "        text-align: right;\n",
              "    }\n",
              "</style>\n",
              "<table border=\"1\" class=\"dataframe\">\n",
              "  <thead>\n",
              "    <tr style=\"text-align: right;\">\n",
              "      <th></th>\n",
              "      <th>product_id</th>\n",
              "      <th>product_category_name</th>\n",
              "    </tr>\n",
              "  </thead>\n",
              "  <tbody>\n",
              "    <tr>\n",
              "      <th>0</th>\n",
              "      <td>1e9e8ef04dbcff4541ed26657ea517e5</td>\n",
              "      <td>perfumaria</td>\n",
              "    </tr>\n",
              "    <tr>\n",
              "      <th>1</th>\n",
              "      <td>3aa071139cb16b67ca9e5dea641aaa2f</td>\n",
              "      <td>artes</td>\n",
              "    </tr>\n",
              "    <tr>\n",
              "      <th>2</th>\n",
              "      <td>96bd76ec8810374ed1b65e291975717f</td>\n",
              "      <td>esporte_lazer</td>\n",
              "    </tr>\n",
              "  </tbody>\n",
              "</table>\n",
              "</div>"
            ],
            "text/plain": [
              "                         product_id product_category_name\n",
              "0  1e9e8ef04dbcff4541ed26657ea517e5            perfumaria\n",
              "1  3aa071139cb16b67ca9e5dea641aaa2f                 artes\n",
              "2  96bd76ec8810374ed1b65e291975717f         esporte_lazer"
            ]
          },
          "metadata": {
            "tags": []
          },
          "execution_count": 43
        }
      ]
    },
    {
      "cell_type": "code",
      "metadata": {
        "colab": {
          "base_uri": "https://localhost:8080/"
        },
        "id": "X-Rv-T1yXrdB",
        "outputId": "86264879-588b-4ca4-869b-5c43b3e9adcb"
      },
      "source": [
        "products_clean.isna().sum()"
      ],
      "execution_count": null,
      "outputs": [
        {
          "output_type": "execute_result",
          "data": {
            "text/plain": [
              "product_id                 0\n",
              "product_category_name    610\n",
              "dtype: int64"
            ]
          },
          "metadata": {
            "tags": []
          },
          "execution_count": 44
        }
      ]
    },
    {
      "cell_type": "code",
      "metadata": {
        "id": "StmFaqmeewva"
      },
      "source": [
        "products_clean['product_category_name'] = products_clean['product_category_name'].fillna('Unknown')"
      ],
      "execution_count": null,
      "outputs": []
    },
    {
      "cell_type": "code",
      "metadata": {
        "colab": {
          "base_uri": "https://localhost:8080/"
        },
        "id": "kdrHBASte4EB",
        "outputId": "92d46bfa-d867-4fdf-d065-28bb0564c29e"
      },
      "source": [
        "products_clean.isna().sum()"
      ],
      "execution_count": null,
      "outputs": [
        {
          "output_type": "execute_result",
          "data": {
            "text/plain": [
              "product_id               0\n",
              "product_category_name    0\n",
              "dtype: int64"
            ]
          },
          "metadata": {
            "tags": []
          },
          "execution_count": 46
        }
      ]
    },
    {
      "cell_type": "code",
      "metadata": {
        "colab": {
          "base_uri": "https://localhost:8080/"
        },
        "id": "67OZLXQYcxRx",
        "outputId": "21c86797-c13a-49d1-f846-6a8c981ce721"
      },
      "source": [
        "products_clean.dtypes"
      ],
      "execution_count": null,
      "outputs": [
        {
          "output_type": "execute_result",
          "data": {
            "text/plain": [
              "product_id               object\n",
              "product_category_name    object\n",
              "dtype: object"
            ]
          },
          "metadata": {
            "tags": []
          },
          "execution_count": 47
        }
      ]
    },
    {
      "cell_type": "markdown",
      "metadata": {
        "id": "PgQ-WIMLf4pZ"
      },
      "source": [
        "### 7 - Pagos"
      ]
    },
    {
      "cell_type": "code",
      "metadata": {
        "colab": {
          "base_uri": "https://localhost:8080/"
        },
        "id": "Fxf-ed3hSPj6",
        "outputId": "4690d430-4631-4705-991a-8788c665c75e"
      },
      "source": [
        "payments = pd.read_csv('olist_order_payments_dataset.csv')\n",
        "payments_clean = payments.drop(columns = ['payment_sequential', 'payment_installments'])\n",
        "print(payments_clean.shape)\n",
        "payments_clean.head(3)"
      ],
      "execution_count": null,
      "outputs": [
        {
          "output_type": "stream",
          "text": [
            "(103886, 3)\n"
          ],
          "name": "stdout"
        },
        {
          "output_type": "execute_result",
          "data": {
            "text/html": [
              "<div>\n",
              "<style scoped>\n",
              "    .dataframe tbody tr th:only-of-type {\n",
              "        vertical-align: middle;\n",
              "    }\n",
              "\n",
              "    .dataframe tbody tr th {\n",
              "        vertical-align: top;\n",
              "    }\n",
              "\n",
              "    .dataframe thead th {\n",
              "        text-align: right;\n",
              "    }\n",
              "</style>\n",
              "<table border=\"1\" class=\"dataframe\">\n",
              "  <thead>\n",
              "    <tr style=\"text-align: right;\">\n",
              "      <th></th>\n",
              "      <th>order_id</th>\n",
              "      <th>payment_type</th>\n",
              "      <th>payment_value</th>\n",
              "    </tr>\n",
              "  </thead>\n",
              "  <tbody>\n",
              "    <tr>\n",
              "      <th>0</th>\n",
              "      <td>b81ef226f3fe1789b1e8b2acac839d17</td>\n",
              "      <td>credit_card</td>\n",
              "      <td>99.33</td>\n",
              "    </tr>\n",
              "    <tr>\n",
              "      <th>1</th>\n",
              "      <td>a9810da82917af2d9aefd1278f1dcfa0</td>\n",
              "      <td>credit_card</td>\n",
              "      <td>24.39</td>\n",
              "    </tr>\n",
              "    <tr>\n",
              "      <th>2</th>\n",
              "      <td>25e8ea4e93396b6fa0d3dd708e76c1bd</td>\n",
              "      <td>credit_card</td>\n",
              "      <td>65.71</td>\n",
              "    </tr>\n",
              "  </tbody>\n",
              "</table>\n",
              "</div>"
            ],
            "text/plain": [
              "                           order_id payment_type  payment_value\n",
              "0  b81ef226f3fe1789b1e8b2acac839d17  credit_card          99.33\n",
              "1  a9810da82917af2d9aefd1278f1dcfa0  credit_card          24.39\n",
              "2  25e8ea4e93396b6fa0d3dd708e76c1bd  credit_card          65.71"
            ]
          },
          "metadata": {
            "tags": []
          },
          "execution_count": 48
        }
      ]
    },
    {
      "cell_type": "code",
      "metadata": {
        "colab": {
          "base_uri": "https://localhost:8080/"
        },
        "id": "UKvlzu64XsC0",
        "outputId": "ce0477dc-d60c-4ee7-bc78-cc470c350742"
      },
      "source": [
        "payments_clean.isna().sum()"
      ],
      "execution_count": null,
      "outputs": [
        {
          "output_type": "execute_result",
          "data": {
            "text/plain": [
              "order_id         0\n",
              "payment_type     0\n",
              "payment_value    0\n",
              "dtype: int64"
            ]
          },
          "metadata": {
            "tags": []
          },
          "execution_count": 49
        }
      ]
    },
    {
      "cell_type": "code",
      "metadata": {
        "colab": {
          "base_uri": "https://localhost:8080/"
        },
        "id": "s_15VTHIc2o0",
        "outputId": "86487630-a7cd-408f-e04e-c734e234d877"
      },
      "source": [
        "payments_clean.dtypes"
      ],
      "execution_count": null,
      "outputs": [
        {
          "output_type": "execute_result",
          "data": {
            "text/plain": [
              "order_id          object\n",
              "payment_type      object\n",
              "payment_value    float64\n",
              "dtype: object"
            ]
          },
          "metadata": {
            "tags": []
          },
          "execution_count": 50
        }
      ]
    },
    {
      "cell_type": "markdown",
      "metadata": {
        "id": "ESfDPt9Af51G"
      },
      "source": [
        "### 8 - Reseñas"
      ]
    },
    {
      "cell_type": "code",
      "metadata": {
        "colab": {
          "base_uri": "https://localhost:8080/"
        },
        "id": "5tKddyBRSWOv",
        "outputId": "0d54b765-2a47-48d4-efe2-3dbea271c924"
      },
      "source": [
        "reviews = pd.read_csv('olist_order_reviews_dataset.csv')\n",
        "reviews_clean = reviews.drop(columns=['review_id', 'review_creation_date', 'review_answer_timestamp'])\n",
        "print(reviews_clean.shape)\n",
        "reviews_clean.head(3)"
      ],
      "execution_count": null,
      "outputs": [
        {
          "output_type": "stream",
          "text": [
            "(100000, 4)\n"
          ],
          "name": "stdout"
        },
        {
          "output_type": "execute_result",
          "data": {
            "text/html": [
              "<div>\n",
              "<style scoped>\n",
              "    .dataframe tbody tr th:only-of-type {\n",
              "        vertical-align: middle;\n",
              "    }\n",
              "\n",
              "    .dataframe tbody tr th {\n",
              "        vertical-align: top;\n",
              "    }\n",
              "\n",
              "    .dataframe thead th {\n",
              "        text-align: right;\n",
              "    }\n",
              "</style>\n",
              "<table border=\"1\" class=\"dataframe\">\n",
              "  <thead>\n",
              "    <tr style=\"text-align: right;\">\n",
              "      <th></th>\n",
              "      <th>order_id</th>\n",
              "      <th>review_score</th>\n",
              "      <th>review_comment_title</th>\n",
              "      <th>review_comment_message</th>\n",
              "    </tr>\n",
              "  </thead>\n",
              "  <tbody>\n",
              "    <tr>\n",
              "      <th>0</th>\n",
              "      <td>73fc7af87114b39712e6da79b0a377eb</td>\n",
              "      <td>4</td>\n",
              "      <td>NaN</td>\n",
              "      <td>NaN</td>\n",
              "    </tr>\n",
              "    <tr>\n",
              "      <th>1</th>\n",
              "      <td>a548910a1c6147796b98fdf73dbeba33</td>\n",
              "      <td>5</td>\n",
              "      <td>NaN</td>\n",
              "      <td>NaN</td>\n",
              "    </tr>\n",
              "    <tr>\n",
              "      <th>2</th>\n",
              "      <td>f9e4b658b201a9f2ecdecbb34bed034b</td>\n",
              "      <td>5</td>\n",
              "      <td>NaN</td>\n",
              "      <td>NaN</td>\n",
              "    </tr>\n",
              "  </tbody>\n",
              "</table>\n",
              "</div>"
            ],
            "text/plain": [
              "                           order_id  ...  review_comment_message\n",
              "0  73fc7af87114b39712e6da79b0a377eb  ...                     NaN\n",
              "1  a548910a1c6147796b98fdf73dbeba33  ...                     NaN\n",
              "2  f9e4b658b201a9f2ecdecbb34bed034b  ...                     NaN\n",
              "\n",
              "[3 rows x 4 columns]"
            ]
          },
          "metadata": {
            "tags": []
          },
          "execution_count": 51
        }
      ]
    },
    {
      "cell_type": "code",
      "metadata": {
        "colab": {
          "base_uri": "https://localhost:8080/"
        },
        "id": "dXrbMT15Sc4O",
        "outputId": "67e53db3-4ea4-426f-ef79-61460d5751c9"
      },
      "source": [
        "reviews_clean.isna().sum()"
      ],
      "execution_count": null,
      "outputs": [
        {
          "output_type": "execute_result",
          "data": {
            "text/plain": [
              "order_id                      0\n",
              "review_score                  0\n",
              "review_comment_title      88285\n",
              "review_comment_message    58247\n",
              "dtype: int64"
            ]
          },
          "metadata": {
            "tags": []
          },
          "execution_count": 52
        }
      ]
    },
    {
      "cell_type": "code",
      "metadata": {
        "id": "PgzR8F01e7Ag"
      },
      "source": [
        "reviews_clean['review_comment_title'] = reviews_clean['review_comment_title'].fillna('Unkown')\n",
        "reviews_clean['review_comment_message'] = reviews_clean['review_comment_message'].fillna('Unkown')"
      ],
      "execution_count": null,
      "outputs": []
    },
    {
      "cell_type": "code",
      "metadata": {
        "colab": {
          "base_uri": "https://localhost:8080/"
        },
        "id": "3OzWcb7ufIfT",
        "outputId": "bc13b108-0777-4c33-cd75-b25ec6d51905"
      },
      "source": [
        "reviews_clean.isna().sum()"
      ],
      "execution_count": null,
      "outputs": [
        {
          "output_type": "execute_result",
          "data": {
            "text/plain": [
              "order_id                  0\n",
              "review_score              0\n",
              "review_comment_title      0\n",
              "review_comment_message    0\n",
              "dtype: int64"
            ]
          },
          "metadata": {
            "tags": []
          },
          "execution_count": 54
        }
      ]
    },
    {
      "cell_type": "code",
      "metadata": {
        "colab": {
          "base_uri": "https://localhost:8080/"
        },
        "id": "5JOCCwE7YHOz",
        "outputId": "dfbce045-a85c-436e-b44b-503ca4a22926"
      },
      "source": [
        "reviews_clean.dtypes"
      ],
      "execution_count": null,
      "outputs": [
        {
          "output_type": "execute_result",
          "data": {
            "text/plain": [
              "order_id                  object\n",
              "review_score               int64\n",
              "review_comment_title      object\n",
              "review_comment_message    object\n",
              "dtype: object"
            ]
          },
          "metadata": {
            "tags": []
          },
          "execution_count": 55
        }
      ]
    },
    {
      "cell_type": "markdown",
      "metadata": {
        "id": "ch8RH6bOf9zD"
      },
      "source": [
        "# Análisis de Datos"
      ]
    },
    {
      "cell_type": "markdown",
      "metadata": {
        "id": "jhbXIqPwzz4z"
      },
      "source": [
        "## Análisis Exploratorio"
      ]
    },
    {
      "cell_type": "markdown",
      "metadata": {
        "id": "P9hVv4Za0QDR"
      },
      "source": [
        "### Medidas de tendencia central\n",
        "\n"
      ]
    },
    {
      "cell_type": "code",
      "metadata": {
        "colab": {
          "base_uri": "https://localhost:8080/"
        },
        "id": "Ig_fXNw1w4ut",
        "outputId": "1f1f86fc-b010-41d3-f213-ed2a5db3a7a3"
      },
      "source": [
        "# De la tabla de deals_clean\n",
        "print(f\"La media es: {round(deals_clean['declared_monthly_revenue'].mean(), 2)}\")\n",
        "print(f\"La mediana es: {deals_clean['declared_monthly_revenue'].median()}\")\n",
        "print(f\"La moda es: {deals_clean['declared_monthly_revenue'].mode()}\")"
      ],
      "execution_count": null,
      "outputs": [
        {
          "output_type": "stream",
          "text": [
            "La media es: 73377.68\n",
            "La mediana es: 0.0\n",
            "La moda es: 0    0\n",
            "dtype: int64\n"
          ],
          "name": "stdout"
        }
      ]
    },
    {
      "cell_type": "code",
      "metadata": {
        "colab": {
          "base_uri": "https://localhost:8080/"
        },
        "id": "_TCQMzH70cdZ",
        "outputId": "29790c9e-0264-4bcb-ad67-63540075a733"
      },
      "source": [
        "# De la tabla de order_items_clean\n",
        "print(f\"La media es: {round(order_items_clean['price'].mean(), 2)}\")\n",
        "print(f\"La mediana es: {order_items_clean['price'].median()}\")\n",
        "print(f\"La moda es: {order_items_clean['price'].mode()}\")"
      ],
      "execution_count": null,
      "outputs": [
        {
          "output_type": "stream",
          "text": [
            "La media es: 120.65\n",
            "La mediana es: 74.99\n",
            "La moda es: 0    59.9\n",
            "dtype: float64\n"
          ],
          "name": "stdout"
        }
      ]
    },
    {
      "cell_type": "code",
      "metadata": {
        "colab": {
          "base_uri": "https://localhost:8080/"
        },
        "id": "pfSfud5s1Fya",
        "outputId": "3f27121a-21c1-4142-d24d-9dad4d38507e"
      },
      "source": [
        "# De la tabla de payments_clean\n",
        "print(f\"La media es: {round(payments_clean['payment_value'].mean(), 2)}\")\n",
        "print(f\"La mediana es: {payments_clean['payment_value'].median()}\")\n",
        "print(f\"La moda es: {payments_clean['payment_value'].mode()}\")"
      ],
      "execution_count": null,
      "outputs": [
        {
          "output_type": "stream",
          "text": [
            "La media es: 154.1\n",
            "La mediana es: 100.0\n",
            "La moda es: 0    50.0\n",
            "dtype: float64\n"
          ],
          "name": "stdout"
        }
      ]
    },
    {
      "cell_type": "code",
      "metadata": {
        "colab": {
          "base_uri": "https://localhost:8080/"
        },
        "id": "QN8sqnhx3eul",
        "outputId": "a9ad68e7-9d97-498c-f37d-5b3656775e70"
      },
      "source": [
        "# De la tabla de reviews_clean\n",
        "print(f\"La moda es: {reviews_clean['review_score'].mode()}\")"
      ],
      "execution_count": null,
      "outputs": [
        {
          "output_type": "stream",
          "text": [
            "La moda es: 0    5\n",
            "dtype: int64\n"
          ],
          "name": "stdout"
        }
      ]
    },
    {
      "cell_type": "markdown",
      "metadata": {
        "id": "77gPWWhR3GTp"
      },
      "source": [
        "### Medidas de dispersión"
      ]
    },
    {
      "cell_type": "code",
      "metadata": {
        "colab": {
          "base_uri": "https://localhost:8080/"
        },
        "id": "5IjAJCMp1PqH",
        "outputId": "9331a705-69e4-46db-800a-721deeb9f8bb"
      },
      "source": [
        "# De la tabla de deals_clean\n",
        "print(f\"La desviación estándar es: {round(deals_clean['declared_monthly_revenue'].std(), 2)}\")"
      ],
      "execution_count": null,
      "outputs": [
        {
          "output_type": "stream",
          "text": [
            "La desviación estándar es: 1744799.18\n"
          ],
          "name": "stdout"
        }
      ]
    },
    {
      "cell_type": "code",
      "metadata": {
        "colab": {
          "base_uri": "https://localhost:8080/"
        },
        "id": "Jhm-I_mJ3MvV",
        "outputId": "65eae8e5-c7eb-4dbc-9a75-465dd442b71a"
      },
      "source": [
        "# De la tabla de order_items_clean\n",
        "print(f\"La desviación estándar es: {round(order_items_clean['price'].std(), 2)}\")"
      ],
      "execution_count": null,
      "outputs": [
        {
          "output_type": "stream",
          "text": [
            "La desviación estándar es: 183.63\n"
          ],
          "name": "stdout"
        }
      ]
    },
    {
      "cell_type": "code",
      "metadata": {
        "colab": {
          "base_uri": "https://localhost:8080/"
        },
        "id": "xZawGLGL3WhN",
        "outputId": "8802aaf9-8e4c-464d-918c-90efbd3bce10"
      },
      "source": [
        "# De la tabla de payments_clean\n",
        "print(f\"La desviación estándar es: {round(payments_clean['payment_value'].std(), 2)}\")"
      ],
      "execution_count": null,
      "outputs": [
        {
          "output_type": "stream",
          "text": [
            "La desviación estándar es: 217.49\n"
          ],
          "name": "stdout"
        }
      ]
    },
    {
      "cell_type": "code",
      "metadata": {
        "colab": {
          "base_uri": "https://localhost:8080/"
        },
        "id": "lwmJhJgc3baB",
        "outputId": "1de9c0b9-7d9f-4abc-a32c-1eba7c21e73d"
      },
      "source": [
        "# De la tabla de reviews_clean\n",
        "maximo_score = reviews_clean['review_score'].max()\n",
        "minimo_score = reviews_clean['review_score'].min()\n",
        "\n",
        "print(f\"El valor máximo es: {maximo_score}\")\n",
        "print(f\"El valor mínimo es: {minimo_score}\")\n",
        "print(f\"El rango es: {maximo_score - minimo_score}\")"
      ],
      "execution_count": null,
      "outputs": [
        {
          "output_type": "stream",
          "text": [
            "El valor máximo es: 5\n",
            "El valor mínimo es: 1\n",
            "El rango es: 4\n"
          ],
          "name": "stdout"
        }
      ]
    },
    {
      "cell_type": "markdown",
      "metadata": {
        "id": "l1v9qtfb4Tfo"
      },
      "source": [
        "### Visualizaciones\n"
      ]
    },
    {
      "cell_type": "code",
      "metadata": {
        "colab": {
          "base_uri": "https://localhost:8080/"
        },
        "id": "XeuZEoC636Wi",
        "outputId": "53cac087-8c58-4a0c-9dd8-40daf6646de2"
      },
      "source": [
        "sns.violinplot(deals_clean['declared_monthly_revenue'])"
      ],
      "execution_count": null,
      "outputs": [
        {
          "output_type": "stream",
          "text": [
            "/usr/local/lib/python3.7/dist-packages/seaborn/_decorators.py:43: FutureWarning: Pass the following variable as a keyword arg: x. From version 0.12, the only valid positional argument will be `data`, and passing other arguments without an explicit keyword will result in an error or misinterpretation.\n",
            "  FutureWarning\n"
          ],
          "name": "stderr"
        },
        {
          "output_type": "execute_result",
          "data": {
            "text/plain": [
              "<matplotlib.axes._subplots.AxesSubplot at 0x7fd1cf6eea50>"
            ]
          },
          "metadata": {
            "tags": []
          },
          "execution_count": 64
        },
        {
          "output_type": "display_data",
          "data": {
            "image/png": "[encoded data removed]",
            "text/plain": [
              "<Figure size 432x288 with 1 Axes>"
            ]
          },
          "metadata": {
            "tags": [],
            "needs_background": "light"
          }
        }
      ]
    },
    {
      "cell_type": "code",
      "metadata": {
        "colab": {
          "base_uri": "https://localhost:8080/"
        },
        "id": "VckOg00Qc7kH",
        "outputId": "179c4b76-c0f7-4da8-e599-9918b3dbccb5"
      },
      "source": [
        "ax = sns.distplot(deals_clean['declared_monthly_revenue'], kde = False, norm_hist=False)"
      ],
      "execution_count": null,
      "outputs": [
        {
          "output_type": "stream",
          "text": [
            "/usr/local/lib/python3.7/dist-packages/seaborn/distributions.py:2557: FutureWarning: `distplot` is a deprecated function and will be removed in a future version. Please adapt your code to use either `displot` (a figure-level function with similar flexibility) or `histplot` (an axes-level function for histograms).\n",
            "  warnings.warn(msg, FutureWarning)\n"
          ],
          "name": "stderr"
        },
        {
          "output_type": "display_data",
          "data": {
            "image/png": "[encoded data removed]",
            "text/plain": [
              "<Figure size 432x288 with 1 Axes>"
            ]
          },
          "metadata": {
            "tags": [],
            "needs_background": "light"
          }
        }
      ]
    },
    {
      "cell_type": "code",
      "metadata": {
        "colab": {
          "base_uri": "https://localhost:8080/"
        },
        "id": "akH_YPs54cC_",
        "outputId": "439c7574-72c9-49ff-c6ac-d557fee167f6"
      },
      "source": [
        "sns.violinplot(order_items_clean['price'])"
      ],
      "execution_count": null,
      "outputs": [
        {
          "output_type": "stream",
          "text": [
            "/usr/local/lib/python3.7/dist-packages/seaborn/_decorators.py:43: FutureWarning: Pass the following variable as a keyword arg: x. From version 0.12, the only valid positional argument will be `data`, and passing other arguments without an explicit keyword will result in an error or misinterpretation.\n",
            "  FutureWarning\n"
          ],
          "name": "stderr"
        },
        {
          "output_type": "execute_result",
          "data": {
            "text/plain": [
              "<matplotlib.axes._subplots.AxesSubplot at 0x7fd1c817c5d0>"
            ]
          },
          "metadata": {
            "tags": []
          },
          "execution_count": 66
        },
        {
          "output_type": "display_data",
          "data": {
            "image/png": "[encoded data removed]",
            "text/plain": [
              "<Figure size 432x288 with 1 Axes>"
            ]
          },
          "metadata": {
            "tags": [],
            "needs_background": "light"
          }
        }
      ]
    },
    {
      "cell_type": "code",
      "metadata": {
        "colab": {
          "base_uri": "https://localhost:8080/"
        },
        "id": "ZW3rd-DJc8SV",
        "outputId": "26ddf554-4d00-4c42-dae9-42e4e4a61024"
      },
      "source": [
        "ax = sns.distplot(order_items_clean['price'], kde = False, norm_hist=False)"
      ],
      "execution_count": null,
      "outputs": [
        {
          "output_type": "stream",
          "text": [
            "/usr/local/lib/python3.7/dist-packages/seaborn/distributions.py:2557: FutureWarning: `distplot` is a deprecated function and will be removed in a future version. Please adapt your code to use either `displot` (a figure-level function with similar flexibility) or `histplot` (an axes-level function for histograms).\n",
            "  warnings.warn(msg, FutureWarning)\n"
          ],
          "name": "stderr"
        },
        {
          "output_type": "display_data",
          "data": {
            "image/png": "[encoded data removed]",
            "text/plain": [
              "<Figure size 432x288 with 1 Axes>"
            ]
          },
          "metadata": {
            "tags": [],
            "needs_background": "light"
          }
        }
      ]
    },
    {
      "cell_type": "code",
      "metadata": {
        "colab": {
          "base_uri": "https://localhost:8080/"
        },
        "id": "66PTIo5o4fCK",
        "outputId": "e222508e-e5a3-47e1-8b08-d47bcec5245e"
      },
      "source": [
        "sns.violinplot(payments_clean['payment_value'])"
      ],
      "execution_count": null,
      "outputs": [
        {
          "output_type": "stream",
          "text": [
            "/usr/local/lib/python3.7/dist-packages/seaborn/_decorators.py:43: FutureWarning: Pass the following variable as a keyword arg: x. From version 0.12, the only valid positional argument will be `data`, and passing other arguments without an explicit keyword will result in an error or misinterpretation.\n",
            "  FutureWarning\n"
          ],
          "name": "stderr"
        },
        {
          "output_type": "execute_result",
          "data": {
            "text/plain": [
              "<matplotlib.axes._subplots.AxesSubplot at 0x7fd1bf789350>"
            ]
          },
          "metadata": {
            "tags": []
          },
          "execution_count": 68
        },
        {
          "output_type": "display_data",
          "data": {
            "image/png": "[encoded data removed]",
            "text/plain": [
              "<Figure size 432x288 with 1 Axes>"
            ]
          },
          "metadata": {
            "tags": [],
            "needs_background": "light"
          }
        }
      ]
    },
    {
      "cell_type": "code",
      "metadata": {
        "colab": {
          "base_uri": "https://localhost:8080/"
        },
        "id": "mhej0KhYc8zV",
        "outputId": "ffe44c22-900c-4080-8415-ad2cf8f1a084"
      },
      "source": [
        "ax = sns.distplot(payments_clean['payment_value'], kde = False, norm_hist=False)"
      ],
      "execution_count": null,
      "outputs": [
        {
          "output_type": "stream",
          "text": [
            "/usr/local/lib/python3.7/dist-packages/seaborn/distributions.py:2557: FutureWarning: `distplot` is a deprecated function and will be removed in a future version. Please adapt your code to use either `displot` (a figure-level function with similar flexibility) or `histplot` (an axes-level function for histograms).\n",
            "  warnings.warn(msg, FutureWarning)\n"
          ],
          "name": "stderr"
        },
        {
          "output_type": "display_data",
          "data": {
            "image/png": "[encoded data removed]",
            "text/plain": [
              "<Figure size 432x288 with 1 Axes>"
            ]
          },
          "metadata": {
            "tags": [],
            "needs_background": "light"
          }
        }
      ]
    },
    {
      "cell_type": "markdown",
      "metadata": {
        "id": "R1uswIbtXHTx"
      },
      "source": [
        "## Etapas de proyecto"
      ]
    },
    {
      "cell_type": "markdown",
      "metadata": {
        "id": "I8W41hjpN0iq"
      },
      "source": [
        "### 1. Comportamiento de Leads"
      ]
    },
    {
      "cell_type": "markdown",
      "metadata": {
        "id": "Tmilig_Tjsgo"
      },
      "source": [
        "#### 1.1. Orígenes más populares"
      ]
    },
    {
      "cell_type": "code",
      "metadata": {
        "colab": {
          "base_uri": "https://localhost:8080/"
        },
        "id": "cWQyrg5Atv5t",
        "outputId": "dd5515cd-1d8d-45e0-ee05-14ca834c5710"
      },
      "source": [
        "mql_clean['origin'].unique()"
      ],
      "execution_count": null,
      "outputs": [
        {
          "output_type": "execute_result",
          "data": {
            "text/plain": [
              "array(['social', 'paid_search', 'organic_search', 'email', 'unknown',\n",
              "       'referral', 'direct_traffic', 'display', 'other_publicities',\n",
              "       'other'], dtype=object)"
            ]
          },
          "metadata": {
            "tags": []
          },
          "execution_count": 53
        }
      ]
    },
    {
      "cell_type": "code",
      "metadata": {
        "colab": {
          "base_uri": "https://localhost:8080/"
        },
        "id": "NmBN3MNujuJv",
        "outputId": "8ac9ec48-9eff-4a69-edca-76b55f37d653"
      },
      "source": [
        "origenes_mas_populares = mql_clean.groupby('origin')['mql_id'].count()\n",
        "origenes_mas_populares"
      ],
      "execution_count": null,
      "outputs": [
        {
          "output_type": "execute_result",
          "data": {
            "text/plain": [
              "origin\n",
              "direct_traffic        499\n",
              "display               118\n",
              "email                 493\n",
              "organic_search       2296\n",
              "other                 150\n",
              "other_publicities      65\n",
              "paid_search          1586\n",
              "referral              284\n",
              "social               1350\n",
              "unknown              1099\n",
              "Name: mql_id, dtype: int64"
            ]
          },
          "metadata": {
            "tags": []
          },
          "execution_count": 54
        }
      ]
    },
    {
      "cell_type": "code",
      "metadata": {
        "id": "FAzPFh80sxtF"
      },
      "source": [
        "origenes_mas_populares_cuenta = origenes_mas_populares"
      ],
      "execution_count": null,
      "outputs": []
    },
    {
      "cell_type": "code",
      "metadata": {
        "colab": {
          "base_uri": "https://localhost:8080/",
          "height": 349
        },
        "id": "imzjuJIYs7jc",
        "outputId": "483ecb3c-f818-48a0-9771-b71f45e5c948"
      },
      "source": [
        "ax = sns.barplot(origenes_mas_populares_cuenta, origenes_mas_populares.index, orient = 'h')\n",
        "ax.set_title('Orígenes más populares')\n",
        "ax.set(xlabel='origen');\n",
        "ax.set(ylabel='count');"
      ],
      "execution_count": null,
      "outputs": [
        {
          "output_type": "stream",
          "text": [
            "/usr/local/lib/python3.7/dist-packages/seaborn/_decorators.py:43: FutureWarning: Pass the following variables as keyword args: x, y. From version 0.12, the only valid positional argument will be `data`, and passing other arguments without an explicit keyword will result in an error or misinterpretation.\n",
            "  FutureWarning\n"
          ],
          "name": "stderr"
        },
        {
          "output_type": "display_data",
          "data": {
            "image/png": "[encoded data removed]",
            "text/plain": [
              "<Figure size 432x288 with 1 Axes>"
            ]
          },
          "metadata": {
            "tags": [],
            "needs_background": "light"
          }
        }
      ]
    },
    {
      "cell_type": "markdown",
      "metadata": {
        "id": "7uSxoChrjvW2"
      },
      "source": [
        "#### 1.2. Segmentos de negocio más populares"
      ]
    },
    {
      "cell_type": "code",
      "metadata": {
        "colab": {
          "base_uri": "https://localhost:8080/"
        },
        "id": "Gae42fbkjwu6",
        "outputId": "d3eeb6e3-ec68-4f7f-f8cd-3f16f250f875"
      },
      "source": [
        "segmento_de_negocio_mas_popular = deals_clean.groupby('business_segment')['mql_id'].count()\n",
        "segmento_de_negocio_mas_popular = segmento_de_negocio_mas_popular.sort_values(ascending=False).head()\n",
        "segmento_de_negocio_mas_popular"
      ],
      "execution_count": null,
      "outputs": [
        {
          "output_type": "execute_result",
          "data": {
            "text/plain": [
              "business_segment\n",
              "home_decor                         105\n",
              "health_beauty                       93\n",
              "car_accessories                     77\n",
              "household_utilities                 71\n",
              "construction_tools_house_garden     69\n",
              "Name: mql_id, dtype: int64"
            ]
          },
          "metadata": {
            "tags": []
          },
          "execution_count": 57
        }
      ]
    },
    {
      "cell_type": "code",
      "metadata": {
        "colab": {
          "base_uri": "https://localhost:8080/",
          "height": 235
        },
        "id": "N6HU-HBizEJ3",
        "outputId": "ceaa1182-441a-4a12-97ff-e7baa2772c16"
      },
      "source": [
        "segmento_de_negocio_mas_popular_DF = pd.DataFrame(segmento_de_negocio_mas_popular)\n",
        "segmento_de_negocio_mas_popular_DF"
      ],
      "execution_count": null,
      "outputs": [
        {
          "output_type": "execute_result",
          "data": {
            "text/html": [
              "<div>\n",
              "<style scoped>\n",
              "    .dataframe tbody tr th:only-of-type {\n",
              "        vertical-align: middle;\n",
              "    }\n",
              "\n",
              "    .dataframe tbody tr th {\n",
              "        vertical-align: top;\n",
              "    }\n",
              "\n",
              "    .dataframe thead th {\n",
              "        text-align: right;\n",
              "    }\n",
              "</style>\n",
              "<table border=\"1\" class=\"dataframe\">\n",
              "  <thead>\n",
              "    <tr style=\"text-align: right;\">\n",
              "      <th></th>\n",
              "      <th>mql_id</th>\n",
              "    </tr>\n",
              "    <tr>\n",
              "      <th>business_segment</th>\n",
              "      <th></th>\n",
              "    </tr>\n",
              "  </thead>\n",
              "  <tbody>\n",
              "    <tr>\n",
              "      <th>home_decor</th>\n",
              "      <td>105</td>\n",
              "    </tr>\n",
              "    <tr>\n",
              "      <th>health_beauty</th>\n",
              "      <td>93</td>\n",
              "    </tr>\n",
              "    <tr>\n",
              "      <th>car_accessories</th>\n",
              "      <td>77</td>\n",
              "    </tr>\n",
              "    <tr>\n",
              "      <th>household_utilities</th>\n",
              "      <td>71</td>\n",
              "    </tr>\n",
              "    <tr>\n",
              "      <th>construction_tools_house_garden</th>\n",
              "      <td>69</td>\n",
              "    </tr>\n",
              "  </tbody>\n",
              "</table>\n",
              "</div>"
            ],
            "text/plain": [
              "                                 mql_id\n",
              "business_segment                       \n",
              "home_decor                          105\n",
              "health_beauty                        93\n",
              "car_accessories                      77\n",
              "household_utilities                  71\n",
              "construction_tools_house_garden      69"
            ]
          },
          "metadata": {
            "tags": []
          },
          "execution_count": 58
        }
      ]
    },
    {
      "cell_type": "code",
      "metadata": {
        "colab": {
          "base_uri": "https://localhost:8080/"
        },
        "id": "aAnp29lnwq2N",
        "outputId": "67f63ea1-74e6-4758-e448-5f94f3ab1f56"
      },
      "source": [
        "segmento_de_negocio_mas_popular_conteo = segmento_de_negocio_mas_popular_DF['mql_id']\n",
        "segmento_de_negocio_mas_popular_conteo"
      ],
      "execution_count": null,
      "outputs": [
        {
          "output_type": "execute_result",
          "data": {
            "text/plain": [
              "business_segment\n",
              "home_decor                         105\n",
              "health_beauty                       93\n",
              "car_accessories                     77\n",
              "household_utilities                 71\n",
              "construction_tools_house_garden     69\n",
              "Name: mql_id, dtype: int64"
            ]
          },
          "metadata": {
            "tags": []
          },
          "execution_count": 59
        }
      ]
    },
    {
      "cell_type": "code",
      "metadata": {
        "colab": {
          "base_uri": "https://localhost:8080/",
          "height": 474
        },
        "id": "BIuayTNFwz7G",
        "outputId": "13f30b5d-34b0-42eb-91eb-86cbed5703f8"
      },
      "source": [
        "ax = sns.barplot(segmento_de_negocio_mas_popular_DF.index, segmento_de_negocio_mas_popular_conteo)\n",
        "ax.set_title('Segmentos de negocio más populares')\n",
        "ax.set(xlabel='negocio');\n",
        "ax.set(ylabel='count');\n",
        "ax.set_xticklabels(ax.get_xticklabels(), rotation = 50);"
      ],
      "execution_count": null,
      "outputs": [
        {
          "output_type": "stream",
          "text": [
            "/usr/local/lib/python3.7/dist-packages/seaborn/_decorators.py:43: FutureWarning: Pass the following variables as keyword args: x, y. From version 0.12, the only valid positional argument will be `data`, and passing other arguments without an explicit keyword will result in an error or misinterpretation.\n",
            "  FutureWarning\n"
          ],
          "name": "stderr"
        },
        {
          "output_type": "display_data",
          "data": {
            "image/png": "[encoded data removed]",
            "text/plain": [
              "<Figure size 432x288 with 1 Axes>"
            ]
          },
          "metadata": {
            "tags": [],
            "needs_background": "light"
          }
        }
      ]
    },
    {
      "cell_type": "markdown",
      "metadata": {
        "id": "bXjICX5nmLms"
      },
      "source": [
        "#### 1.3. Tipos de lead más comunes"
      ]
    },
    {
      "cell_type": "code",
      "metadata": {
        "colab": {
          "base_uri": "https://localhost:8080/"
        },
        "id": "mDU2hkiBmSTM",
        "outputId": "c86b73bb-4b9a-437f-9320-81a253e9af4a"
      },
      "source": [
        "deals_clean['lead_type'].unique()"
      ],
      "execution_count": null,
      "outputs": [
        {
          "output_type": "execute_result",
          "data": {
            "text/plain": [
              "array(['online_medium', 'industry', 'online_big', 'online_small',\n",
              "       'offline', 'online_top', 'online_beginner', 'other', 'Unknown'],\n",
              "      dtype=object)"
            ]
          },
          "metadata": {
            "tags": []
          },
          "execution_count": 117
        }
      ]
    },
    {
      "cell_type": "code",
      "metadata": {
        "colab": {
          "base_uri": "https://localhost:8080/"
        },
        "id": "o04hvDN6pIgF",
        "outputId": "9a4e8f0e-7ecf-4522-aee4-6dd4a803aca0"
      },
      "source": [
        "leads_mas_comunes = deals_clean.groupby('lead_type')['mql_id'].count()\n",
        "leads_mas_comunes"
      ],
      "execution_count": null,
      "outputs": [
        {
          "output_type": "execute_result",
          "data": {
            "text/plain": [
              "lead_type\n",
              "Unknown              6\n",
              "industry           123\n",
              "offline            104\n",
              "online_beginner     57\n",
              "online_big         126\n",
              "online_medium      332\n",
              "online_small        77\n",
              "online_top          14\n",
              "other                3\n",
              "Name: mql_id, dtype: int64"
            ]
          },
          "metadata": {
            "tags": []
          },
          "execution_count": 118
        }
      ]
    },
    {
      "cell_type": "code",
      "metadata": {
        "colab": {
          "base_uri": "https://localhost:8080/",
          "height": 349
        },
        "id": "bP0pfRoipWMI",
        "outputId": "490be1f2-6344-472d-e7df-fae44268e8be"
      },
      "source": [
        "ax = sns.barplot(leads_mas_comunes, leads_mas_comunes.index, orient = 'h')\n",
        "ax.set_title('Leads más comunes')\n",
        "ax.set(xlabel='leads');\n",
        "ax.set(ylabel='count');"
      ],
      "execution_count": null,
      "outputs": [
        {
          "output_type": "stream",
          "text": [
            "/usr/local/lib/python3.7/dist-packages/seaborn/_decorators.py:43: FutureWarning: Pass the following variables as keyword args: x, y. From version 0.12, the only valid positional argument will be `data`, and passing other arguments without an explicit keyword will result in an error or misinterpretation.\n",
            "  FutureWarning\n"
          ],
          "name": "stderr"
        },
        {
          "output_type": "display_data",
          "data": {
            "image/png": "[encoded data removed]",
            "text/plain": [
              "<Figure size 432x288 with 1 Axes>"
            ]
          },
          "metadata": {
            "tags": [],
            "needs_background": "light"
          }
        }
      ]
    },
    {
      "cell_type": "markdown",
      "metadata": {
        "id": "M1pB5EesmVuX"
      },
      "source": [
        "#### 1.4. Tipo de negocio más popular"
      ]
    },
    {
      "cell_type": "code",
      "metadata": {
        "colab": {
          "base_uri": "https://localhost:8080/"
        },
        "id": "TyLZk9aomhsW",
        "outputId": "ee53c521-4c8c-49a7-e597-7b47ed99844a"
      },
      "source": [
        "deals_clean['business_type'].unique()"
      ],
      "execution_count": null,
      "outputs": [
        {
          "output_type": "execute_result",
          "data": {
            "text/plain": [
              "array(['reseller', 'manufacturer', 'other', 'Unknown'], dtype=object)"
            ]
          },
          "metadata": {
            "tags": []
          },
          "execution_count": 120
        }
      ]
    },
    {
      "cell_type": "code",
      "metadata": {
        "colab": {
          "base_uri": "https://localhost:8080/"
        },
        "id": "KeqmO15uqBY8",
        "outputId": "a3a868ea-f13d-4b25-d184-d1f6ea55196b"
      },
      "source": [
        "tipos_negocio_mas_comunes = deals_clean.groupby('business_type')['mql_id'].count()\n",
        "tipos_negocio_mas_comunes"
      ],
      "execution_count": null,
      "outputs": [
        {
          "output_type": "execute_result",
          "data": {
            "text/plain": [
              "business_type\n",
              "Unknown          10\n",
              "manufacturer    242\n",
              "other             3\n",
              "reseller        587\n",
              "Name: mql_id, dtype: int64"
            ]
          },
          "metadata": {
            "tags": []
          },
          "execution_count": 123
        }
      ]
    },
    {
      "cell_type": "code",
      "metadata": {
        "colab": {
          "base_uri": "https://localhost:8080/",
          "height": 349
        },
        "id": "yr1aCm8VqPVz",
        "outputId": "86a23612-a255-408e-df8c-37d8b6df1bea"
      },
      "source": [
        "ax = sns.barplot(tipos_negocio_mas_comunes, tipos_negocio_mas_comunes.index, orient = 'h')\n",
        "ax.set_title('Tipos de negocio más comunes')\n",
        "ax.set(xlabel='negocios');\n",
        "ax.set(ylabel='count');"
      ],
      "execution_count": null,
      "outputs": [
        {
          "output_type": "stream",
          "text": [
            "/usr/local/lib/python3.7/dist-packages/seaborn/_decorators.py:43: FutureWarning: Pass the following variables as keyword args: x, y. From version 0.12, the only valid positional argument will be `data`, and passing other arguments without an explicit keyword will result in an error or misinterpretation.\n",
            "  FutureWarning\n"
          ],
          "name": "stderr"
        },
        {
          "output_type": "display_data",
          "data": {
            "image/png": "[encoded data removed]",
            "text/plain": [
              "<Figure size 432x288 with 1 Axes>"
            ]
          },
          "metadata": {
            "tags": [],
            "needs_background": "light"
          }
        }
      ]
    },
    {
      "cell_type": "markdown",
      "metadata": {
        "id": "EzX57h98ml8n"
      },
      "source": [
        "#### 1.5. Lead que tienen compañía"
      ]
    },
    {
      "cell_type": "code",
      "metadata": {
        "colab": {
          "base_uri": "https://localhost:8080/"
        },
        "id": "m4arF-HJmqOt",
        "outputId": "b5ed5dad-ef33-4530-c1c0-a2fc703f3058"
      },
      "source": [
        "tiene_o_no_compañia = deals_clean.groupby('has_company')['mql_id'].count()\n",
        "tiene_o_no_compañia"
      ],
      "execution_count": null,
      "outputs": [
        {
          "output_type": "execute_result",
          "data": {
            "text/plain": [
              "has_company\n",
              "False    784\n",
              "True      58\n",
              "Name: mql_id, dtype: int64"
            ]
          },
          "metadata": {
            "tags": []
          },
          "execution_count": 125
        }
      ]
    },
    {
      "cell_type": "code",
      "metadata": {
        "colab": {
          "base_uri": "https://localhost:8080/",
          "height": 142
        },
        "id": "oouNX63Zr4wT",
        "outputId": "ab0419ef-119b-409e-b2a1-ab95724cbc9f"
      },
      "source": [
        "tiene_o_no_compañia_DF = pd.DataFrame(tiene_o_no_compañia)\n",
        "tiene_o_no_compañia_DF"
      ],
      "execution_count": null,
      "outputs": [
        {
          "output_type": "execute_result",
          "data": {
            "text/html": [
              "<div>\n",
              "<style scoped>\n",
              "    .dataframe tbody tr th:only-of-type {\n",
              "        vertical-align: middle;\n",
              "    }\n",
              "\n",
              "    .dataframe tbody tr th {\n",
              "        vertical-align: top;\n",
              "    }\n",
              "\n",
              "    .dataframe thead th {\n",
              "        text-align: right;\n",
              "    }\n",
              "</style>\n",
              "<table border=\"1\" class=\"dataframe\">\n",
              "  <thead>\n",
              "    <tr style=\"text-align: right;\">\n",
              "      <th></th>\n",
              "      <th>mql_id</th>\n",
              "    </tr>\n",
              "    <tr>\n",
              "      <th>has_company</th>\n",
              "      <th></th>\n",
              "    </tr>\n",
              "  </thead>\n",
              "  <tbody>\n",
              "    <tr>\n",
              "      <th>False</th>\n",
              "      <td>784</td>\n",
              "    </tr>\n",
              "    <tr>\n",
              "      <th>True</th>\n",
              "      <td>58</td>\n",
              "    </tr>\n",
              "  </tbody>\n",
              "</table>\n",
              "</div>"
            ],
            "text/plain": [
              "             mql_id\n",
              "has_company        \n",
              "False           784\n",
              "True             58"
            ]
          },
          "metadata": {
            "tags": []
          },
          "execution_count": 129
        }
      ]
    },
    {
      "cell_type": "code",
      "metadata": {
        "colab": {
          "base_uri": "https://localhost:8080/"
        },
        "id": "_WNujEvFsCbw",
        "outputId": "7524ef29-d922-4e35-de7e-a37c50ed8d28"
      },
      "source": [
        "tiene_o_no_compañia_conteo = tiene_o_no_compañia_DF['mql_id']\n",
        "tiene_o_no_compañia_conteo "
      ],
      "execution_count": null,
      "outputs": [
        {
          "output_type": "execute_result",
          "data": {
            "text/plain": [
              "has_company\n",
              "False    784\n",
              "True      58\n",
              "Name: mql_id, dtype: int64"
            ]
          },
          "metadata": {
            "tags": []
          },
          "execution_count": 130
        }
      ]
    },
    {
      "cell_type": "code",
      "metadata": {
        "colab": {
          "base_uri": "https://localhost:8080/",
          "height": 350
        },
        "id": "VLrlEL_grUX_",
        "outputId": "01c003cc-f17f-4dd9-91d5-14b9a0ab85df"
      },
      "source": [
        "ax = sns.barplot(tiene_o_no_compañia_DF.index, tiene_o_no_compañia_conteo)\n",
        "ax.set_title('Tienen o no compañía');"
      ],
      "execution_count": null,
      "outputs": [
        {
          "output_type": "stream",
          "text": [
            "/usr/local/lib/python3.7/dist-packages/seaborn/_decorators.py:43: FutureWarning: Pass the following variables as keyword args: x, y. From version 0.12, the only valid positional argument will be `data`, and passing other arguments without an explicit keyword will result in an error or misinterpretation.\n",
            "  FutureWarning\n"
          ],
          "name": "stderr"
        },
        {
          "output_type": "display_data",
          "data": {
            "image/png": "[encoded data removed]",
            "text/plain": [
              "<Figure size 432x288 with 1 Axes>"
            ]
          },
          "metadata": {
            "tags": [],
            "needs_background": "light"
          }
        }
      ]
    },
    {
      "cell_type": "code",
      "metadata": {
        "colab": {
          "base_uri": "https://localhost:8080/"
        },
        "id": "fXhwVxwdwRUz",
        "outputId": "2a0ce4df-06a4-4f18-a4a7-c02bb3814cec"
      },
      "source": [
        "si_tienen = tiene_o_no_compañia_DF.loc[True]\n",
        "si_tienen"
      ],
      "execution_count": null,
      "outputs": [
        {
          "output_type": "execute_result",
          "data": {
            "text/plain": [
              "mql_id    58\n",
              "Name: True, dtype: int64"
            ]
          },
          "metadata": {
            "tags": []
          },
          "execution_count": 152
        }
      ]
    },
    {
      "cell_type": "code",
      "metadata": {
        "colab": {
          "base_uri": "https://localhost:8080/"
        },
        "id": "AfN32pqgwkC0",
        "outputId": "a614114e-1d88-43fc-e4dd-c2e6f5b89de0"
      },
      "source": [
        "no_tienen = tiene_o_no_compañia_DF.loc[False]\n",
        "no_tienen"
      ],
      "execution_count": null,
      "outputs": [
        {
          "output_type": "execute_result",
          "data": {
            "text/plain": [
              "mql_id    784\n",
              "dtype: int64"
            ]
          },
          "metadata": {
            "tags": []
          },
          "execution_count": 153
        }
      ]
    },
    {
      "cell_type": "code",
      "metadata": {
        "colab": {
          "base_uri": "https://localhost:8080/"
        },
        "id": "yijHxXWmwn2g",
        "outputId": "904b30af-34ff-4383-d22e-8186d6ed5c67"
      },
      "source": [
        "# Porcentaje de los que sí tienen con respecto al total:\n",
        "round((si_tienen / (si_tienen + no_tienen)) * 100, 2)"
      ],
      "execution_count": null,
      "outputs": [
        {
          "output_type": "execute_result",
          "data": {
            "text/plain": [
              "mql_id    6.89\n",
              "dtype: float64"
            ]
          },
          "metadata": {
            "tags": []
          },
          "execution_count": 156
        }
      ]
    },
    {
      "cell_type": "markdown",
      "metadata": {
        "id": "BzM54dr8msx8"
      },
      "source": [
        "#### 1.6.  Promedio de ingresos mensuales declarados"
      ]
    },
    {
      "cell_type": "code",
      "metadata": {
        "colab": {
          "base_uri": "https://localhost:8080/"
        },
        "id": "nTh0_dSWmvk3",
        "outputId": "23a19526-16cc-4c31-8ad0-4a2e63324c1a"
      },
      "source": [
        "round(deals_clean['declared_monthly_revenue'].mean(),2)"
      ],
      "execution_count": null,
      "outputs": [
        {
          "output_type": "execute_result",
          "data": {
            "text/plain": [
              "73377.68"
            ]
          },
          "metadata": {
            "tags": []
          },
          "execution_count": 133
        }
      ]
    },
    {
      "cell_type": "markdown",
      "metadata": {
        "id": "8WI7_7lbN3rq"
      },
      "source": [
        "### 2. Productos"
      ]
    },
    {
      "cell_type": "markdown",
      "metadata": {
        "id": "Q4HbtDaGji7R"
      },
      "source": [
        "#### 2.1. Productos más populares"
      ]
    },
    {
      "cell_type": "code",
      "metadata": {
        "colab": {
          "base_uri": "https://localhost:8080/",
          "height": 235
        },
        "id": "JVwPZJNzjkpx",
        "outputId": "e75a4297-1e93-45bc-8241-d8d9b913e92a"
      },
      "source": [
        "productos_conteo = products_clean.groupby('product_category_name')['product_id'].count()\n",
        "productos_conteo = pd.DataFrame(productos_conteo)\n",
        "productos_mas_populares = productos_conteo.sort_values('product_id', ascending=False)\n",
        "productos_mas_populares_grafica = productos_mas_populares.head()\n",
        "productos_mas_populares_grafica"
      ],
      "execution_count": null,
      "outputs": [
        {
          "output_type": "execute_result",
          "data": {
            "text/html": [
              "<div>\n",
              "<style scoped>\n",
              "    .dataframe tbody tr th:only-of-type {\n",
              "        vertical-align: middle;\n",
              "    }\n",
              "\n",
              "    .dataframe tbody tr th {\n",
              "        vertical-align: top;\n",
              "    }\n",
              "\n",
              "    .dataframe thead th {\n",
              "        text-align: right;\n",
              "    }\n",
              "</style>\n",
              "<table border=\"1\" class=\"dataframe\">\n",
              "  <thead>\n",
              "    <tr style=\"text-align: right;\">\n",
              "      <th></th>\n",
              "      <th>product_id</th>\n",
              "    </tr>\n",
              "    <tr>\n",
              "      <th>product_category_name</th>\n",
              "      <th></th>\n",
              "    </tr>\n",
              "  </thead>\n",
              "  <tbody>\n",
              "    <tr>\n",
              "      <th>cama_mesa_banho</th>\n",
              "      <td>3029</td>\n",
              "    </tr>\n",
              "    <tr>\n",
              "      <th>esporte_lazer</th>\n",
              "      <td>2867</td>\n",
              "    </tr>\n",
              "    <tr>\n",
              "      <th>moveis_decoracao</th>\n",
              "      <td>2657</td>\n",
              "    </tr>\n",
              "    <tr>\n",
              "      <th>beleza_saude</th>\n",
              "      <td>2444</td>\n",
              "    </tr>\n",
              "    <tr>\n",
              "      <th>utilidades_domesticas</th>\n",
              "      <td>2335</td>\n",
              "    </tr>\n",
              "  </tbody>\n",
              "</table>\n",
              "</div>"
            ],
            "text/plain": [
              "                       product_id\n",
              "product_category_name            \n",
              "cama_mesa_banho              3029\n",
              "esporte_lazer                2867\n",
              "moveis_decoracao             2657\n",
              "beleza_saude                 2444\n",
              "utilidades_domesticas        2335"
            ]
          },
          "metadata": {
            "tags": []
          },
          "execution_count": 61
        }
      ]
    },
    {
      "cell_type": "code",
      "metadata": {
        "colab": {
          "base_uri": "https://localhost:8080/",
          "height": 432
        },
        "id": "ZrvCQZdkkZ8r",
        "outputId": "b9cd2e16-a78e-4b07-9420-a816f9ac7b14"
      },
      "source": [
        "ax = sns.barplot(productos_mas_populares_grafica.index, productos_mas_populares_grafica['product_id'])\n",
        "ax.set_title('Productos más populares')\n",
        "ax.set(ylabel='Cuenta')\n",
        "ax.set_xticklabels(ax.get_xticklabels(), rotation = 50);"
      ],
      "execution_count": null,
      "outputs": [
        {
          "output_type": "stream",
          "text": [
            "/usr/local/lib/python3.7/dist-packages/seaborn/_decorators.py:43: FutureWarning: Pass the following variables as keyword args: x, y. From version 0.12, the only valid positional argument will be `data`, and passing other arguments without an explicit keyword will result in an error or misinterpretation.\n",
            "  FutureWarning\n"
          ],
          "name": "stderr"
        },
        {
          "output_type": "display_data",
          "data": {
            "image/png": "[encoded data removed]",
            "text/plain": [
              "<Figure size 432x288 with 1 Axes>"
            ]
          },
          "metadata": {
            "tags": [],
            "needs_background": "light"
          }
        }
      ]
    },
    {
      "cell_type": "markdown",
      "metadata": {
        "id": "fJno4iYYlv92"
      },
      "source": [
        "#### 2.2. Precios de productos populares"
      ]
    },
    {
      "cell_type": "code",
      "metadata": {
        "colab": {
          "base_uri": "https://localhost:8080/",
          "height": 204
        },
        "id": "U7JK9vGR8RE6",
        "outputId": "97eaa22e-3fdd-43da-d995-02c53c410d89"
      },
      "source": [
        "productos_y_ordenes_items = pd.merge(products_clean, order_items_clean, left_on='product_id', right_on='product_id').sort_index()\n",
        "productos_y_ordenes_items.head()"
      ],
      "execution_count": null,
      "outputs": [
        {
          "output_type": "execute_result",
          "data": {
            "text/html": [
              "<div>\n",
              "<style scoped>\n",
              "    .dataframe tbody tr th:only-of-type {\n",
              "        vertical-align: middle;\n",
              "    }\n",
              "\n",
              "    .dataframe tbody tr th {\n",
              "        vertical-align: top;\n",
              "    }\n",
              "\n",
              "    .dataframe thead th {\n",
              "        text-align: right;\n",
              "    }\n",
              "</style>\n",
              "<table border=\"1\" class=\"dataframe\">\n",
              "  <thead>\n",
              "    <tr style=\"text-align: right;\">\n",
              "      <th></th>\n",
              "      <th>product_id</th>\n",
              "      <th>product_category_name</th>\n",
              "      <th>order_id</th>\n",
              "      <th>order_item_id</th>\n",
              "      <th>seller_id</th>\n",
              "      <th>price</th>\n",
              "    </tr>\n",
              "  </thead>\n",
              "  <tbody>\n",
              "    <tr>\n",
              "      <th>0</th>\n",
              "      <td>1e9e8ef04dbcff4541ed26657ea517e5</td>\n",
              "      <td>perfumaria</td>\n",
              "      <td>e17e4f88e31525f7deef66779844ddce</td>\n",
              "      <td>1</td>\n",
              "      <td>5670f4db5b62c43d542e1b2d56b0cf7c</td>\n",
              "      <td>10.91</td>\n",
              "    </tr>\n",
              "    <tr>\n",
              "      <th>1</th>\n",
              "      <td>3aa071139cb16b67ca9e5dea641aaa2f</td>\n",
              "      <td>artes</td>\n",
              "      <td>5236307716393b7114b53ee991f36956</td>\n",
              "      <td>1</td>\n",
              "      <td>b561927807645834b59ef0d16ba55a24</td>\n",
              "      <td>248.00</td>\n",
              "    </tr>\n",
              "    <tr>\n",
              "      <th>2</th>\n",
              "      <td>96bd76ec8810374ed1b65e291975717f</td>\n",
              "      <td>esporte_lazer</td>\n",
              "      <td>01f66e58769f84129811d43eefd187fb</td>\n",
              "      <td>1</td>\n",
              "      <td>7b07b3c7487f0ea825fc6df75abd658b</td>\n",
              "      <td>79.80</td>\n",
              "    </tr>\n",
              "    <tr>\n",
              "      <th>3</th>\n",
              "      <td>cef67bcfe19066a932b7673e239eb23d</td>\n",
              "      <td>bebes</td>\n",
              "      <td>143d00a4f2dde4e0364ee1821577adb3</td>\n",
              "      <td>1</td>\n",
              "      <td>c510bc1718f0f2961eaa42a23330681a</td>\n",
              "      <td>112.30</td>\n",
              "    </tr>\n",
              "    <tr>\n",
              "      <th>4</th>\n",
              "      <td>9dc1a7de274444849c219cff195d0b71</td>\n",
              "      <td>utilidades_domesticas</td>\n",
              "      <td>86cafb8794cb99a9b1b77fc8e48fbbbb</td>\n",
              "      <td>1</td>\n",
              "      <td>0be8ff43f22e456b4e0371b2245e4d01</td>\n",
              "      <td>37.90</td>\n",
              "    </tr>\n",
              "  </tbody>\n",
              "</table>\n",
              "</div>"
            ],
            "text/plain": [
              "                         product_id  ...   price\n",
              "0  1e9e8ef04dbcff4541ed26657ea517e5  ...   10.91\n",
              "1  3aa071139cb16b67ca9e5dea641aaa2f  ...  248.00\n",
              "2  96bd76ec8810374ed1b65e291975717f  ...   79.80\n",
              "3  cef67bcfe19066a932b7673e239eb23d  ...  112.30\n",
              "4  9dc1a7de274444849c219cff195d0b71  ...   37.90\n",
              "\n",
              "[5 rows x 6 columns]"
            ]
          },
          "metadata": {
            "tags": []
          },
          "execution_count": 203
        }
      ]
    },
    {
      "cell_type": "code",
      "metadata": {
        "colab": {
          "base_uri": "https://localhost:8080/"
        },
        "id": "AiMjLvCW-JZw",
        "outputId": "c8e28b31-cd65-44d4-dad2-914396c03b0b"
      },
      "source": [
        "cama_mesa_banho = productos_y_ordenes_items[productos_y_ordenes_items['product_category_name'] == 'cama_mesa_banho']\n",
        "cama_mesa_banho['price'].unique()"
      ],
      "execution_count": null,
      "outputs": [
        {
          "output_type": "execute_result",
          "data": {
            "text/plain": [
              "array([  71.99,   41.99,  145.  ,  107.6 ,  180.  ,   89.9 ,  649.9 ,\n",
              "         40.  ,   83.  ,   95.9 ,   95.  ,   99.9 ,  117.99,   99.88,\n",
              "        109.  ,   29.99,   69.99,   59.  ,   24.9 ,   96.99,   64.9 ,\n",
              "         95.03,  286.  ,   55.  ,   59.99,   49.  ,   48.  ,   25.5 ,\n",
              "        112.9 ,  113.  ,   49.9 ,   74.99,   59.4 ,   34.9 ,   77.  ,\n",
              "         39.  ,   35.  ,  155.  ,   27.99,   65.99,   34.99,   22.9 ,\n",
              "         26.9 ,  142.99,  127.99,   12.25,   89.99,   87.  ,  219.  ,\n",
              "         59.9 ,   53.9 ,  108.99,  109.9 ,  113.57,  119.9 ,  105.9 ,\n",
              "        160.  ,   56.99,   49.99,  159.9 ,   69.9 ,   21.9 ,  540.  ,\n",
              "        169.  ,  169.9 ,  260.99,  219.99,   89.  ,   51.9 ,  110.  ,\n",
              "        210.  ,  140.  ,  175.99,   84.99,   79.9 ,   64.99,   54.9 ,\n",
              "        134.55,   33.99,  151.99,  149.  ,  168.98,   26.  ,  111.9 ,\n",
              "        437.39,   63.  ,   69.  ,  129.9 ,  124.99,  139.  ,    9.9 ,\n",
              "        114.9 ,  139.9 ,    8.99,   64.  ,   91.9 ,   32.99,   51.  ,\n",
              "        193.9 ,   15.9 ,   53.2 ,   39.9 ,    7.5 ,   77.9 ,   13.99,\n",
              "        219.9 ,  239.9 ,  105.6 ,  259.99,  233.35,   81.4 ,  270.  ,\n",
              "         36.9 ,   70.9 ,   84.9 ,  199.9 ,   91.4 ,   21.99,   24.99,\n",
              "         47.9 ,   52.9 ,  119.99,  260.  ,   73.9 ,   94.5 ,  116.59,\n",
              "         48.99,   29.9 ,  155.9 ,   76.9 ,  159.99,   41.14,  259.9 ,\n",
              "         19.9 ,  329.9 ,  153.  ,  143.  ,   58.99,   17.9 ,  190.  ,\n",
              "        359.9 ,  163.99,  104.9 ,   58.67,   49.8 ,   60.  ,   24.5 ,\n",
              "         77.99,   81.5 ,  241.89,   44.9 ,   74.9 ,   35.99,  249.9 ,\n",
              "        149.9 ,  106.  ,  115.  ,  129.  ,  330.  ,   68.5 ,   43.9 ,\n",
              "         83.25,   77.75,   87.85,   43.8 ,  167.9 ,   35.97,   39.97,\n",
              "         72.12,  656.43,  169.99,   75.  ,  142.  ,   46.99,  126.99,\n",
              "         16.9 ,  320.  ,   54.99,   17.99,  179.99,  205.  ,  214.99,\n",
              "        225.  ,  195.  ,  189.9 ,  310.9 ,  105.2 ,  100.  ,  182.  ,\n",
              "        203.  ,  226.  ,  254.9 ,   63.36,   59.97,  387.99,   62.7 ,\n",
              "         36.99,   62.  ,   79.  ,   65.  ,   68.8 ,  143.6 ,   16.8 ,\n",
              "        124.9 ,   54.55,  147.13,  113.9 ,  103.64,  369.9 ,  143.99,\n",
              "         50.4 ,   34.76,  220.  ,   88.8 ,  599.99,  179.  ,   39.99,\n",
              "        119.97,  134.99,   86.4 ,   10.8 ,   18.4 ,  129.89,  144.9 ,\n",
              "         82.9 ,   38.99,   32.2 ,   34.5 ,   46.9 ,  129.99, 1914.58,\n",
              "          7.9 ,   12.9 ,  115.9 ,   90.1 ,   30.  ,   54.  ,  159.  ,\n",
              "         55.6 ,  107.99,   57.9 ,  194.9 ,   39.5 ,   45.9 ,   42.99,\n",
              "         55.9 ,   83.36,  254.4 ,   52.64,  130.99,   88.9 ,  279.  ,\n",
              "        395.  ,   43.  ,   78.6 ,  137.8 ,  141.64,  138.18,  139.89,\n",
              "         22.99,   19.99,   44.99,  175.  ,   31.  ,   90.  ,  107.5 ,\n",
              "        339.9 ,  274.9 ,  249.  ,   66.9 ,   28.9 ,   61.5 ,   34.35,\n",
              "        279.9 ,   52.99,  229.99,   27.  ,  269.  ,  192.2 ,  120.  ,\n",
              "       1094.04,  127.45,  149.99,  118.58,   78.9 ,   98.99,  109.99,\n",
              "         18.99,   41.9 ,   79.99,   85.99,  105.99,   57.5 ,  154.99,\n",
              "         94.9 ,   53.  ,  122.9 ,   75.99,   42.9 ,   33.  ,  217.32,\n",
              "        178.  ,   55.5 ,  228.  ,   72.  ,   23.92,  199.  ,  143.54,\n",
              "        179.9 ,   18.9 ,   61.49,  150.  ,  125.93,  124.67,   88.  ,\n",
              "        271.99,   32.1 ,   83.99,  129.98,   67.99,   71.4 ,  122.62,\n",
              "         37.  ,   45.  ,  269.9 ,   99.  ,  115.99,  106.99,   57.31,\n",
              "         38.6 ,   73.01,  254.8 ,   82.97,   86.7 ,   61.  ,   93.  ,\n",
              "        144.99,  160.99,  184.9 ,  101.2 ,   41.8 ,  294.  ,  107.9 ,\n",
              "         18.74,   52.11,   37.49,   49.97,   80.  ,   50.  ,  166.89,\n",
              "         76.8 ,   70.99,  139.99,   55.27,   44.1 ,  195.9 ,  173.  ,\n",
              "        101.99,  179.46,  124.  ,   38.  ,   58.  ,  140.9 ,  142.9 ,\n",
              "        135.9 ,   35.9 ,   98.8 ,  235.73,  299.  ,  374.9 ,  262.9 ,\n",
              "        177.99,   81.8 ,   60.5 ,   66.55,   98.9 ,   49.95,  244.9 ,\n",
              "         38.5 ,   47.99,  834.56,   84.26,   43.99,   52.8 ,   49.89,\n",
              "        174.9 ,  154.9 ,  699.99,  134.  ,  227.  ,  299.9 ,   72.9 ,\n",
              "         82.99,   27.9 ,   58.9 ,  142.14,  162.5 ,   52.5 ,   25.  ,\n",
              "         27.5 ,   31.9 ,  369.  ,  589.  ,  104.99,  198.9 ,   29.  ,\n",
              "         66.  ,   68.  ,   48.9 ,   99.99,  138.5 ,   69.97,   42.  ,\n",
              "         28.99,  384.  ,  138.  ,   35.15,  161.5 ,  289.9 ,  236.  ,\n",
              "         36.5 ,   33.5 ,  135.  ,   87.9 ,   29.97,   51.99,  250.  ,\n",
              "        239.  ,  259.  ,  240.  ,  199.99,   63.99,   81.99,   72.5 ,\n",
              "         76.  ,  133.99,   85.  ,   74.  ,   76.5 ,   92.8 ,  140.12,\n",
              "         53.99,  149.8 ,   20.  ,  110.99,   61.99,   19.1 ,   22.8 ,\n",
              "        429.9 ,   56.  ,  286.4 ,  157.  ,   32.9 ,   65.06,  144.  ,\n",
              "         25.99,   26.99,  451.  ,  125.99,   52.58,   47.85,  125.  ,\n",
              "         86.  ,   86.9 ,   84.  ,   83.79,   12.5 ,   44.8 ,  209.  ,\n",
              "        296.9 ,  170.  ,   59.5 ,   19.83,   48.45,  195.99,  186.  ,\n",
              "         41.  ,   57.  ,   57.99,   70.14,   68.09,   38.9 ,   45.95,\n",
              "         44.57,   78.25,  132.76,  232.  ,   70.  ,   99.97,  158.6 ,\n",
              "         29.6 ,   28.38,  189.  ,   78.99,   91.3 ,   93.75,   37.9 ,\n",
              "         56.9 ,  528.85,  171.  ,  700.  ,  190.06,   71.9 , 1244.  ,\n",
              "        134.9 ,  148.9 ,   64.8 ,   71.49,  203.99,   67.9 ,   82.4 ,\n",
              "        229.  ,  422.  ,   96.  ,   90.99,   85.9 ,   93.9 ,   12.99,\n",
              "        233.8 ,  148.69,  145.9 ,  155.99,   65.9 ,  137.1 ,  218.  ,\n",
              "         93.24,  101.75,   96.9 ,   89.97,  109.03,   38.79,  654.99,\n",
              "         93.5 ,  198.89,   85.5 ,   92.42,   77.68,   69.5 ,   82.  ,\n",
              "         77.07,  120.7 ,  249.89,   96.4 ,  630.  ,  116.9 ,   55.99,\n",
              "        184.1 ,  999.98,   27.4 ,  113.99,  399.9 ,   58.5 ,  126.  ,\n",
              "         34.  ,   61.9 ,  137.9 ,  132.9 ,  125.57,  209.9 ,   76.99,\n",
              "         42.44,  279.99,   75.78,   79.57,  169.8 ,  262.44,  213.  ,\n",
              "        146.  , 1050.61,  178.5 ,  127.9 ,   82.5 ,  193.99,  156.9 ,\n",
              "        105.  ,   25.9 ,   72.6 ,  629.9 ,   75.5 ,   74.8 ,   79.05,\n",
              "         68.1 ,  115.5 ,  375.  ,  154.8 ,  103.9 ,   68.45,  251.92,\n",
              "         33.9 ,  106.9 ,  306.59,  189.99,   17.5 ,  256.2 ,   94.99,\n",
              "         68.9 ,   93.8 ,   26.77,  164.9 ,   40.35,   52.  ,   23.5 ,\n",
              "         10.9 ,   63.9 ,   62.9 ,  720.  ,   11.99,  121.97,  114.99,\n",
              "        450.  ,  399.  ,  216.  ,   49.5 ,  103.83,  112.99,   40.99,\n",
              "        249.99,   12.49,   95.99,   66.29,   75.7 ,  118.  ,  165.86,\n",
              "         85.97,   70.74,   50.5 ,   14.  ,  129.34,   19.5 ,  147.9 ,\n",
              "         47.  ,   72.99,  167.99,  112.  ,  119.  ,  104.87,   67.1 ,\n",
              "         16.24,  165.9 ,   46.  ,  106.5 ,   73.5 ,   30.9 ,  145.99,\n",
              "        201.4 ,   80.8 ,  248.8 ,  169.4 ,   14.9 ,   13.9 ,  366.4 ,\n",
              "        315.  ,  120.9 ,  549.1 ,   25.6 ,  180.99,  235.  ,  513.99,\n",
              "         44.5 ,  174.  ,   93.97,  140.99,  307.58,  338.5 ,  138.2 ,\n",
              "        791.95,  349.9 , 1269.1 ,  253.52,   94.  ,   75.27,  262.  ,\n",
              "        166.  ,   92.9 ,   91.  ,   87.99,  122.55,   53.5 ,  146.99,\n",
              "        221.99,   37.84,   62.5 ,   44.98,  121.99,  143.9 ,  165.  ,\n",
              "         87.27,  432.3 ,  284.9 ,  147.  ,  245.9 ,   73.  ,   23.99,\n",
              "         43.92,   48.04,  158.2 ,   35.4 ,  399.99,  137.  ,  136.99,\n",
              "        105.1 ,   14.82,  150.52,   53.98,  125.9 ,  141.5 ,   98.62,\n",
              "         44.85,  179.8 ,   85.82,   92.  ,   87.28,  599.98,  344.99,\n",
              "        319.9 ,   96.2 ,   37.6 ,  197.43,  189.8 ,   89.65,   82.8 ,\n",
              "         19.97,   25.54, 1740.  ,  133.  ,   47.6 ,  107.  ,  176.75,\n",
              "          7.99,   97.5 ,   86.99,  156.99,  114.  ,  161.  ,   88.95,\n",
              "        100.21,   19.8 ,  237.99, 1999.98,  212.5 ,  130.  ,   97.9 ,\n",
              "        174.44,  110.9 ,   70.62,  104.  ,  109.73,  148.93,   54.72,\n",
              "         97.99,  158.  ,  165.99,   98.63,  101.45,   66.99,  117.  ,\n",
              "         45.8 ,  198.  ,  229.9 ,   39.45,   26.4 ,  236.99,   87.5 ,\n",
              "         37.18,   22.7 , 1100.  ,  999.99,  266.55,  127.  ,   22.  ,\n",
              "        449.89,   37.99,  230.  ,  295.  ,   30.7 ,  449.9 ,   76.11,\n",
              "        195.63,   67.  ,  449.  ,  398.99,  246.99,   45.99,   72.8 ,\n",
              "        145.5 ,   52.82,   36.  ,   67.5 ,  293.  ,  124.24,   35.79,\n",
              "        231.8 ,   70.25,   65.52,   69.2 ,   61.8 ,  167.7 ,   12.  ,\n",
              "         99.77,   76.6 ,  278.6 ,  175.23,   30.5 ,   23.9 ,   80.99,\n",
              "         49.3 ,   99.85,   65.15,  172.1 ,  884.  ,  183.99,  146.9 ,\n",
              "         21.  ,  157.91,  207.  ,  305.  ,  109.82,   75.26,   56.1 ,\n",
              "        181.99,  810.  ,  166.67,   84.44,   91.2 ,   85.12,   92.95,\n",
              "        148.  ,  200.  ,  185.  ,  215.  ,    6.99,  264.9 ,   10.95,\n",
              "         46.22,   48.05,   10.5 ,  152.37,   94.35,  119.6 ,  132.  ,\n",
              "        224.9 ,  213.9 ,  128.99,  103.  ,   82.69,  144.5 ,  166.99,\n",
              "        232.99,   86.3 ,  288.9 ,  159.69,   28.18,   22.49,  141.99,\n",
              "         72.75,   69.94,   78.  ,   15.  ,  428.  ,  119.16,   89.77,\n",
              "         22.5 ,   98.  ,  899.  ,   73.4 ,  118.74,  263.9 ,  253.9 ,\n",
              "         75.61,   77.63,  127.5 ])"
            ]
          },
          "metadata": {
            "tags": []
          },
          "execution_count": 209
        }
      ]
    },
    {
      "cell_type": "code",
      "metadata": {
        "colab": {
          "base_uri": "https://localhost:8080/"
        },
        "id": "t39k1Lnc_Tc1",
        "outputId": "8453ae6c-1c04-4f43-b3f0-47521bcb0d17"
      },
      "source": [
        "cama_mesa_banho_maximo = cama_mesa_banho['price'].max()\n",
        "cama_mesa_banho_minimo = cama_mesa_banho['price'].min()\n",
        "rango_cama_mesa_banho = cama_mesa_banho_maximo - cama_mesa_banho_minimo\n",
        "rango_cama_mesa_banho"
      ],
      "execution_count": null,
      "outputs": [
        {
          "output_type": "execute_result",
          "data": {
            "text/plain": [
              "1992.99"
            ]
          },
          "metadata": {
            "tags": []
          },
          "execution_count": 212
        }
      ]
    },
    {
      "cell_type": "code",
      "metadata": {
        "colab": {
          "base_uri": "https://localhost:8080/"
        },
        "id": "1LQiOFkq_v1B",
        "outputId": "16d823b6-beb9-4396-96d1-7aa926af9382"
      },
      "source": [
        "esporte_lazer = productos_y_ordenes_items[productos_y_ordenes_items['product_category_name'] == 'esporte_lazer']\n",
        "esporte_lazer['price'].unique()"
      ],
      "execution_count": null,
      "outputs": [
        {
          "output_type": "execute_result",
          "data": {
            "text/plain": [
              "array([ 79.8 ,  26.7 , 285.  , ...,  31.99,  42.31, 187.43])"
            ]
          },
          "metadata": {
            "tags": []
          },
          "execution_count": 213
        }
      ]
    },
    {
      "cell_type": "code",
      "metadata": {
        "colab": {
          "base_uri": "https://localhost:8080/"
        },
        "id": "zYqGk4bW_9nX",
        "outputId": "37afbb67-df4d-4f8f-e001-ac9fea4138dc"
      },
      "source": [
        "esporte_lazer_maximo = esporte_lazer['price'].max()\n",
        "esporte_lazer_minimo = esporte_lazer['price'].min()\n",
        "rango_esporte_lazer = esporte_lazer_maximo - esporte_lazer_minimo\n",
        "rango_esporte_lazer"
      ],
      "execution_count": null,
      "outputs": [
        {
          "output_type": "execute_result",
          "data": {
            "text/plain": [
              "4054.5"
            ]
          },
          "metadata": {
            "tags": []
          },
          "execution_count": 214
        }
      ]
    },
    {
      "cell_type": "code",
      "metadata": {
        "colab": {
          "base_uri": "https://localhost:8080/"
        },
        "id": "muTdlohtALGI",
        "outputId": "539e46a3-650e-44a8-87fd-f6b87488fffc"
      },
      "source": [
        "moveis_decoracao = productos_y_ordenes_items[productos_y_ordenes_items['product_category_name'] == 'moveis_decoracao']\n",
        "moveis_decoracao['price'].unique()"
      ],
      "execution_count": null,
      "outputs": [
        {
          "output_type": "execute_result",
          "data": {
            "text/plain": [
              "array([   9.99,   59.9 ,   49.7 ,  111.9 ,   79.9 ,   69.9 ,   64.9 ,\n",
              "         39.  ,  139.9 ,   39.9 ,  148.  ,  119.9 ,   75.9 ,  199.99,\n",
              "         77.  ,   47.9 ,   15.  ,   45.  ,   19.9 ,   17.9 ,   49.9 ,\n",
              "         49.  ,   86.73,   55.  ,   36.99,   99.  ,   43.99,   12.99,\n",
              "         97.9 ,   44.99,  149.  ,   38.4 ,   35.  ,   32.99,   49.92,\n",
              "        149.9 ,   29.99,   39.99,   99.9 ,   46.5 ,  238.  ,   54.99,\n",
              "         24.9 ,   12.9 ,  124.9 ,   45.9 ,   15.9 ,  259.  ,   50.9 ,\n",
              "         45.8 ,   28.9 ,   34.9 ,   46.99,   14.9 ,   51.92,   57.11,\n",
              "         50.1 ,   56.9 ,  134.9 ,   54.9 ,  128.8 ,   97.69,  189.  ,\n",
              "         81.8 ,  137.5 ,   32.9 ,   88.99,   99.99,   98.9 ,   59.8 ,\n",
              "        120.  ,   34.99,  399.99,   84.9 ,  159.9 ,   16.9 ,   48.9 ,\n",
              "         54.  ,  129.  ,   75.  ,  150.78,   83.9 ,   13.9 ,   35.99,\n",
              "         46.  ,   15.99,   56.  ,  129.9 ,  149.96,  189.45,  149.99,\n",
              "         31.9 ,  210.  ,  229.  ,   48.09,  198.9 ,   76.9 ,   72.5 ,\n",
              "         76.  ,   82.  ,   17.75,   23.9 ,   18.75,   16.75,   57.65,\n",
              "         40.  ,   49.99,   20.9 ,  118.39,  299.  ,   63.99,   48.99,\n",
              "         89.9 ,  102.  ,   98.  ,  230.  ,  140.  ,  165.  ,   10.99,\n",
              "         17.99,  325.  ,   79.99,   40.55,   24.99,   43.  ,   33.41,\n",
              "         24.89,  139.99,  119.  ,  249.9 ,   94.  ,   18.9 ,   29.9 ,\n",
              "         57.  ,  149.89,  189.99,   50.  ,   49.8 ,  129.99,   66.9 ,\n",
              "         25.  ,   70.  ,   74.9 ,  188.48,   47.  ,   69.97,  110.4 ,\n",
              "         19.99,   59.49,   20.99,   59.99,    8.99,  169.99,  226.77,\n",
              "        189.2 ,  297.  ,   60.  ,  109.99,   72.9 ,   44.9 ,  118.8 ,\n",
              "        159.  ,   65.36,  114.9 ,   23.1 ,   31.  ,  370.  ,  504.  ,\n",
              "        300.  ,   47.4 ,    6.57,   47.49,   69.99,  189.9 ,  240.  ,\n",
              "        101.  ,   42.9 ,  100.  ,  219.  ,   80.  ,  175.8 ,  109.9 ,\n",
              "         93.99,  218.9 ,  169.9 ,   19.5 ,   30.94,  105.  ,  175.04,\n",
              "         22.9 ,   90.  ,  108.  ,  199.  ,   19.  ,   67.  ,   21.9 ,\n",
              "         41.5 ,  162.8 ,  270.  ,  269.9 ,  219.9 ,  284.9 ,   68.  ,\n",
              "         66.  ,   57.99,   35.5 ,  113.  ,  109.5 ,  139.  ,  179.9 ,\n",
              "       1699.99,   78.  ,  159.04,  125.93,  250.  ,  168.  ,   48.  ,\n",
              "         59.  ,    6.5 ,   79.  ,  259.9 ,   12.5 ,  179.99,   88.9 ,\n",
              "         37.5 ,   45.91,   42.  ,  179.65,  299.99,  135.  ,   96.  ,\n",
              "        200.  ,  299.9 ,  195.9 ,  212.33,   42.5 ,   81.6 ,  174.9 ,\n",
              "        139.49,   69.81,   17.5 ,  449.9 ,   75.6 ,   52.9 ,   36.9 ,\n",
              "         11.24,  150.  ,   73.35,   39.5 ,   55.7 ,   40.9 ,   98.7 ,\n",
              "         65.  ,   93.45,   88.53,  197.7 ,   70.9 ,  330.  ,  225.  ,\n",
              "        140.99,   58.9 ,  170.5 ,   35.9 ,  129.8 ,  226.97,  259.99,\n",
              "        119.99,  104.  ,   85.  ,  116.94,   10.9 ,  113.3 ,  196.8 ,\n",
              "        276.  ,  448.7 , 1199.95,  171.39,  104.9 ,  569.95,   22.37,\n",
              "         34.22,   87.9 , 1259.  ,  252.99,   89.18,   87.85,   55.2 ,\n",
              "        125.  ,  458.  ,   66.29,   21.98,   26.  ,  176.99,  115.9 ,\n",
              "        152.9 ,  385.  ,   14.85,   23.99,  166.94,  186.96,   48.5 ,\n",
              "         99.89,    9.9 ,  279.99,  139.94,  139.98,  136.3 ,   26.9 ,\n",
              "         17.  ,   29.98,  140.9 ,   79.5 ,   93.  ,   65.9 ,  295.  ,\n",
              "        129.34,  147.7 ,   65.7 ,  229.9 ,   99.8 ,  429.  ,   43.5 ,\n",
              "        108.9 ,  129.2 ,  198.5 ,   69.8 ,  349.9 ,  165.05,  241.9 ,\n",
              "         86.99,   53.  ,  399.9 ,   31.99,   10.89,   61.2 ,  144.5 ,\n",
              "        538.  ,  360.  ,  169.  ,  177.  ,   62.9 ,   59.22,  194.9 ,\n",
              "        455.7 ,   49.09,   25.5 ,  197.8 ,  389.  ,   35.4 ,   51.9 ,\n",
              "        229.99,   56.1 ,   18.35,   39.98,   52.11,   15.45,    8.85,\n",
              "        191.  ,  114.15, 1199.  ,  153.75,   65.99,   48.8 ,   45.99,\n",
              "         43.9 ,  345.62,   19.98,   68.64,  194.  ,   19.2 ,  184.9 ,\n",
              "         52.64,   31.5 ,  179.  ,   69.  ,  628.9 ,  196.2 ,   61.9 ,\n",
              "        107.9 ,  772.2 ,  279.  ,   94.9 ,  149.8 ,   97.47,  116.  ,\n",
              "         95.92,   97.  ,   24.75,   41.9 ,  599.9 ,   89.  ,  147.99,\n",
              "         44.55,  115.  ,  369.95,   32.  ,   27.  ,  514.88,  998.9 ,\n",
              "        139.85,  130.9 ,   11.99,  145.6 ,  129.7 ,   69.88,   95.9 ,\n",
              "        145.  ,  199.88,  239.  ,   41.89,  646.2 ,   99.85,   24.  ,\n",
              "         76.45,  249.  ,   18.5 ,  105.9 ,  227.07,  123.9 ,    4.9 ,\n",
              "        122.  ,   64.99,   82.17,   30.24,  143.9 ,  257.  ,    7.8 ,\n",
              "         96.9 ,  340.8 ,  206.  ,  197.5 ,   62.3 ,  739.98,  139.22,\n",
              "        207.  ,  208.  ,   37.9 ,   68.99,   21.5 ,   27.99,   78.99,\n",
              "        126.  ,   93.5 ,  217.8 ,  144.8 ,  248.  ,   66.3 ,  151.98,\n",
              "         60.9 ,   79.94,    7.9 , 1899.  ,   29.6 ,   23.49,  349.99,\n",
              "         43.38,  141.09,  158.  ,   70.91,  110.  ,  118.9 ,   28.99,\n",
              "        158.7 ,  148.5 ,   33.  ,   53.9 ,   10.  ,   79.89,  280.94,\n",
              "         59.78,   78.8 ,   82.9 ,   59.65,   68.9 ,  790.  ,  630.  ,\n",
              "         46.84,  198.  ,   11.5 ,   14.99,   62.5 ,  118.75,  118.74,\n",
              "        147.9 ,  170.49,  225.99,  249.99,   49.5 ,  135.9 ,   95.  ,\n",
              "        399.  ,   37.87,   86.3 ,   57.5 ,   89.87,   71.  ,   30.99,\n",
              "        270.9 ,   59.15,   58.55,  254.4 ,  280.  ,  275.31,   48.67,\n",
              "         42.99,   98.67,  167.  ,   69.6 , 1390.55,  334.8 ,  251.8 ,\n",
              "         84.65,   83.88,   44.35,  128.35,  125.99,   59.5 ,   94.96,\n",
              "        163.9 ,  201.55,  399.8 ,  128.89,   18.99,  207.06,  160.  ,\n",
              "         45.2 ,  168.75,  149.97,  182.  ,  159.8 ,  239.9 ,  112.  ,\n",
              "         51.48,  499.  ,   64.5 ,  237.6 ,  129.05,  147.  ,  181.62,\n",
              "        192.  ,   68.2 ,    8.25,   79.98,   89.98,   38.99,   30.9 ,\n",
              "        269.  ,  117.6 ,  247.  ,   18.  ,   91.  ,   34.  ,  109.78,\n",
              "        197.  ,  399.94,   76.8 ,  237.  ,   89.99,  109.  ,  214.9 ,\n",
              "        380.  ,   55.5 ,  132.9 ,   99.98,   78.98,   96.36,   46.9 ,\n",
              "         25.9 ,   59.88,   59.89,  215.  ,  207.83,   74.8 ,    7.12,\n",
              "         66.02,   36.  ,   29.5 ,  165.9 ,  207.9 ,  258.76,  432.9 ,\n",
              "         63.5 ,   98.99,  178.  ,   73.9 ,   71.9 ,   40.18,  289.  ,\n",
              "         45.49,  157.4 ,  224.9 ,   75.07,   52.  ,   14.33,   44.5 ,\n",
              "        277.8 ,  175.  ,   59.81,   88.34,   93.9 ,   45.89,  174.47,\n",
              "         65.49,    8.73,   20.7 ,  279.9 ,   49.3 ,  180.  ,   56.41,\n",
              "        258.  ,   59.55,  186.9 ,  183.  ,  196.  ,  178.5 ,  188.  ,\n",
              "        131.  ,   99.5 ,  145.5 ,   62.  ,  116.11,   81.99,   25.99,\n",
              "         85.9 ,   32.6 ,   99.73,   44.7 ,  110.99,   67.9 ,  599.  ,\n",
              "         69.79,  149.94,   74.99,  158.99,  189.48,  142.9 ,   52.99,\n",
              "         73.5 ,  139.2 ,  216.  ,  199.9 ,  175.3 ,  199.94,  125.4 ,\n",
              "         68.31,  220.13,  320.  ,  174.8 ,  207.33,  199.5 ,   27.9 ,\n",
              "         48.14,   37.  ,   39.29,   95.81,  167.84,  349.  ,  190.  ,\n",
              "        170.  ,   37.99,   20.89,  113.37,  109.82,   83.5 ,  132.2 ,\n",
              "        189.42,  185.  ,  209.99,  142.2 ,  191.4 ,  167.99,   91.71,\n",
              "        242.9 ,  739.99,  290.  ,  112.5 ,  126.69,  118.5 ,  144.77,\n",
              "        106.72,  118.  ,  510.  ,  149.98,  196.36,   85.51,  102.5 ,\n",
              "         97.5 ,  298.  ,    8.9 ,   45.14,   89.91,   69.89,   62.99,\n",
              "         55.99,   31.8 ,   56.99,  143.6 ,  146.7 ,  416.  ,  239.99,\n",
              "         59.74,  629.9 ,   28.  ,  143.35,   32.5 ,   72.  ,  113.9 ,\n",
              "        160.9 ,   18.04,   88.  ,  156.99,  315.39,   44.88,  350.  ,\n",
              "        959.99, 1501.5 ,  319.9 ,  166.99,  132.8 ,  104.5 ,  109.8 ,\n",
              "        109.7 ,  101.5 ,  103.9 ,  109.4 ,  110.8 ,   38.59,   52.3 ,\n",
              "        189.15,   41.73,  129.5 ,  319.  ,   84.  ,   22.99,   67.5 ,\n",
              "         83.81,  520.2 ,  310.  ,   38.5 ,  359.7 ,   13.55,   98.72,\n",
              "         26.5 ,   49.97,  253.52,  410.  ,   38.9 ,  208.9 ,   64.8 ,\n",
              "         31.2 ,   17.8 ,  108.82,  400.  ,  345.  ,   92.55,   59.33,\n",
              "        117.56,  269.99,   91.8 ,  107.61,   11.9 ,  173.  ,    9.4 ,\n",
              "        327.  ,   31.46,  106.  ,   23.8 ,  139.91,  144.9 ,  112.99,\n",
              "         97.81,  130.83,   55.83,  252.43,  315.  ,  349.3 ,  131.9 ,\n",
              "        174.42,  151.8 ,   13.5 ,  145.9 ,  264.  ,   15.6 ,   44.  ,\n",
              "        193.8 ,  155.  ,  148.99,   49.88])"
            ]
          },
          "metadata": {
            "tags": []
          },
          "execution_count": 215
        }
      ]
    },
    {
      "cell_type": "code",
      "metadata": {
        "colab": {
          "base_uri": "https://localhost:8080/"
        },
        "id": "AbwKp-rPAeJC",
        "outputId": "a91d4bc0-1775-4d28-ecc8-20dc26941325"
      },
      "source": [
        "moveis_decoracao_maximo = moveis_decoracao['price'].max()\n",
        "moveis_decoracao_minimo = moveis_decoracao['price'].min()\n",
        "rango_moveis_decoracao = moveis_decoracao_maximo - moveis_decoracao_minimo\n",
        "rango_moveis_decoracao"
      ],
      "execution_count": null,
      "outputs": [
        {
          "output_type": "execute_result",
          "data": {
            "text/plain": [
              "1894.1"
            ]
          },
          "metadata": {
            "tags": []
          },
          "execution_count": 216
        }
      ]
    },
    {
      "cell_type": "code",
      "metadata": {
        "colab": {
          "base_uri": "https://localhost:8080/"
        },
        "id": "PHLMJW-YAuEO",
        "outputId": "b37af9a0-9787-4ecb-8678-6eb67474afc8"
      },
      "source": [
        "beleza_saude = productos_y_ordenes_items[productos_y_ordenes_items['product_category_name'] == 'beleza_saude']\n",
        "beleza_saude['price'].unique()"
      ],
      "execution_count": null,
      "outputs": [
        {
          "output_type": "execute_result",
          "data": {
            "text/plain": [
              "array([ 29.9 ,  95.9 ,  89.9 , ...,  42.5 , 165.7 ,  30.97])"
            ]
          },
          "metadata": {
            "tags": []
          },
          "execution_count": 217
        }
      ]
    },
    {
      "cell_type": "code",
      "metadata": {
        "colab": {
          "base_uri": "https://localhost:8080/"
        },
        "id": "IN64mXdzA0ST",
        "outputId": "cb20c03f-50f2-41ba-d2c9-fa5b3cb3350b"
      },
      "source": [
        "beleza_saude_maximo = beleza_saude['price'].max()\n",
        "beleza_saude_minimo = beleza_saude['price'].min()\n",
        "rango_beleza_saude = beleza_saude_maximo - beleza_saude_minimo\n",
        "rango_beleza_saude"
      ],
      "execution_count": null,
      "outputs": [
        {
          "output_type": "execute_result",
          "data": {
            "text/plain": [
              "3122.8"
            ]
          },
          "metadata": {
            "tags": []
          },
          "execution_count": 218
        }
      ]
    },
    {
      "cell_type": "code",
      "metadata": {
        "colab": {
          "base_uri": "https://localhost:8080/"
        },
        "id": "IcmfTne0A_7j",
        "outputId": "1cb1abe3-0da2-4076-f51a-1b8e8e4a7444"
      },
      "source": [
        "utilidades_domesticas = productos_y_ordenes_items[productos_y_ordenes_items['product_category_name'] == 'utilidades_domesticas']\n",
        "utilidades_domesticas['price'].unique()"
      ],
      "execution_count": null,
      "outputs": [
        {
          "output_type": "execute_result",
          "data": {
            "text/plain": [
              "array([ 37.9 ,  69.9 ,  79.99, ..., 108.99, 459.9 , 154.  ])"
            ]
          },
          "metadata": {
            "tags": []
          },
          "execution_count": 219
        }
      ]
    },
    {
      "cell_type": "code",
      "metadata": {
        "colab": {
          "base_uri": "https://localhost:8080/"
        },
        "id": "0rgsmSP9BGAF",
        "outputId": "ae4871f4-17c5-49b5-fa19-348690bf919d"
      },
      "source": [
        "utilidades_domesticas_maximo = utilidades_domesticas['price'].max()\n",
        "utilidades_domesticas_minimo = utilidades_domesticas['price'].min()\n",
        "rango_utilidades_domesticas = utilidades_domesticas_maximo - utilidades_domesticas_minimo\n",
        "rango_utilidades_domesticas"
      ],
      "execution_count": null,
      "outputs": [
        {
          "output_type": "execute_result",
          "data": {
            "text/plain": [
              "6731.94"
            ]
          },
          "metadata": {
            "tags": []
          },
          "execution_count": 220
        }
      ]
    },
    {
      "cell_type": "markdown",
      "metadata": {
        "id": "KChvPeJDmBwn"
      },
      "source": [
        "#### 2.3. Vendedores de dichos productos"
      ]
    },
    {
      "cell_type": "code",
      "metadata": {
        "colab": {
          "base_uri": "https://localhost:8080/",
          "height": 224
        },
        "id": "X08Z-_dQmEYP",
        "outputId": "aad2d729-d70c-410a-aab5-9cda0ff026cb"
      },
      "source": [
        "productos_ordenes_items_vendedores = pd.merge(productos_y_ordenes_items, sellers_clean, left_on='seller_id', right_on='seller_id').sort_index()\n",
        "productos_ordenes_items_vendedores.head()"
      ],
      "execution_count": null,
      "outputs": [
        {
          "output_type": "execute_result",
          "data": {
            "text/html": [
              "<div>\n",
              "<style scoped>\n",
              "    .dataframe tbody tr th:only-of-type {\n",
              "        vertical-align: middle;\n",
              "    }\n",
              "\n",
              "    .dataframe tbody tr th {\n",
              "        vertical-align: top;\n",
              "    }\n",
              "\n",
              "    .dataframe thead th {\n",
              "        text-align: right;\n",
              "    }\n",
              "</style>\n",
              "<table border=\"1\" class=\"dataframe\">\n",
              "  <thead>\n",
              "    <tr style=\"text-align: right;\">\n",
              "      <th></th>\n",
              "      <th>product_id</th>\n",
              "      <th>product_category_name</th>\n",
              "      <th>order_id</th>\n",
              "      <th>order_item_id</th>\n",
              "      <th>seller_id</th>\n",
              "      <th>price</th>\n",
              "      <th>seller_zip_code_prefix</th>\n",
              "      <th>seller_city</th>\n",
              "    </tr>\n",
              "  </thead>\n",
              "  <tbody>\n",
              "    <tr>\n",
              "      <th>0</th>\n",
              "      <td>1e9e8ef04dbcff4541ed26657ea517e5</td>\n",
              "      <td>perfumaria</td>\n",
              "      <td>e17e4f88e31525f7deef66779844ddce</td>\n",
              "      <td>1</td>\n",
              "      <td>5670f4db5b62c43d542e1b2d56b0cf7c</td>\n",
              "      <td>10.91</td>\n",
              "      <td>3694</td>\n",
              "      <td>sao paulo</td>\n",
              "    </tr>\n",
              "    <tr>\n",
              "      <th>1</th>\n",
              "      <td>a035b83b3628decee6e3823924e0c10f</td>\n",
              "      <td>perfumaria</td>\n",
              "      <td>b18cb761efbe70da4838435a349abd07</td>\n",
              "      <td>1</td>\n",
              "      <td>5670f4db5b62c43d542e1b2d56b0cf7c</td>\n",
              "      <td>268.38</td>\n",
              "      <td>3694</td>\n",
              "      <td>sao paulo</td>\n",
              "    </tr>\n",
              "    <tr>\n",
              "      <th>2</th>\n",
              "      <td>091107484dd7172f5dcfed173e4a960e</td>\n",
              "      <td>perfumaria</td>\n",
              "      <td>a7708ffa8966514c098d15e1abfa6417</td>\n",
              "      <td>1</td>\n",
              "      <td>5670f4db5b62c43d542e1b2d56b0cf7c</td>\n",
              "      <td>7.65</td>\n",
              "      <td>3694</td>\n",
              "      <td>sao paulo</td>\n",
              "    </tr>\n",
              "    <tr>\n",
              "      <th>3</th>\n",
              "      <td>ccac9976bafbf7e587bd2c29302e2314</td>\n",
              "      <td>perfumaria</td>\n",
              "      <td>206d1a13596872a713dba14504fdf699</td>\n",
              "      <td>1</td>\n",
              "      <td>5670f4db5b62c43d542e1b2d56b0cf7c</td>\n",
              "      <td>268.38</td>\n",
              "      <td>3694</td>\n",
              "      <td>sao paulo</td>\n",
              "    </tr>\n",
              "    <tr>\n",
              "      <th>4</th>\n",
              "      <td>2eadf6089620e82047e4d24101dc6759</td>\n",
              "      <td>perfumaria</td>\n",
              "      <td>f8bb4d404d187c79b86ccf852dfa345e</td>\n",
              "      <td>1</td>\n",
              "      <td>5670f4db5b62c43d542e1b2d56b0cf7c</td>\n",
              "      <td>16.88</td>\n",
              "      <td>3694</td>\n",
              "      <td>sao paulo</td>\n",
              "    </tr>\n",
              "  </tbody>\n",
              "</table>\n",
              "</div>"
            ],
            "text/plain": [
              "                         product_id  ... seller_city\n",
              "0  1e9e8ef04dbcff4541ed26657ea517e5  ...   sao paulo\n",
              "1  a035b83b3628decee6e3823924e0c10f  ...   sao paulo\n",
              "2  091107484dd7172f5dcfed173e4a960e  ...   sao paulo\n",
              "3  ccac9976bafbf7e587bd2c29302e2314  ...   sao paulo\n",
              "4  2eadf6089620e82047e4d24101dc6759  ...   sao paulo\n",
              "\n",
              "[5 rows x 8 columns]"
            ]
          },
          "metadata": {
            "tags": []
          },
          "execution_count": 221
        }
      ]
    },
    {
      "cell_type": "code",
      "metadata": {
        "colab": {
          "base_uri": "https://localhost:8080/"
        },
        "id": "HOJeYadPB7px",
        "outputId": "078aaaad-989a-4093-f9ed-a372a9491bce"
      },
      "source": [
        "cama_mesa_banho_vendedor = productos_y_ordenes_items[productos_y_ordenes_items['product_category_name'] == 'cama_mesa_banho']\n",
        "cama_mesa_banho_vendedor['seller_id'].count()"
      ],
      "execution_count": null,
      "outputs": [
        {
          "output_type": "execute_result",
          "data": {
            "text/plain": [
              "11115"
            ]
          },
          "metadata": {
            "tags": []
          },
          "execution_count": 223
        }
      ]
    },
    {
      "cell_type": "code",
      "metadata": {
        "colab": {
          "base_uri": "https://localhost:8080/"
        },
        "id": "sWrTbzY3CKt0",
        "outputId": "3d682d52-8c75-4c7c-a92c-d6f983230f88"
      },
      "source": [
        "esporte_lazer_vendedor = productos_y_ordenes_items[productos_y_ordenes_items['product_category_name'] == 'esporte_lazer']\n",
        "esporte_lazer_vendedor['seller_id'].count()"
      ],
      "execution_count": null,
      "outputs": [
        {
          "output_type": "execute_result",
          "data": {
            "text/plain": [
              "8641"
            ]
          },
          "metadata": {
            "tags": []
          },
          "execution_count": 224
        }
      ]
    },
    {
      "cell_type": "code",
      "metadata": {
        "colab": {
          "base_uri": "https://localhost:8080/"
        },
        "id": "fFJ1abKWCeBr",
        "outputId": "6ea0fc49-9f2c-499b-f913-ad54c7c45798"
      },
      "source": [
        "moveis_decoracao_vendedor = productos_y_ordenes_items[productos_y_ordenes_items['product_category_name'] == 'moveis_decoracao']\n",
        "moveis_decoracao_vendedor['seller_id'].count()"
      ],
      "execution_count": null,
      "outputs": [
        {
          "output_type": "execute_result",
          "data": {
            "text/plain": [
              "8334"
            ]
          },
          "metadata": {
            "tags": []
          },
          "execution_count": 225
        }
      ]
    },
    {
      "cell_type": "code",
      "metadata": {
        "colab": {
          "base_uri": "https://localhost:8080/"
        },
        "id": "ZCsYirUNClBp",
        "outputId": "b8bab991-49d0-4625-915d-22651381a02d"
      },
      "source": [
        "beleza_saude_vendedor = productos_y_ordenes_items[productos_y_ordenes_items['product_category_name'] == 'beleza_saude']\n",
        "beleza_saude_vendedor['seller_id'].count()"
      ],
      "execution_count": null,
      "outputs": [
        {
          "output_type": "execute_result",
          "data": {
            "text/plain": [
              "9670"
            ]
          },
          "metadata": {
            "tags": []
          },
          "execution_count": 226
        }
      ]
    },
    {
      "cell_type": "code",
      "metadata": {
        "colab": {
          "base_uri": "https://localhost:8080/"
        },
        "id": "-QbpS96GCr7l",
        "outputId": "8bdbe93b-ad30-4a04-8ff5-aba81f90e8d5"
      },
      "source": [
        "utilidades_domesticas_vendedor = productos_y_ordenes_items[productos_y_ordenes_items['product_category_name'] == 'utilidades_domesticas']\n",
        "utilidades_domesticas_vendedor['seller_id'].count()"
      ],
      "execution_count": null,
      "outputs": [
        {
          "output_type": "execute_result",
          "data": {
            "text/plain": [
              "6964"
            ]
          },
          "metadata": {
            "tags": []
          },
          "execution_count": 227
        }
      ]
    },
    {
      "cell_type": "markdown",
      "metadata": {
        "id": "g9HshRjJOM8F"
      },
      "source": [
        "### 3. Tipos de pago"
      ]
    },
    {
      "cell_type": "markdown",
      "metadata": {
        "id": "tRUkMUu9m3iI"
      },
      "source": [
        "#### 3.1. Métodos de pago existentes"
      ]
    },
    {
      "cell_type": "code",
      "metadata": {
        "colab": {
          "base_uri": "https://localhost:8080/"
        },
        "id": "lGkeKYEQm6xh",
        "outputId": "b006fd0d-26ab-4021-c2f5-b68e5b2ac4cb"
      },
      "source": [
        "payments_clean['payment_type'].unique()"
      ],
      "execution_count": null,
      "outputs": [
        {
          "output_type": "execute_result",
          "data": {
            "text/plain": [
              "array(['credit_card', 'boleto', 'voucher', 'debit_card', 'not_defined'],\n",
              "      dtype=object)"
            ]
          },
          "metadata": {
            "tags": []
          },
          "execution_count": 135
        }
      ]
    },
    {
      "cell_type": "markdown",
      "metadata": {
        "id": "J9Dqlepmjoc8"
      },
      "source": [
        "#### 3.2. Métodos de pago más populares"
      ]
    },
    {
      "cell_type": "code",
      "metadata": {
        "colab": {
          "base_uri": "https://localhost:8080/"
        },
        "id": "8RnnzEOxjrMq",
        "outputId": "cba04fec-164f-40f9-f004-6513eba24a94"
      },
      "source": [
        "metodos_pago = payments_clean.groupby('payment_type')['order_id'].count()\n",
        "metodos_pago"
      ],
      "execution_count": null,
      "outputs": [
        {
          "output_type": "execute_result",
          "data": {
            "text/plain": [
              "payment_type\n",
              "boleto         19784\n",
              "credit_card    76795\n",
              "debit_card      1529\n",
              "not_defined        3\n",
              "voucher         5775\n",
              "Name: order_id, dtype: int64"
            ]
          },
          "metadata": {
            "tags": []
          },
          "execution_count": 137
        }
      ]
    },
    {
      "cell_type": "code",
      "metadata": {
        "colab": {
          "base_uri": "https://localhost:8080/",
          "height": 350
        },
        "id": "XfFYNeowqa_u",
        "outputId": "87a96b62-d456-4070-8bed-900e08ec1741"
      },
      "source": [
        "ax = sns.barplot(metodos_pago.index, metodos_pago)\n",
        "ax.set_title('Métodos de pago más populares')\n",
        "ax.set(xlabel='Método');\n",
        "ax.set(ylabel='count');"
      ],
      "execution_count": null,
      "outputs": [
        {
          "output_type": "stream",
          "text": [
            "/usr/local/lib/python3.7/dist-packages/seaborn/_decorators.py:43: FutureWarning: Pass the following variables as keyword args: x, y. From version 0.12, the only valid positional argument will be `data`, and passing other arguments without an explicit keyword will result in an error or misinterpretation.\n",
            "  FutureWarning\n"
          ],
          "name": "stderr"
        },
        {
          "output_type": "display_data",
          "data": {
            "image/png": "[encoded data removed]",
            "text/plain": [
              "<Figure size 432x288 with 1 Axes>"
            ]
          },
          "metadata": {
            "tags": [],
            "needs_background": "light"
          }
        }
      ]
    },
    {
      "cell_type": "markdown",
      "metadata": {
        "id": "2cHi9vKPm-_7"
      },
      "source": [
        "#### 3.3. Valores de los tipos de pago"
      ]
    },
    {
      "cell_type": "code",
      "metadata": {
        "colab": {
          "base_uri": "https://localhost:8080/"
        },
        "id": "mhEStFWonC8L",
        "outputId": "442fb61d-1d3c-45f7-e5c6-9853c57faa17"
      },
      "source": [
        "boleto_valor = payments_clean[payments_clean['payment_type'] == 'boleto']\n",
        "boleto_valor['payment_value'].unique()"
      ],
      "execution_count": null,
      "outputs": [
        {
          "output_type": "execute_result",
          "data": {
            "text/plain": [
              "array([ 51.95, 330.66, 283.34, ..., 141.78, 160.89, 363.31])"
            ]
          },
          "metadata": {
            "tags": []
          },
          "execution_count": 229
        }
      ]
    },
    {
      "cell_type": "code",
      "metadata": {
        "colab": {
          "base_uri": "https://localhost:8080/"
        },
        "id": "jOoM6Pf_En35",
        "outputId": "a240fdea-e314-4e68-f27f-d17951bb3549"
      },
      "source": [
        "boleto_valor_maximo = boleto_valor['payment_value'].max()\n",
        "boleto_valor_minimo = boleto_valor['payment_value'].min()\n",
        "rango_boleto_valor = boleto_valor_maximo - boleto_valor_minimo\n",
        "rango_boleto_valor"
      ],
      "execution_count": null,
      "outputs": [
        {
          "output_type": "execute_result",
          "data": {
            "text/plain": [
              "7263.26"
            ]
          },
          "metadata": {
            "tags": []
          },
          "execution_count": 231
        }
      ]
    },
    {
      "cell_type": "code",
      "metadata": {
        "colab": {
          "base_uri": "https://localhost:8080/"
        },
        "id": "dkO_Hu82FZYk",
        "outputId": "e9d7ab49-054b-4cbf-a72a-8f0829f4e231"
      },
      "source": [
        "credit_card_valor = payments_clean[payments_clean['payment_type'] == 'credit_card']\n",
        "credit_card_valor['payment_value'].unique()"
      ],
      "execution_count": null,
      "outputs": [
        {
          "output_type": "execute_result",
          "data": {
            "text/plain": [
              "array([ 99.33,  24.39,  65.71, ..., 356.53, 205.71, 100.55])"
            ]
          },
          "metadata": {
            "tags": []
          },
          "execution_count": 232
        }
      ]
    },
    {
      "cell_type": "code",
      "metadata": {
        "colab": {
          "base_uri": "https://localhost:8080/"
        },
        "id": "OywlbfzCFer5",
        "outputId": "18dd75b8-a612-4be1-938c-056d1acd2d81"
      },
      "source": [
        "credit_card_valor_maximo = credit_card_valor['payment_value'].max()\n",
        "credit_card_valor_minimo = credit_card_valor['payment_value'].min()\n",
        "rango_credit_card_valor = credit_card_valor_maximo - credit_card_valor_minimo\n",
        "rango_credit_card_valor"
      ],
      "execution_count": null,
      "outputs": [
        {
          "output_type": "execute_result",
          "data": {
            "text/plain": [
              "13664.07"
            ]
          },
          "metadata": {
            "tags": []
          },
          "execution_count": 234
        }
      ]
    },
    {
      "cell_type": "code",
      "metadata": {
        "colab": {
          "base_uri": "https://localhost:8080/"
        },
        "id": "vzl5daqtF1Zc",
        "outputId": "1c3d698e-9fa9-44c8-9673-b7e59192c993"
      },
      "source": [
        "debit_card_valor = payments_clean[payments_clean['payment_type'] == 'debit_card']\n",
        "debit_card_valor['payment_value'].unique()"
      ],
      "execution_count": null,
      "outputs": [
        {
          "output_type": "execute_result",
          "data": {
            "text/plain": [
              "array([227.12,  35.14,  76.39, ...,  61.72,  25.41,  61.63])"
            ]
          },
          "metadata": {
            "tags": []
          },
          "execution_count": 235
        }
      ]
    },
    {
      "cell_type": "code",
      "metadata": {
        "colab": {
          "base_uri": "https://localhost:8080/"
        },
        "id": "1Q-JbTzPF8i4",
        "outputId": "27d19514-52f9-4860-b2b1-5efbc80da6cb"
      },
      "source": [
        "debit_card_valor_maximo = debit_card_valor['payment_value'].max()\n",
        "debit_card_valor_minimo = debit_card_valor['payment_value'].min()\n",
        "rango_debit_card_valor = debit_card_valor_maximo - debit_card_valor_minimo\n",
        "rango_debit_card_valor"
      ],
      "execution_count": null,
      "outputs": [
        {
          "output_type": "execute_result",
          "data": {
            "text/plain": [
              "4432.12"
            ]
          },
          "metadata": {
            "tags": []
          },
          "execution_count": 236
        }
      ]
    },
    {
      "cell_type": "code",
      "metadata": {
        "colab": {
          "base_uri": "https://localhost:8080/"
        },
        "id": "Hg0GhnHIGLmg",
        "outputId": "3219ab8a-3a91-4635-8d5a-705deb97a2cf"
      },
      "source": [
        "voucher_valor = payments_clean[payments_clean['payment_type'] == 'voucher']\n",
        "voucher_valor['payment_value'].unique()"
      ],
      "execution_count": null,
      "outputs": [
        {
          "output_type": "execute_result",
          "data": {
            "text/plain": [
              "array([ 45.17,  69.46,  50.8 , ...,  80.4 ,  41.89, 176.56])"
            ]
          },
          "metadata": {
            "tags": []
          },
          "execution_count": 238
        }
      ]
    },
    {
      "cell_type": "code",
      "metadata": {
        "colab": {
          "base_uri": "https://localhost:8080/"
        },
        "id": "V4WTu7VRGVfa",
        "outputId": "5c3f23f5-c14c-4fe7-9886-f11ca0bac14d"
      },
      "source": [
        "voucher_valor_maximo = voucher_valor['payment_value'].max()\n",
        "voucher_valor_minimo = voucher_valor['payment_value'].min()\n",
        "rango_voucher_valor = voucher_valor_maximo - voucher_valor_minimo\n",
        "rango_voucher_valor"
      ],
      "execution_count": null,
      "outputs": [
        {
          "output_type": "execute_result",
          "data": {
            "text/plain": [
              "3184.34"
            ]
          },
          "metadata": {
            "tags": []
          },
          "execution_count": 239
        }
      ]
    },
    {
      "cell_type": "markdown",
      "metadata": {
        "id": "IaEBO6WP10VJ"
      },
      "source": [
        "#### 3.4. Productos con el valor de cada tipo de pago"
      ]
    },
    {
      "cell_type": "code",
      "metadata": {
        "colab": {
          "base_uri": "https://localhost:8080/",
          "height": 204
        },
        "id": "mh0Od8Wd3qi-",
        "outputId": "601914e7-41ac-48ea-ea4f-68b9c45d071a"
      },
      "source": [
        "payments_y_order_items = pd.merge(payments_clean, order_items_clean, left_on='order_id', right_on='order_id')\n",
        "payments_y_order_items.head()"
      ],
      "execution_count": null,
      "outputs": [
        {
          "output_type": "execute_result",
          "data": {
            "text/html": [
              "<div>\n",
              "<style scoped>\n",
              "    .dataframe tbody tr th:only-of-type {\n",
              "        vertical-align: middle;\n",
              "    }\n",
              "\n",
              "    .dataframe tbody tr th {\n",
              "        vertical-align: top;\n",
              "    }\n",
              "\n",
              "    .dataframe thead th {\n",
              "        text-align: right;\n",
              "    }\n",
              "</style>\n",
              "<table border=\"1\" class=\"dataframe\">\n",
              "  <thead>\n",
              "    <tr style=\"text-align: right;\">\n",
              "      <th></th>\n",
              "      <th>order_id</th>\n",
              "      <th>payment_type</th>\n",
              "      <th>payment_value</th>\n",
              "      <th>order_item_id</th>\n",
              "      <th>product_id</th>\n",
              "      <th>seller_id</th>\n",
              "      <th>price</th>\n",
              "    </tr>\n",
              "  </thead>\n",
              "  <tbody>\n",
              "    <tr>\n",
              "      <th>0</th>\n",
              "      <td>b81ef226f3fe1789b1e8b2acac839d17</td>\n",
              "      <td>credit_card</td>\n",
              "      <td>99.33</td>\n",
              "      <td>1</td>\n",
              "      <td>af74cc53dcffc8384b29e7abfa41902b</td>\n",
              "      <td>213b25e6f54661939f11710a6fddb871</td>\n",
              "      <td>79.80</td>\n",
              "    </tr>\n",
              "    <tr>\n",
              "      <th>1</th>\n",
              "      <td>a9810da82917af2d9aefd1278f1dcfa0</td>\n",
              "      <td>credit_card</td>\n",
              "      <td>24.39</td>\n",
              "      <td>1</td>\n",
              "      <td>a630cc320a8c872f9de830cf121661a3</td>\n",
              "      <td>eaf6d55068dea77334e8477d3878d89e</td>\n",
              "      <td>17.00</td>\n",
              "    </tr>\n",
              "    <tr>\n",
              "      <th>2</th>\n",
              "      <td>25e8ea4e93396b6fa0d3dd708e76c1bd</td>\n",
              "      <td>credit_card</td>\n",
              "      <td>65.71</td>\n",
              "      <td>1</td>\n",
              "      <td>2028bf1b01cafb2d2b1901fca4083222</td>\n",
              "      <td>cc419e0650a3c5ba77189a1882b7556a</td>\n",
              "      <td>56.99</td>\n",
              "    </tr>\n",
              "    <tr>\n",
              "      <th>3</th>\n",
              "      <td>ba78997921bbcdc1373bb41e913ab953</td>\n",
              "      <td>credit_card</td>\n",
              "      <td>107.78</td>\n",
              "      <td>1</td>\n",
              "      <td>548e5bfe28edceab6b51fa707cc9556f</td>\n",
              "      <td>da8622b14eb17ae2831f4ac5b9dab84a</td>\n",
              "      <td>89.90</td>\n",
              "    </tr>\n",
              "    <tr>\n",
              "      <th>4</th>\n",
              "      <td>42fdf880ba16b47b59251dd489d4441a</td>\n",
              "      <td>credit_card</td>\n",
              "      <td>128.45</td>\n",
              "      <td>1</td>\n",
              "      <td>386486367c1f9d4f587a8864ccb6902b</td>\n",
              "      <td>cca3071e3e9bb7d12640c9fbe2301306</td>\n",
              "      <td>113.57</td>\n",
              "    </tr>\n",
              "  </tbody>\n",
              "</table>\n",
              "</div>"
            ],
            "text/plain": [
              "                           order_id  ...   price\n",
              "0  b81ef226f3fe1789b1e8b2acac839d17  ...   79.80\n",
              "1  a9810da82917af2d9aefd1278f1dcfa0  ...   17.00\n",
              "2  25e8ea4e93396b6fa0d3dd708e76c1bd  ...   56.99\n",
              "3  ba78997921bbcdc1373bb41e913ab953  ...   89.90\n",
              "4  42fdf880ba16b47b59251dd489d4441a  ...  113.57\n",
              "\n",
              "[5 rows x 7 columns]"
            ]
          },
          "metadata": {
            "tags": []
          },
          "execution_count": 71
        }
      ]
    },
    {
      "cell_type": "code",
      "metadata": {
        "colab": {
          "base_uri": "https://localhost:8080/",
          "height": 224
        },
        "id": "03jDDLA64CtS",
        "outputId": "030baa3e-00a4-4ac6-9242-896a9b73d089"
      },
      "source": [
        "payments_order_items_y_products = pd.merge(payments_y_order_items, products_clean, left_on='product_id', right_on='product_id')\n",
        "payments_order_items_y_products.head()"
      ],
      "execution_count": null,
      "outputs": [
        {
          "output_type": "execute_result",
          "data": {
            "text/html": [
              "<div>\n",
              "<style scoped>\n",
              "    .dataframe tbody tr th:only-of-type {\n",
              "        vertical-align: middle;\n",
              "    }\n",
              "\n",
              "    .dataframe tbody tr th {\n",
              "        vertical-align: top;\n",
              "    }\n",
              "\n",
              "    .dataframe thead th {\n",
              "        text-align: right;\n",
              "    }\n",
              "</style>\n",
              "<table border=\"1\" class=\"dataframe\">\n",
              "  <thead>\n",
              "    <tr style=\"text-align: right;\">\n",
              "      <th></th>\n",
              "      <th>order_id</th>\n",
              "      <th>payment_type</th>\n",
              "      <th>payment_value</th>\n",
              "      <th>order_item_id</th>\n",
              "      <th>product_id</th>\n",
              "      <th>seller_id</th>\n",
              "      <th>price</th>\n",
              "      <th>product_category_name</th>\n",
              "    </tr>\n",
              "  </thead>\n",
              "  <tbody>\n",
              "    <tr>\n",
              "      <th>0</th>\n",
              "      <td>b81ef226f3fe1789b1e8b2acac839d17</td>\n",
              "      <td>credit_card</td>\n",
              "      <td>99.33</td>\n",
              "      <td>1</td>\n",
              "      <td>af74cc53dcffc8384b29e7abfa41902b</td>\n",
              "      <td>213b25e6f54661939f11710a6fddb871</td>\n",
              "      <td>79.80</td>\n",
              "      <td>casa_construcao</td>\n",
              "    </tr>\n",
              "    <tr>\n",
              "      <th>1</th>\n",
              "      <td>d86305c284cecff56c7ee9d3fbd4f8d6</td>\n",
              "      <td>credit_card</td>\n",
              "      <td>93.72</td>\n",
              "      <td>1</td>\n",
              "      <td>af74cc53dcffc8384b29e7abfa41902b</td>\n",
              "      <td>213b25e6f54661939f11710a6fddb871</td>\n",
              "      <td>79.80</td>\n",
              "      <td>casa_construcao</td>\n",
              "    </tr>\n",
              "    <tr>\n",
              "      <th>2</th>\n",
              "      <td>a9810da82917af2d9aefd1278f1dcfa0</td>\n",
              "      <td>credit_card</td>\n",
              "      <td>24.39</td>\n",
              "      <td>1</td>\n",
              "      <td>a630cc320a8c872f9de830cf121661a3</td>\n",
              "      <td>eaf6d55068dea77334e8477d3878d89e</td>\n",
              "      <td>17.00</td>\n",
              "      <td>automotivo</td>\n",
              "    </tr>\n",
              "    <tr>\n",
              "      <th>3</th>\n",
              "      <td>25e8ea4e93396b6fa0d3dd708e76c1bd</td>\n",
              "      <td>credit_card</td>\n",
              "      <td>65.71</td>\n",
              "      <td>1</td>\n",
              "      <td>2028bf1b01cafb2d2b1901fca4083222</td>\n",
              "      <td>cc419e0650a3c5ba77189a1882b7556a</td>\n",
              "      <td>56.99</td>\n",
              "      <td>perfumaria</td>\n",
              "    </tr>\n",
              "    <tr>\n",
              "      <th>4</th>\n",
              "      <td>1966886b80f14d0588adf6406afb0026</td>\n",
              "      <td>debit_card</td>\n",
              "      <td>68.89</td>\n",
              "      <td>1</td>\n",
              "      <td>2028bf1b01cafb2d2b1901fca4083222</td>\n",
              "      <td>cc419e0650a3c5ba77189a1882b7556a</td>\n",
              "      <td>56.99</td>\n",
              "      <td>perfumaria</td>\n",
              "    </tr>\n",
              "  </tbody>\n",
              "</table>\n",
              "</div>"
            ],
            "text/plain": [
              "                           order_id payment_type  ...  price  product_category_name\n",
              "0  b81ef226f3fe1789b1e8b2acac839d17  credit_card  ...  79.80        casa_construcao\n",
              "1  d86305c284cecff56c7ee9d3fbd4f8d6  credit_card  ...  79.80        casa_construcao\n",
              "2  a9810da82917af2d9aefd1278f1dcfa0  credit_card  ...  17.00             automotivo\n",
              "3  25e8ea4e93396b6fa0d3dd708e76c1bd  credit_card  ...  56.99             perfumaria\n",
              "4  1966886b80f14d0588adf6406afb0026   debit_card  ...  56.99             perfumaria\n",
              "\n",
              "[5 rows x 8 columns]"
            ]
          },
          "metadata": {
            "tags": []
          },
          "execution_count": 73
        }
      ]
    },
    {
      "cell_type": "code",
      "metadata": {
        "colab": {
          "base_uri": "https://localhost:8080/"
        },
        "id": "SXSWXy914XFp",
        "outputId": "bb217d23-1366-4e12-cd43-59874cf9c20d"
      },
      "source": [
        "articulos_por_tipos_pagos = payments_order_items_y_products.groupby('payment_type')['product_category_name'].value_counts()\n",
        "articulos_por_tipos_pagos"
      ],
      "execution_count": null,
      "outputs": [
        {
          "output_type": "execute_result",
          "data": {
            "text/plain": [
              "payment_type  product_category_name    \n",
              "boleto        informatica_acessorios       2158\n",
              "              cama_mesa_banho              1875\n",
              "              beleza_saude                 1860\n",
              "              esporte_lazer                1772\n",
              "              moveis_decoracao             1735\n",
              "                                           ... \n",
              "voucher       livros_importados               2\n",
              "              moveis_colchao_e_estofado       2\n",
              "              fashion_esporte                 1\n",
              "              fashion_roupa_feminina          1\n",
              "              pc_gamer                        1\n",
              "Name: product_category_name, Length: 274, dtype: int64"
            ]
          },
          "metadata": {
            "tags": []
          },
          "execution_count": 78
        }
      ]
    },
    {
      "cell_type": "code",
      "metadata": {
        "colab": {
          "base_uri": "https://localhost:8080/",
          "height": 450
        },
        "id": "3l1OWvjf5S8U",
        "outputId": "0f61a37f-c9de-4d3c-f99c-ca6ea3d8d7e3"
      },
      "source": [
        "articulos_pagos_df = pd.DataFrame(articulos_por_tipos_pagos)\n",
        "articulos_pagos_df"
      ],
      "execution_count": null,
      "outputs": [
        {
          "output_type": "execute_result",
          "data": {
            "text/html": [
              "<div>\n",
              "<style scoped>\n",
              "    .dataframe tbody tr th:only-of-type {\n",
              "        vertical-align: middle;\n",
              "    }\n",
              "\n",
              "    .dataframe tbody tr th {\n",
              "        vertical-align: top;\n",
              "    }\n",
              "\n",
              "    .dataframe thead th {\n",
              "        text-align: right;\n",
              "    }\n",
              "</style>\n",
              "<table border=\"1\" class=\"dataframe\">\n",
              "  <thead>\n",
              "    <tr style=\"text-align: right;\">\n",
              "      <th></th>\n",
              "      <th></th>\n",
              "      <th>product_category_name</th>\n",
              "    </tr>\n",
              "    <tr>\n",
              "      <th>payment_type</th>\n",
              "      <th>product_category_name</th>\n",
              "      <th></th>\n",
              "    </tr>\n",
              "  </thead>\n",
              "  <tbody>\n",
              "    <tr>\n",
              "      <th rowspan=\"5\" valign=\"top\">boleto</th>\n",
              "      <th>informatica_acessorios</th>\n",
              "      <td>2158</td>\n",
              "    </tr>\n",
              "    <tr>\n",
              "      <th>cama_mesa_banho</th>\n",
              "      <td>1875</td>\n",
              "    </tr>\n",
              "    <tr>\n",
              "      <th>beleza_saude</th>\n",
              "      <td>1860</td>\n",
              "    </tr>\n",
              "    <tr>\n",
              "      <th>esporte_lazer</th>\n",
              "      <td>1772</td>\n",
              "    </tr>\n",
              "    <tr>\n",
              "      <th>moveis_decoracao</th>\n",
              "      <td>1735</td>\n",
              "    </tr>\n",
              "    <tr>\n",
              "      <th>...</th>\n",
              "      <th>...</th>\n",
              "      <td>...</td>\n",
              "    </tr>\n",
              "    <tr>\n",
              "      <th rowspan=\"5\" valign=\"top\">voucher</th>\n",
              "      <th>livros_importados</th>\n",
              "      <td>2</td>\n",
              "    </tr>\n",
              "    <tr>\n",
              "      <th>moveis_colchao_e_estofado</th>\n",
              "      <td>2</td>\n",
              "    </tr>\n",
              "    <tr>\n",
              "      <th>fashion_esporte</th>\n",
              "      <td>1</td>\n",
              "    </tr>\n",
              "    <tr>\n",
              "      <th>fashion_roupa_feminina</th>\n",
              "      <td>1</td>\n",
              "    </tr>\n",
              "    <tr>\n",
              "      <th>pc_gamer</th>\n",
              "      <td>1</td>\n",
              "    </tr>\n",
              "  </tbody>\n",
              "</table>\n",
              "<p>274 rows × 1 columns</p>\n",
              "</div>"
            ],
            "text/plain": [
              "                                        product_category_name\n",
              "payment_type product_category_name                           \n",
              "boleto       informatica_acessorios                      2158\n",
              "             cama_mesa_banho                             1875\n",
              "             beleza_saude                                1860\n",
              "             esporte_lazer                               1772\n",
              "             moveis_decoracao                            1735\n",
              "...                                                       ...\n",
              "voucher      livros_importados                              2\n",
              "             moveis_colchao_e_estofado                      2\n",
              "             fashion_esporte                                1\n",
              "             fashion_roupa_feminina                         1\n",
              "             pc_gamer                                       1\n",
              "\n",
              "[274 rows x 1 columns]"
            ]
          },
          "metadata": {
            "tags": []
          },
          "execution_count": 80
        }
      ]
    },
    {
      "cell_type": "code",
      "metadata": {
        "colab": {
          "base_uri": "https://localhost:8080/",
          "height": 235
        },
        "id": "cUO7GyrJ5xpH",
        "outputId": "31403f8e-4b38-4673-a140-b49f832d07d3"
      },
      "source": [
        "boleto = articulos_pagos_df.loc['boleto'].head()\n",
        "boleto"
      ],
      "execution_count": null,
      "outputs": [
        {
          "output_type": "execute_result",
          "data": {
            "text/html": [
              "<div>\n",
              "<style scoped>\n",
              "    .dataframe tbody tr th:only-of-type {\n",
              "        vertical-align: middle;\n",
              "    }\n",
              "\n",
              "    .dataframe tbody tr th {\n",
              "        vertical-align: top;\n",
              "    }\n",
              "\n",
              "    .dataframe thead th {\n",
              "        text-align: right;\n",
              "    }\n",
              "</style>\n",
              "<table border=\"1\" class=\"dataframe\">\n",
              "  <thead>\n",
              "    <tr style=\"text-align: right;\">\n",
              "      <th></th>\n",
              "      <th>product_category_name</th>\n",
              "    </tr>\n",
              "    <tr>\n",
              "      <th>product_category_name</th>\n",
              "      <th></th>\n",
              "    </tr>\n",
              "  </thead>\n",
              "  <tbody>\n",
              "    <tr>\n",
              "      <th>informatica_acessorios</th>\n",
              "      <td>2158</td>\n",
              "    </tr>\n",
              "    <tr>\n",
              "      <th>cama_mesa_banho</th>\n",
              "      <td>1875</td>\n",
              "    </tr>\n",
              "    <tr>\n",
              "      <th>beleza_saude</th>\n",
              "      <td>1860</td>\n",
              "    </tr>\n",
              "    <tr>\n",
              "      <th>esporte_lazer</th>\n",
              "      <td>1772</td>\n",
              "    </tr>\n",
              "    <tr>\n",
              "      <th>moveis_decoracao</th>\n",
              "      <td>1735</td>\n",
              "    </tr>\n",
              "  </tbody>\n",
              "</table>\n",
              "</div>"
            ],
            "text/plain": [
              "                        product_category_name\n",
              "product_category_name                        \n",
              "informatica_acessorios                   2158\n",
              "cama_mesa_banho                          1875\n",
              "beleza_saude                             1860\n",
              "esporte_lazer                            1772\n",
              "moveis_decoracao                         1735"
            ]
          },
          "metadata": {
            "tags": []
          },
          "execution_count": 108
        }
      ]
    },
    {
      "cell_type": "code",
      "metadata": {
        "colab": {
          "base_uri": "https://localhost:8080/",
          "height": 235
        },
        "id": "v6zmj8_X6nOq",
        "outputId": "f3802227-2297-4547-cde3-cc0ef8706fab"
      },
      "source": [
        "tarjeta_credito = articulos_pagos_df.loc['credit_card'].head()\n",
        "tarjeta_credito"
      ],
      "execution_count": null,
      "outputs": [
        {
          "output_type": "execute_result",
          "data": {
            "text/html": [
              "<div>\n",
              "<style scoped>\n",
              "    .dataframe tbody tr th:only-of-type {\n",
              "        vertical-align: middle;\n",
              "    }\n",
              "\n",
              "    .dataframe tbody tr th {\n",
              "        vertical-align: top;\n",
              "    }\n",
              "\n",
              "    .dataframe thead th {\n",
              "        text-align: right;\n",
              "    }\n",
              "</style>\n",
              "<table border=\"1\" class=\"dataframe\">\n",
              "  <thead>\n",
              "    <tr style=\"text-align: right;\">\n",
              "      <th></th>\n",
              "      <th>product_category_name</th>\n",
              "    </tr>\n",
              "    <tr>\n",
              "      <th>product_category_name</th>\n",
              "      <th></th>\n",
              "    </tr>\n",
              "  </thead>\n",
              "  <tbody>\n",
              "    <tr>\n",
              "      <th>cama_mesa_banho</th>\n",
              "      <td>8959</td>\n",
              "    </tr>\n",
              "    <tr>\n",
              "      <th>beleza_saude</th>\n",
              "      <td>7566</td>\n",
              "    </tr>\n",
              "    <tr>\n",
              "      <th>esporte_lazer</th>\n",
              "      <td>6635</td>\n",
              "    </tr>\n",
              "    <tr>\n",
              "      <th>moveis_decoracao</th>\n",
              "      <td>6379</td>\n",
              "    </tr>\n",
              "    <tr>\n",
              "      <th>informatica_acessorios</th>\n",
              "      <td>5436</td>\n",
              "    </tr>\n",
              "  </tbody>\n",
              "</table>\n",
              "</div>"
            ],
            "text/plain": [
              "                        product_category_name\n",
              "product_category_name                        \n",
              "cama_mesa_banho                          8959\n",
              "beleza_saude                             7566\n",
              "esporte_lazer                            6635\n",
              "moveis_decoracao                         6379\n",
              "informatica_acessorios                   5436"
            ]
          },
          "metadata": {
            "tags": []
          },
          "execution_count": 109
        }
      ]
    },
    {
      "cell_type": "code",
      "metadata": {
        "colab": {
          "base_uri": "https://localhost:8080/",
          "height": 235
        },
        "id": "n9Cqw2CL8aqP",
        "outputId": "3520ad7a-73b1-4b6a-c7ec-9271cf17d95a"
      },
      "source": [
        "voucher = articulos_pagos_df.loc['voucher'].head()\n",
        "voucher"
      ],
      "execution_count": null,
      "outputs": [
        {
          "output_type": "execute_result",
          "data": {
            "text/html": [
              "<div>\n",
              "<style scoped>\n",
              "    .dataframe tbody tr th:only-of-type {\n",
              "        vertical-align: middle;\n",
              "    }\n",
              "\n",
              "    .dataframe tbody tr th {\n",
              "        vertical-align: top;\n",
              "    }\n",
              "\n",
              "    .dataframe thead th {\n",
              "        text-align: right;\n",
              "    }\n",
              "</style>\n",
              "<table border=\"1\" class=\"dataframe\">\n",
              "  <thead>\n",
              "    <tr style=\"text-align: right;\">\n",
              "      <th></th>\n",
              "      <th>product_category_name</th>\n",
              "    </tr>\n",
              "    <tr>\n",
              "      <th>product_category_name</th>\n",
              "      <th></th>\n",
              "    </tr>\n",
              "  </thead>\n",
              "  <tbody>\n",
              "    <tr>\n",
              "      <th>cama_mesa_banho</th>\n",
              "      <td>847</td>\n",
              "    </tr>\n",
              "    <tr>\n",
              "      <th>moveis_decoracao</th>\n",
              "      <td>530</td>\n",
              "    </tr>\n",
              "    <tr>\n",
              "      <th>utilidades_domesticas</th>\n",
              "      <td>505</td>\n",
              "    </tr>\n",
              "    <tr>\n",
              "      <th>esporte_lazer</th>\n",
              "      <td>411</td>\n",
              "    </tr>\n",
              "    <tr>\n",
              "      <th>beleza_saude</th>\n",
              "      <td>389</td>\n",
              "    </tr>\n",
              "  </tbody>\n",
              "</table>\n",
              "</div>"
            ],
            "text/plain": [
              "                       product_category_name\n",
              "product_category_name                       \n",
              "cama_mesa_banho                          847\n",
              "moveis_decoracao                         530\n",
              "utilidades_domesticas                    505\n",
              "esporte_lazer                            411\n",
              "beleza_saude                             389"
            ]
          },
          "metadata": {
            "tags": []
          },
          "execution_count": 110
        }
      ]
    },
    {
      "cell_type": "code",
      "metadata": {
        "colab": {
          "base_uri": "https://localhost:8080/",
          "height": 235
        },
        "id": "Pb5Jii838gri",
        "outputId": "cae2acf1-a146-4790-8774-e469c16cac9d"
      },
      "source": [
        "tarjeta_debito = articulos_pagos_df.loc['debit_card'].head()\n",
        "tarjeta_debito"
      ],
      "execution_count": null,
      "outputs": [
        {
          "output_type": "execute_result",
          "data": {
            "text/html": [
              "<div>\n",
              "<style scoped>\n",
              "    .dataframe tbody tr th:only-of-type {\n",
              "        vertical-align: middle;\n",
              "    }\n",
              "\n",
              "    .dataframe tbody tr th {\n",
              "        vertical-align: top;\n",
              "    }\n",
              "\n",
              "    .dataframe thead th {\n",
              "        text-align: right;\n",
              "    }\n",
              "</style>\n",
              "<table border=\"1\" class=\"dataframe\">\n",
              "  <thead>\n",
              "    <tr style=\"text-align: right;\">\n",
              "      <th></th>\n",
              "      <th>product_category_name</th>\n",
              "    </tr>\n",
              "    <tr>\n",
              "      <th>product_category_name</th>\n",
              "      <th></th>\n",
              "    </tr>\n",
              "  </thead>\n",
              "  <tbody>\n",
              "    <tr>\n",
              "      <th>beleza_saude</th>\n",
              "      <td>157</td>\n",
              "    </tr>\n",
              "    <tr>\n",
              "      <th>informatica_acessorios</th>\n",
              "      <td>148</td>\n",
              "    </tr>\n",
              "    <tr>\n",
              "      <th>cama_mesa_banho</th>\n",
              "      <td>142</td>\n",
              "    </tr>\n",
              "    <tr>\n",
              "      <th>esporte_lazer</th>\n",
              "      <td>127</td>\n",
              "    </tr>\n",
              "    <tr>\n",
              "      <th>utilidades_domesticas</th>\n",
              "      <td>113</td>\n",
              "    </tr>\n",
              "  </tbody>\n",
              "</table>\n",
              "</div>"
            ],
            "text/plain": [
              "                        product_category_name\n",
              "product_category_name                        \n",
              "beleza_saude                              157\n",
              "informatica_acessorios                    148\n",
              "cama_mesa_banho                           142\n",
              "esporte_lazer                             127\n",
              "utilidades_domesticas                     113"
            ]
          },
          "metadata": {
            "tags": []
          },
          "execution_count": 111
        }
      ]
    },
    {
      "cell_type": "markdown",
      "metadata": {
        "id": "x-0cISX2OUE1"
      },
      "source": [
        "### 4. Reseñas"
      ]
    },
    {
      "cell_type": "markdown",
      "metadata": {
        "id": "MKS7dva4n-bi"
      },
      "source": [
        "#### 4.1. Análisis de sentimientos"
      ]
    },
    {
      "cell_type": "code",
      "metadata": {
        "colab": {
          "base_uri": "https://localhost:8080/",
          "height": 204
        },
        "id": "CAHgZ3f4oDry",
        "outputId": "e616c8a9-4c13-449b-9c61-d0932ad8cf3b"
      },
      "source": [
        "reviews_clean.head()"
      ],
      "execution_count": null,
      "outputs": [
        {
          "output_type": "execute_result",
          "data": {
            "text/html": [
              "<div>\n",
              "<style scoped>\n",
              "    .dataframe tbody tr th:only-of-type {\n",
              "        vertical-align: middle;\n",
              "    }\n",
              "\n",
              "    .dataframe tbody tr th {\n",
              "        vertical-align: top;\n",
              "    }\n",
              "\n",
              "    .dataframe thead th {\n",
              "        text-align: right;\n",
              "    }\n",
              "</style>\n",
              "<table border=\"1\" class=\"dataframe\">\n",
              "  <thead>\n",
              "    <tr style=\"text-align: right;\">\n",
              "      <th></th>\n",
              "      <th>order_id</th>\n",
              "      <th>review_score</th>\n",
              "      <th>review_comment_title</th>\n",
              "      <th>review_comment_message</th>\n",
              "    </tr>\n",
              "  </thead>\n",
              "  <tbody>\n",
              "    <tr>\n",
              "      <th>0</th>\n",
              "      <td>73fc7af87114b39712e6da79b0a377eb</td>\n",
              "      <td>4</td>\n",
              "      <td>Unkown</td>\n",
              "      <td>Unkown</td>\n",
              "    </tr>\n",
              "    <tr>\n",
              "      <th>1</th>\n",
              "      <td>a548910a1c6147796b98fdf73dbeba33</td>\n",
              "      <td>5</td>\n",
              "      <td>Unkown</td>\n",
              "      <td>Unkown</td>\n",
              "    </tr>\n",
              "    <tr>\n",
              "      <th>2</th>\n",
              "      <td>f9e4b658b201a9f2ecdecbb34bed034b</td>\n",
              "      <td>5</td>\n",
              "      <td>Unkown</td>\n",
              "      <td>Unkown</td>\n",
              "    </tr>\n",
              "    <tr>\n",
              "      <th>3</th>\n",
              "      <td>658677c97b385a9be170737859d3511b</td>\n",
              "      <td>5</td>\n",
              "      <td>Unkown</td>\n",
              "      <td>Recebi bem antes do prazo estipulado.</td>\n",
              "    </tr>\n",
              "    <tr>\n",
              "      <th>4</th>\n",
              "      <td>8e6bfb81e283fa7e4f11123a3fb894f1</td>\n",
              "      <td>5</td>\n",
              "      <td>Unkown</td>\n",
              "      <td>Parabéns lojas lannister adorei comprar pela I...</td>\n",
              "    </tr>\n",
              "  </tbody>\n",
              "</table>\n",
              "</div>"
            ],
            "text/plain": [
              "                           order_id  ...                             review_comment_message\n",
              "0  73fc7af87114b39712e6da79b0a377eb  ...                                             Unkown\n",
              "1  a548910a1c6147796b98fdf73dbeba33  ...                                             Unkown\n",
              "2  f9e4b658b201a9f2ecdecbb34bed034b  ...                                             Unkown\n",
              "3  658677c97b385a9be170737859d3511b  ...              Recebi bem antes do prazo estipulado.\n",
              "4  8e6bfb81e283fa7e4f11123a3fb894f1  ...  Parabéns lojas lannister adorei comprar pela I...\n",
              "\n",
              "[5 rows x 4 columns]"
            ]
          },
          "metadata": {
            "tags": []
          },
          "execution_count": 240
        }
      ]
    },
    {
      "cell_type": "code",
      "metadata": {
        "colab": {
          "base_uri": "https://localhost:8080/"
        },
        "id": "IsX7E0HtSq03",
        "outputId": "d4f20dcf-9ed5-44b3-a07d-34ff8a63e165"
      },
      "source": [
        "!pip install TextBlob"
      ],
      "execution_count": null,
      "outputs": [
        {
          "output_type": "stream",
          "text": [
            "Requirement already satisfied: TextBlob in /usr/local/lib/python3.7/dist-packages (0.15.3)\n",
            "Requirement already satisfied: nltk>=3.1 in /usr/local/lib/python3.7/dist-packages (from TextBlob) (3.2.5)\n",
            "Requirement already satisfied: six in /usr/local/lib/python3.7/dist-packages (from nltk>=3.1->TextBlob) (1.15.0)\n"
          ],
          "name": "stdout"
        }
      ]
    },
    {
      "cell_type": "code",
      "metadata": {
        "id": "Hpi2fEaXSMEL"
      },
      "source": [
        "from textblob import TextBlob"
      ],
      "execution_count": null,
      "outputs": []
    },
    {
      "cell_type": "code",
      "metadata": {
        "id": "95Dieb0-SQPv"
      },
      "source": [
        "grouped_by_title = reviews_clean.groupby('review_comment_title')['review_comment_message'].max()\n",
        "grouped_by_title = grouped_by_title.str.lower()\n",
        "grouped_by_title = grouped_by_title.str.strip()\n",
        "grouped_by_title = grouped_by_title.str.replace('[^\\w\\s]', '')\n",
        "grouped_by_title = grouped_by_title.str.replace('\\d', '')\n",
        "grouped_by_title = grouped_by_title.str.replace('\\\\n', '')\n",
        "grouped_by_title = grouped_by_title.dropna()"
      ],
      "execution_count": null,
      "outputs": []
    },
    {
      "cell_type": "code",
      "metadata": {
        "id": "6006oCZsTfYH"
      },
      "source": [
        "polarity = grouped_by_title.apply(lambda x: TextBlob(x).sentiment.polarity)\n",
        "polarity.name = 'polarity'"
      ],
      "execution_count": null,
      "outputs": []
    },
    {
      "cell_type": "code",
      "metadata": {
        "id": "cZxm0TvTTrLd"
      },
      "source": [
        "df_with_polarity = pd.concat([grouped_by_title, polarity], axis=1)"
      ],
      "execution_count": null,
      "outputs": []
    },
    {
      "cell_type": "code",
      "metadata": {
        "colab": {
          "base_uri": "https://localhost:8080/"
        },
        "id": "a-vYHopvTvDx",
        "outputId": "950339d3-2c98-48a3-8be7-162feb62f8b5"
      },
      "source": [
        "df_with_polarity['polarity'] != 0"
      ],
      "execution_count": null,
      "outputs": [
        {
          "output_type": "execute_result",
          "data": {
            "text/plain": [
              "review_comment_title\n",
              "               False\n",
              " 10            False\n",
              " 4             False\n",
              " 5 estrelas    False\n",
              " Avaliando     False\n",
              "               ...  \n",
              "👍🏼             False\n",
              "👍🏽             False\n",
              "👍👍👍👍👍          False\n",
              "💥💥💥💥💥          False\n",
              "🔟              False\n",
              "Name: polarity, Length: 4601, dtype: bool"
            ]
          },
          "metadata": {
            "tags": []
          },
          "execution_count": 253
        }
      ]
    },
    {
      "cell_type": "code",
      "metadata": {
        "id": "oTdCj5tiTzcm"
      },
      "source": [
        "no_neutral = df_with_polarity[df_with_polarity['polarity'] != 0]"
      ],
      "execution_count": null,
      "outputs": []
    },
    {
      "cell_type": "code",
      "metadata": {
        "colab": {
          "base_uri": "https://localhost:8080/",
          "height": 336
        },
        "id": "fbjWtSVnT1zp",
        "outputId": "74cb8497-eb66-4e9d-c5cc-09f3c46156ba"
      },
      "source": [
        "sns.distplot(no_neutral['polarity'], kde=False, norm_hist=False);"
      ],
      "execution_count": null,
      "outputs": [
        {
          "output_type": "stream",
          "text": [
            "/usr/local/lib/python3.7/dist-packages/seaborn/distributions.py:2557: FutureWarning: `distplot` is a deprecated function and will be removed in a future version. Please adapt your code to use either `displot` (a figure-level function with similar flexibility) or `histplot` (an axes-level function for histograms).\n",
            "  warnings.warn(msg, FutureWarning)\n"
          ],
          "name": "stderr"
        },
        {
          "output_type": "display_data",
          "data": {
            "image/png": "[encoded data removed]",
            "text/plain": [
              "<Figure size 432x288 with 1 Axes>"
            ]
          },
          "metadata": {
            "tags": [],
            "needs_background": "light"
          }
        }
      ]
    },
    {
      "cell_type": "code",
      "metadata": {
        "colab": {
          "base_uri": "https://localhost:8080/",
          "height": 333
        },
        "id": "j9vFQm5oT4Yf",
        "outputId": "9ec92eae-9050-45a8-c07a-2668c1e11933"
      },
      "source": [
        "sns.boxplot(no_neutral['polarity']);"
      ],
      "execution_count": null,
      "outputs": [
        {
          "output_type": "stream",
          "text": [
            "/usr/local/lib/python3.7/dist-packages/seaborn/_decorators.py:43: FutureWarning: Pass the following variable as a keyword arg: x. From version 0.12, the only valid positional argument will be `data`, and passing other arguments without an explicit keyword will result in an error or misinterpretation.\n",
            "  FutureWarning\n"
          ],
          "name": "stderr"
        },
        {
          "output_type": "display_data",
          "data": {
            "image/png": "[encoded data removed]",
            "text/plain": [
              "<Figure size 432x288 with 1 Axes>"
            ]
          },
          "metadata": {
            "tags": [],
            "needs_background": "light"
          }
        }
      ]
    },
    {
      "cell_type": "code",
      "metadata": {
        "colab": {
          "base_uri": "https://localhost:8080/"
        },
        "id": "7aiWcMeWT6vX",
        "outputId": "5433906c-8cbd-4b34-b67b-32c450f8cd03"
      },
      "source": [
        "no_neutral[no_neutral['polarity'] > 0.75]['review_comment_message']"
      ],
      "execution_count": null,
      "outputs": [
        {
          "output_type": "execute_result",
          "data": {
            "text/plain": [
              "review_comment_title\n",
              "Celular para uso simples     foi comprado para meu cunhado utilizalo no dia...\n",
              "Falta quantia                        eu comprei duas bonecas lol é só veio uma\n",
              "Gostei do bolso externo           o bolso externo de zíper é ideal para moedas\n",
              "Gostei do produto.           a informação está clara mas é sempre bom lembr...\n",
              "Produto pequeno demais.      foi entregue mas produto muito aquem do solici...\n",
              "Satisfeito com o produto.    perfume de um aroma muito agradável ideal para...\n",
              "ÓTIMO PRODUTO                          produto de qualidade e no tamanho ideal\n",
              "Name: review_comment_message, dtype: object"
            ]
          },
          "metadata": {
            "tags": []
          },
          "execution_count": 258
        }
      ]
    },
    {
      "cell_type": "code",
      "metadata": {
        "colab": {
          "base_uri": "https://localhost:8080/"
        },
        "id": "cZ-6YMDqUO4c",
        "outputId": "e3a0adc0-0852-46c5-a889-03e6ff41f93c"
      },
      "source": [
        "# Sobre la puntuación de las reseñas\n",
        "reviews_clean['review_score'].unique()"
      ],
      "execution_count": null,
      "outputs": [
        {
          "output_type": "execute_result",
          "data": {
            "text/plain": [
              "array([4, 5, 1, 3, 2])"
            ]
          },
          "metadata": {
            "tags": []
          },
          "execution_count": 259
        }
      ]
    },
    {
      "cell_type": "code",
      "metadata": {
        "colab": {
          "base_uri": "https://localhost:8080/"
        },
        "id": "RID6eKLRUZr2",
        "outputId": "72068da5-060b-4414-fadd-5a468ce80b4e"
      },
      "source": [
        "puntuacion = reviews_clean.groupby('review_score')['order_id'].count()\n",
        "puntuacion"
      ],
      "execution_count": null,
      "outputs": [
        {
          "output_type": "execute_result",
          "data": {
            "text/plain": [
              "review_score\n",
              "1    11858\n",
              "2     3235\n",
              "3     8287\n",
              "4    19200\n",
              "5    57420\n",
              "Name: order_id, dtype: int64"
            ]
          },
          "metadata": {
            "tags": []
          },
          "execution_count": 260
        }
      ]
    },
    {
      "cell_type": "code",
      "metadata": {
        "colab": {
          "base_uri": "https://localhost:8080/",
          "height": 349
        },
        "id": "Rb07nXS1U45t",
        "outputId": "7f63b6e5-3684-4ac1-d3fc-3f12d5d98efc"
      },
      "source": [
        "ax = sns.barplot(puntuacion.index, puntuacion)\n",
        "ax.set_title('Puntuación de reseñas')\n",
        "ax.set(xlabel='Puntuación');\n",
        "ax.set(ylabel='count');"
      ],
      "execution_count": null,
      "outputs": [
        {
          "output_type": "stream",
          "text": [
            "/usr/local/lib/python3.7/dist-packages/seaborn/_decorators.py:43: FutureWarning: Pass the following variables as keyword args: x, y. From version 0.12, the only valid positional argument will be `data`, and passing other arguments without an explicit keyword will result in an error or misinterpretation.\n",
            "  FutureWarning\n"
          ],
          "name": "stderr"
        },
        {
          "output_type": "display_data",
          "data": {
            "image/png": "[encoded data removed]",
            "text/plain": [
              "<Figure size 432x288 with 1 Axes>"
            ]
          },
          "metadata": {
            "tags": [],
            "needs_background": "light"
          }
        }
      ]
    },
    {
      "cell_type": "markdown",
      "metadata": {
        "id": "nuL-5dB-oD75"
      },
      "source": [
        "#### 4.2. Estatus de envío"
      ]
    },
    {
      "cell_type": "code",
      "metadata": {
        "colab": {
          "base_uri": "https://localhost:8080/"
        },
        "id": "ZBBxRwjAoJKt",
        "outputId": "bd494eb2-89f4-4c8a-e1e3-9f60ccfef512"
      },
      "source": [
        "orders_clean['order_status'].unique()"
      ],
      "execution_count": null,
      "outputs": [
        {
          "output_type": "execute_result",
          "data": {
            "text/plain": [
              "array(['delivered', 'invoiced', 'shipped', 'processing', 'unavailable',\n",
              "       'canceled', 'created', 'approved'], dtype=object)"
            ]
          },
          "metadata": {
            "tags": []
          },
          "execution_count": 263
        }
      ]
    },
    {
      "cell_type": "code",
      "metadata": {
        "colab": {
          "base_uri": "https://localhost:8080/"
        },
        "id": "IVJdBKURVcrT",
        "outputId": "4364bec3-9ebb-4f9e-c66b-cb01cc19848b"
      },
      "source": [
        "estatus = orders_clean.groupby('order_status')['order_id'].count()\n",
        "estatus"
      ],
      "execution_count": null,
      "outputs": [
        {
          "output_type": "execute_result",
          "data": {
            "text/plain": [
              "order_status\n",
              "approved           2\n",
              "canceled         625\n",
              "created            5\n",
              "delivered      96478\n",
              "invoiced         314\n",
              "processing       301\n",
              "shipped         1107\n",
              "unavailable      609\n",
              "Name: order_id, dtype: int64"
            ]
          },
          "metadata": {
            "tags": []
          },
          "execution_count": 264
        }
      ]
    },
    {
      "cell_type": "code",
      "metadata": {
        "colab": {
          "base_uri": "https://localhost:8080/",
          "height": 349
        },
        "id": "LNRgE9PyVvAx",
        "outputId": "61694d65-10f6-4a0f-e3f9-98b6ebe2c683"
      },
      "source": [
        "ax = sns.barplot(estatus, estatus.index, orient = 'h')\n",
        "ax.set_title('Estatus de las órdenes')\n",
        "ax.set(xlabel='Estatus');\n",
        "ax.set(ylabel='count');"
      ],
      "execution_count": null,
      "outputs": [
        {
          "output_type": "stream",
          "text": [
            "/usr/local/lib/python3.7/dist-packages/seaborn/_decorators.py:43: FutureWarning: Pass the following variables as keyword args: x, y. From version 0.12, the only valid positional argument will be `data`, and passing other arguments without an explicit keyword will result in an error or misinterpretation.\n",
            "  FutureWarning\n"
          ],
          "name": "stderr"
        },
        {
          "output_type": "display_data",
          "data": {
            "image/png": "[encoded data removed]",
            "text/plain": [
              "<Figure size 432x288 with 1 Axes>"
            ]
          },
          "metadata": {
            "tags": [],
            "needs_background": "light"
          }
        }
      ]
    },
    {
      "cell_type": "markdown",
      "metadata": {
        "id": "6s8bkVIKOWhi"
      },
      "source": [
        "### 5. Modelo"
      ]
    },
    {
      "cell_type": "code",
      "metadata": {
        "colab": {
          "base_uri": "https://localhost:8080/",
          "height": 224
        },
        "id": "KJ3k6t4b57wF",
        "outputId": "c17a2ab8-ba4d-4511-f424-4aa6e698f83f"
      },
      "source": [
        "deals_clean.head()"
      ],
      "execution_count": null,
      "outputs": [
        {
          "output_type": "execute_result",
          "data": {
            "text/html": [
              "<div>\n",
              "<style scoped>\n",
              "    .dataframe tbody tr th:only-of-type {\n",
              "        vertical-align: middle;\n",
              "    }\n",
              "\n",
              "    .dataframe tbody tr th {\n",
              "        vertical-align: top;\n",
              "    }\n",
              "\n",
              "    .dataframe thead th {\n",
              "        text-align: right;\n",
              "    }\n",
              "</style>\n",
              "<table border=\"1\" class=\"dataframe\">\n",
              "  <thead>\n",
              "    <tr style=\"text-align: right;\">\n",
              "      <th></th>\n",
              "      <th>mql_id</th>\n",
              "      <th>seller_id</th>\n",
              "      <th>business_segment</th>\n",
              "      <th>lead_type</th>\n",
              "      <th>lead_behaviour_profile</th>\n",
              "      <th>has_company</th>\n",
              "      <th>business_type</th>\n",
              "      <th>declared_monthly_revenue</th>\n",
              "    </tr>\n",
              "  </thead>\n",
              "  <tbody>\n",
              "    <tr>\n",
              "      <th>0</th>\n",
              "      <td>5420aad7fec3549a85876ba1c529bd84</td>\n",
              "      <td>2c43fb513632d29b3b58df74816f1b06</td>\n",
              "      <td>pet</td>\n",
              "      <td>online_medium</td>\n",
              "      <td>cat</td>\n",
              "      <td>False</td>\n",
              "      <td>reseller</td>\n",
              "      <td>0</td>\n",
              "    </tr>\n",
              "    <tr>\n",
              "      <th>1</th>\n",
              "      <td>a555fb36b9368110ede0f043dfc3b9a0</td>\n",
              "      <td>bbb7d7893a450660432ea6652310ebb7</td>\n",
              "      <td>car_accessories</td>\n",
              "      <td>industry</td>\n",
              "      <td>eagle</td>\n",
              "      <td>False</td>\n",
              "      <td>reseller</td>\n",
              "      <td>0</td>\n",
              "    </tr>\n",
              "    <tr>\n",
              "      <th>2</th>\n",
              "      <td>327174d3648a2d047e8940d7d15204ca</td>\n",
              "      <td>612170e34b97004b3ba37eae81836b4c</td>\n",
              "      <td>home_appliances</td>\n",
              "      <td>online_big</td>\n",
              "      <td>cat</td>\n",
              "      <td>False</td>\n",
              "      <td>reseller</td>\n",
              "      <td>0</td>\n",
              "    </tr>\n",
              "    <tr>\n",
              "      <th>3</th>\n",
              "      <td>f5fee8f7da74f4887f5bcae2bafb6dd6</td>\n",
              "      <td>21e1781e36faf92725dde4730a88ca0f</td>\n",
              "      <td>food_drink</td>\n",
              "      <td>online_small</td>\n",
              "      <td>Unknown</td>\n",
              "      <td>False</td>\n",
              "      <td>reseller</td>\n",
              "      <td>0</td>\n",
              "    </tr>\n",
              "    <tr>\n",
              "      <th>4</th>\n",
              "      <td>ffe640179b554e295c167a2f6be528e0</td>\n",
              "      <td>ed8cb7b190ceb6067227478e48cf8dde</td>\n",
              "      <td>home_appliances</td>\n",
              "      <td>industry</td>\n",
              "      <td>wolf</td>\n",
              "      <td>False</td>\n",
              "      <td>manufacturer</td>\n",
              "      <td>0</td>\n",
              "    </tr>\n",
              "  </tbody>\n",
              "</table>\n",
              "</div>"
            ],
            "text/plain": [
              "                             mql_id  ... declared_monthly_revenue\n",
              "0  5420aad7fec3549a85876ba1c529bd84  ...                        0\n",
              "1  a555fb36b9368110ede0f043dfc3b9a0  ...                        0\n",
              "2  327174d3648a2d047e8940d7d15204ca  ...                        0\n",
              "3  f5fee8f7da74f4887f5bcae2bafb6dd6  ...                        0\n",
              "4  ffe640179b554e295c167a2f6be528e0  ...                        0\n",
              "\n",
              "[5 rows x 8 columns]"
            ]
          },
          "metadata": {
            "tags": []
          },
          "execution_count": 273
        }
      ]
    },
    {
      "cell_type": "code",
      "metadata": {
        "colab": {
          "base_uri": "https://localhost:8080/"
        },
        "id": "I9ajH-V0awR9",
        "outputId": "5947df00-1781-4b2c-d6e4-4f5b12379211"
      },
      "source": [
        "deals_clean['has_company'].unique()"
      ],
      "execution_count": null,
      "outputs": [
        {
          "output_type": "execute_result",
          "data": {
            "text/plain": [
              "array([False,  True])"
            ]
          },
          "metadata": {
            "tags": []
          },
          "execution_count": 275
        }
      ]
    },
    {
      "cell_type": "code",
      "metadata": {
        "colab": {
          "base_uri": "https://localhost:8080/",
          "height": 111
        },
        "id": "Fb8u-O-uY2Hv",
        "outputId": "df543bc6-ead0-4e02-e761-f0fd7dbebf09"
      },
      "source": [
        "deals_clean.corr()"
      ],
      "execution_count": null,
      "outputs": [
        {
          "output_type": "execute_result",
          "data": {
            "text/html": [
              "<div>\n",
              "<style scoped>\n",
              "    .dataframe tbody tr th:only-of-type {\n",
              "        vertical-align: middle;\n",
              "    }\n",
              "\n",
              "    .dataframe tbody tr th {\n",
              "        vertical-align: top;\n",
              "    }\n",
              "\n",
              "    .dataframe thead th {\n",
              "        text-align: right;\n",
              "    }\n",
              "</style>\n",
              "<table border=\"1\" class=\"dataframe\">\n",
              "  <thead>\n",
              "    <tr style=\"text-align: right;\">\n",
              "      <th></th>\n",
              "      <th>has_company</th>\n",
              "      <th>declared_monthly_revenue</th>\n",
              "    </tr>\n",
              "  </thead>\n",
              "  <tbody>\n",
              "    <tr>\n",
              "      <th>has_company</th>\n",
              "      <td>1.000000</td>\n",
              "      <td>0.015617</td>\n",
              "    </tr>\n",
              "    <tr>\n",
              "      <th>declared_monthly_revenue</th>\n",
              "      <td>0.015617</td>\n",
              "      <td>1.000000</td>\n",
              "    </tr>\n",
              "  </tbody>\n",
              "</table>\n",
              "</div>"
            ],
            "text/plain": [
              "                          has_company  declared_monthly_revenue\n",
              "has_company                  1.000000                  0.015617\n",
              "declared_monthly_revenue     0.015617                  1.000000"
            ]
          },
          "metadata": {
            "tags": []
          },
          "execution_count": 274
        }
      ]
    },
    {
      "cell_type": "code",
      "metadata": {
        "colab": {
          "base_uri": "https://localhost:8080/",
          "height": 452
        },
        "id": "kcQ75QtEbF0s",
        "outputId": "a0750390-cada-4e27-b891-d104305bf292"
      },
      "source": [
        "plt.figure(figsize=(8, 7))\n",
        "ax = sns.heatmap(deals_clean.corr(), vmin=-1, vmax=1, annot=True, cmap=\"YlGnBu\", linewidths=.5);"
      ],
      "execution_count": null,
      "outputs": [
        {
          "output_type": "display_data",
          "data": {
            "image/png": "[encoded data removed]",
            "text/plain": [
              "<Figure size 576x504 with 2 Axes>"
            ]
          },
          "metadata": {
            "tags": [],
            "needs_background": "light"
          }
        }
      ]
    },
    {
      "cell_type": "code",
      "metadata": {
        "colab": {
          "base_uri": "https://localhost:8080/",
          "height": 204
        },
        "id": "6fUG1cboc-VC",
        "outputId": "2a1cf418-2017-4fcf-b37f-cc824cf68cf3"
      },
      "source": [
        "nuevo_deals_clean = deals_clean.drop(columns=['mql_id', 'seller_id', 'business_segment', 'lead_type', 'lead_behaviour_profile', 'business_type'])\n",
        "nuevo_deals_clean.head()"
      ],
      "execution_count": null,
      "outputs": [
        {
          "output_type": "execute_result",
          "data": {
            "text/html": [
              "<div>\n",
              "<style scoped>\n",
              "    .dataframe tbody tr th:only-of-type {\n",
              "        vertical-align: middle;\n",
              "    }\n",
              "\n",
              "    .dataframe tbody tr th {\n",
              "        vertical-align: top;\n",
              "    }\n",
              "\n",
              "    .dataframe thead th {\n",
              "        text-align: right;\n",
              "    }\n",
              "</style>\n",
              "<table border=\"1\" class=\"dataframe\">\n",
              "  <thead>\n",
              "    <tr style=\"text-align: right;\">\n",
              "      <th></th>\n",
              "      <th>has_company</th>\n",
              "      <th>declared_monthly_revenue</th>\n",
              "    </tr>\n",
              "  </thead>\n",
              "  <tbody>\n",
              "    <tr>\n",
              "      <th>0</th>\n",
              "      <td>False</td>\n",
              "      <td>0</td>\n",
              "    </tr>\n",
              "    <tr>\n",
              "      <th>1</th>\n",
              "      <td>False</td>\n",
              "      <td>0</td>\n",
              "    </tr>\n",
              "    <tr>\n",
              "      <th>2</th>\n",
              "      <td>False</td>\n",
              "      <td>0</td>\n",
              "    </tr>\n",
              "    <tr>\n",
              "      <th>3</th>\n",
              "      <td>False</td>\n",
              "      <td>0</td>\n",
              "    </tr>\n",
              "    <tr>\n",
              "      <th>4</th>\n",
              "      <td>False</td>\n",
              "      <td>0</td>\n",
              "    </tr>\n",
              "  </tbody>\n",
              "</table>\n",
              "</div>"
            ],
            "text/plain": [
              "   has_company  declared_monthly_revenue\n",
              "0        False                         0\n",
              "1        False                         0\n",
              "2        False                         0\n",
              "3        False                         0\n",
              "4        False                         0"
            ]
          },
          "metadata": {
            "tags": []
          },
          "execution_count": 289
        }
      ]
    },
    {
      "cell_type": "code",
      "metadata": {
        "id": "n81EotPSarM1"
      },
      "source": [
        "X = nuevo_deals_clean.drop(columns=['has_company'])\n",
        "y = nuevo_deals_clean['has_company']"
      ],
      "execution_count": null,
      "outputs": []
    },
    {
      "cell_type": "code",
      "metadata": {
        "id": "ZRJROz9Lcuu4"
      },
      "source": [
        "from sklearn.linear_model import LogisticRegression\n",
        "from sklearn.model_selection import train_test_split"
      ],
      "execution_count": null,
      "outputs": []
    },
    {
      "cell_type": "code",
      "metadata": {
        "id": "wEWAvn2Qc0LQ"
      },
      "source": [
        "X_train, X_test, y_train, y_test = train_test_split(X, y, test_size=0.3)"
      ],
      "execution_count": null,
      "outputs": []
    },
    {
      "cell_type": "code",
      "metadata": {
        "id": "qM_oueBfc2Rk"
      },
      "source": [
        "logreg = LogisticRegression()"
      ],
      "execution_count": null,
      "outputs": []
    },
    {
      "cell_type": "code",
      "metadata": {
        "colab": {
          "base_uri": "https://localhost:8080/"
        },
        "id": "j8dMqLtnc4Xr",
        "outputId": "760173d7-7199-4463-90d5-1a08890b6cd9"
      },
      "source": [
        "logreg.fit(X_train, y_train)"
      ],
      "execution_count": null,
      "outputs": [
        {
          "output_type": "execute_result",
          "data": {
            "text/plain": [
              "LogisticRegression(C=1.0, class_weight=None, dual=False, fit_intercept=True,\n",
              "                   intercept_scaling=1, l1_ratio=None, max_iter=100,\n",
              "                   multi_class='auto', n_jobs=None, penalty='l2',\n",
              "                   random_state=None, solver='lbfgs', tol=0.0001, verbose=0,\n",
              "                   warm_start=False)"
            ]
          },
          "metadata": {
            "tags": []
          },
          "execution_count": 294
        }
      ]
    },
    {
      "cell_type": "code",
      "metadata": {
        "colab": {
          "base_uri": "https://localhost:8080/"
        },
        "id": "MZKSmit_c5_E",
        "outputId": "2c28881d-2d43-49d6-83da-a49c0eaf7514"
      },
      "source": [
        "y_pred = logreg.predict(X_test)\n",
        "\n",
        "y_pred"
      ],
      "execution_count": null,
      "outputs": [
        {
          "output_type": "execute_result",
          "data": {
            "text/plain": [
              "array([False, False, False, False, False, False, False, False, False,\n",
              "       False, False, False, False, False, False, False, False, False,\n",
              "       False, False, False, False, False, False, False, False, False,\n",
              "       False, False, False, False, False, False, False, False, False,\n",
              "       False, False, False, False, False, False, False, False, False,\n",
              "       False, False, False, False, False, False, False, False, False,\n",
              "       False, False, False, False, False, False, False, False, False,\n",
              "       False, False, False, False, False, False, False, False, False,\n",
              "       False, False, False, False, False, False, False, False, False,\n",
              "       False, False, False, False, False, False, False, False, False,\n",
              "       False, False, False, False, False, False, False, False, False,\n",
              "       False, False, False, False, False, False, False, False, False,\n",
              "       False, False, False, False, False, False, False, False, False,\n",
              "       False, False, False, False, False, False, False, False, False,\n",
              "       False, False, False, False, False, False, False, False, False,\n",
              "       False, False, False, False, False, False, False, False, False,\n",
              "       False, False, False, False, False, False, False, False, False,\n",
              "       False, False, False, False, False, False, False, False, False,\n",
              "       False, False, False, False, False, False, False, False, False,\n",
              "       False, False, False, False, False, False, False, False, False,\n",
              "       False, False, False, False, False, False, False, False, False,\n",
              "       False, False, False, False, False, False, False, False, False,\n",
              "       False, False, False, False, False, False, False, False, False,\n",
              "       False, False, False, False, False, False, False, False, False,\n",
              "       False, False, False, False, False, False, False, False, False,\n",
              "       False, False, False, False, False, False, False, False, False,\n",
              "       False, False, False, False, False, False, False, False, False,\n",
              "       False, False, False, False, False, False, False, False, False,\n",
              "       False])"
            ]
          },
          "metadata": {
            "tags": []
          },
          "execution_count": 295
        }
      ]
    },
    {
      "cell_type": "code",
      "metadata": {
        "colab": {
          "base_uri": "https://localhost:8080/"
        },
        "id": "qR5wbHVbdqf_",
        "outputId": "2441a6de-c6b4-481f-f007-5e8368a8dd28"
      },
      "source": [
        "logreg.score(X_test, y_test)"
      ],
      "execution_count": null,
      "outputs": [
        {
          "output_type": "execute_result",
          "data": {
            "text/plain": [
              "0.9367588932806324"
            ]
          },
          "metadata": {
            "tags": []
          },
          "execution_count": 296
        }
      ]
    },
    {
      "cell_type": "code",
      "metadata": {
        "id": "NcFsm-FNdsr5"
      },
      "source": [
        "from sklearn import metrics"
      ],
      "execution_count": null,
      "outputs": []
    },
    {
      "cell_type": "code",
      "metadata": {
        "colab": {
          "base_uri": "https://localhost:8080/"
        },
        "id": "7B1gO8brd-_L",
        "outputId": "7098a0e9-2e75-43bc-81ce-c2ace978be09"
      },
      "source": [
        "cnf_matrix = metrics.confusion_matrix(y_test, y_pred)\n",
        "\n",
        "cnf_matrix"
      ],
      "execution_count": null,
      "outputs": [
        {
          "output_type": "execute_result",
          "data": {
            "text/plain": [
              "array([[237,   0],\n",
              "       [ 16,   0]])"
            ]
          },
          "metadata": {
            "tags": []
          },
          "execution_count": 298
        }
      ]
    },
    {
      "cell_type": "code",
      "metadata": {
        "colab": {
          "base_uri": "https://localhost:8080/",
          "height": 313
        },
        "id": "QLMsRxt9eAv2",
        "outputId": "2b8d1691-c02a-40a3-a0e2-4ca5ad940273"
      },
      "source": [
        "class_names=[0,1] # name  of classes\n",
        "fig, ax = plt.subplots(figsize=(4, 4))\n",
        "tick_marks = np.arange(len(class_names))\n",
        "plt.xticks(tick_marks, class_names)\n",
        "plt.yticks(tick_marks, class_names)\n",
        "# create heatmap\n",
        "sns.heatmap(pd.DataFrame(cnf_matrix), annot=True, cmap=\"Blues\" ,fmt='g', cbar=False, annot_kws={\"size\": 20})\n",
        "ax.xaxis.set_label_position(\"top\")\n",
        "plt.tight_layout()\n",
        "plt.ylabel('Realidad', fontsize=15, y=0.5)\n",
        "plt.xlabel('Estimado', fontsize=15);"
      ],
      "execution_count": null,
      "outputs": [
        {
          "output_type": "display_data",
          "data": {
            "image/png": "[encoded data removed]",
            "text/plain": [
              "<Figure size 288x288 with 1 Axes>"
            ]
          },
          "metadata": {
            "tags": [],
            "needs_background": "light"
          }
        }
      ]
    },
    {
      "cell_type": "code",
      "metadata": {
        "colab": {
          "base_uri": "https://localhost:8080/"
        },
        "id": "YRkPpUUKeEBe",
        "outputId": "7c4eb252-0c40-4636-960a-b9290e5fd008"
      },
      "source": [
        "tn, fp, fn, tp = cnf_matrix.ravel()\n",
        "\n",
        "print(\"Precision:\",metrics.precision_score(y_test, y_pred))\n",
        "print(\"Exactitud:\",metrics.accuracy_score(y_test, y_pred))\n",
        "print(\"Sensibilidad:\",metrics.recall_score(y_test, y_pred))\n",
        "print(\"Especificidad:\", tn / (tn + fp))"
      ],
      "execution_count": null,
      "outputs": [
        {
          "output_type": "stream",
          "text": [
            "Precision: 0.0\n",
            "Exactitud: 0.9367588932806324\n",
            "Sensibilidad: 0.0\n",
            "Especificidad: 1.0\n"
          ],
          "name": "stdout"
        },
        {
          "output_type": "stream",
          "text": [
            "/usr/local/lib/python3.7/dist-packages/sklearn/metrics/_classification.py:1272: UndefinedMetricWarning: Precision is ill-defined and being set to 0.0 due to no predicted samples. Use `zero_division` parameter to control this behavior.\n",
            "  _warn_prf(average, modifier, msg_start, len(result))\n"
          ],
          "name": "stderr"
        }
      ]
    },
    {
      "cell_type": "code",
      "metadata": {
        "colab": {
          "base_uri": "https://localhost:8080/"
        },
        "id": "9r0iUlO4eWPG",
        "outputId": "a01ccee9-499e-4725-f88e-999071972a87"
      },
      "source": [
        "y_pred_proba = logreg.predict_proba(X_test)\n",
        "\n",
        "y_pred_proba[:10,:]"
      ],
      "execution_count": null,
      "outputs": [
        {
          "output_type": "execute_result",
          "data": {
            "text/plain": [
              "array([[0.50163138, 0.49836862],\n",
              "       [0.5       , 0.5       ],\n",
              "       [0.5       , 0.5       ],\n",
              "       [0.5       , 0.5       ],\n",
              "       [0.5       , 0.5       ],\n",
              "       [0.5       , 0.5       ],\n",
              "       [0.5       , 0.5       ],\n",
              "       [0.5       , 0.5       ],\n",
              "       [0.5       , 0.5       ],\n",
              "       [0.5       , 0.5       ]])"
            ]
          },
          "metadata": {
            "tags": []
          },
          "execution_count": 301
        }
      ]
    },
    {
      "cell_type": "code",
      "metadata": {
        "id": "dcjv4W11eLvX"
      },
      "source": [
        "from sklearn.metrics import roc_curve, auc"
      ],
      "execution_count": null,
      "outputs": []
    },
    {
      "cell_type": "code",
      "metadata": {
        "id": "mWh2DYhSeYg9"
      },
      "source": [
        "fpr, tpr, _ = roc_curve(y_test, y_pred_proba[:, 1])\n",
        "roc_auc = auc(fpr, tpr)"
      ],
      "execution_count": null,
      "outputs": []
    },
    {
      "cell_type": "code",
      "metadata": {
        "colab": {
          "base_uri": "https://localhost:8080/",
          "height": 296
        },
        "id": "7na2r1zzeZ3Y",
        "outputId": "4bf8a25d-12c3-4128-b29d-19eec7fb55c2"
      },
      "source": [
        "plt.figure()\n",
        "plt.plot(fpr, tpr, color='darkorange',\n",
        "         label='ROC curve (area = %0.2f)' % roc_auc)\n",
        "plt.plot([0, 1], [0, 1], color='navy', linestyle='--')\n",
        "plt.xlim([0.0, 1.0])\n",
        "plt.ylim([0.0, 1.05])\n",
        "plt.xlabel('Proporción Positivos False')\n",
        "plt.ylabel('Proporción Positivos Verdaderos')\n",
        "plt.title('Curva ROC / AUC')\n",
        "plt.legend(loc=\"lower right\")\n",
        "plt.show()"
      ],
      "execution_count": null,
      "outputs": [
        {
          "output_type": "display_data",
          "data": {
            "image/png": "[encoded data removed]",
            "text/plain": [
              "<Figure size 432x288 with 1 Axes>"
            ]
          },
          "metadata": {
            "tags": [],
            "needs_background": "light"
          }
        }
      ]
    }
  ]
}